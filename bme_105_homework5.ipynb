{
 "cells": [
  {
   "cell_type": "markdown",
   "id": "d96e74fb",
   "metadata": {},
   "source": [
    "#### BME 105\n",
    "#### Spring 2023\n",
    "#### Homework Assignment 5"
   ]
  },
  {
   "cell_type": "markdown",
   "id": "77b93337",
   "metadata": {},
   "source": [
    "In this notebook, you will develop familiarity with Python lists and tuples. You will be provided with a function for computing the heart rate zone of a user that provides their age and a measured heart rate. You will also be provided with some simulated data in the form of a list of tuples. You will then be asked to output, augment, and sort the data that has been provided to you. "
   ]
  },
  {
   "cell_type": "markdown",
   "id": "ecc4c5e9",
   "metadata": {},
   "source": [
    "Here is the function for obtaining the heart rate zone that you should use to complete this homework. "
   ]
  },
  {
   "cell_type": "code",
   "execution_count": 1,
   "id": "bd6b18dd",
   "metadata": {},
   "outputs": [],
   "source": [
    "def get_hr_zone(age, measured_hr):\n",
    "    \n",
    "    max_hr = 220 - age\n",
    "    \n",
    "    # define the lower bound of each zone as a fraction of max hr\n",
    "    mins=[0.5,0.6,0.7,0.8,0.9]\n",
    "    \n",
    "    # define the upper bound of each zone as a fraction of max hr\n",
    "    maxs=[0.6,0.7,0.8,0.9,1]\n",
    "    \n",
    "    # initialize lists that will store the lower and upper bound of the heart rate zones\n",
    "    min_hrz=[0,0,0,0,0]\n",
    "    max_hrz=[0,0,0,0,0]\n",
    "    \n",
    "    # fill lower and upper bounds of heart rate zones\n",
    "    for i in range(5):\n",
    "        min_hrz[i] = round(mins[i]*max_hr)\n",
    "        max_hrz[i] = round(maxs[i]*max_hr)\n",
    "    \n",
    "    # compute which hr zone the user is in\n",
    "    if measured_hr in range(min_hrz[0], max_hrz[0]+1):\n",
    "        zone=1\n",
    "    elif measured_hr in range(min_hrz[1], max_hrz[1]+1):\n",
    "        zone=2\n",
    "    elif measured_hr in range(min_hrz[2], max_hrz[2]+1):\n",
    "        zone=3\n",
    "    elif measured_hr in range(min_hrz[3], max_hrz[3]+1):\n",
    "        zone=4\n",
    "    elif measured_hr in range(min_hrz[4], max_hrz[4]+1):\n",
    "        zone=5\n",
    "    else:\n",
    "        zone=0\n",
    "        \n",
    "    return zone"
   ]
  },
  {
   "cell_type": "markdown",
   "id": "2011ddb2",
   "metadata": {},
   "source": [
    "Here is some simulated data in the form of a list of length 6. Each element in the list is itself a tuple with 3 elements: a string user name, the user's age, and the user's measured heart rate. Below, you must use the list ```user_data``` as specified by the instructions.  "
   ]
  },
  {
   "cell_type": "code",
   "execution_count": 2,
   "id": "9dbcf87f",
   "metadata": {},
   "outputs": [],
   "source": [
    "user_data = [('Donny Kerabatsos',37,152), \n",
    "             ('Bunny Lebowski',21,160), \n",
    "             ('Jeffrey Lebowski',46,139), \n",
    "             ('Maude Lebowski',29,120), \n",
    "             ('Walter Sobchak',53,111), \n",
    "             ('Jackie Treehorn',48,170)]"
   ]
  },
  {
   "cell_type": "markdown",
   "id": "563a9abc",
   "metadata": {},
   "source": [
    "(1) For each user contained in ```user_data```, compute the user's heart rate zone.<br>\n",
    "Report the user's heart rate with a ```print``` statement of the form: <br>\n",
    "\"FirstName LastName is in zone X\" <br>\n",
    "where X is the computed heart rate zone. You should use a ```for``` loop for this task. "
   ]
  },
  {
   "cell_type": "code",
   "execution_count": null,
   "id": "a827b059",
   "metadata": {},
   "outputs": [],
   "source": []
  },
  {
   "cell_type": "markdown",
   "id": "ebba416b",
   "metadata": {},
   "source": [
    "(2) Create a new list and call it ```user_data_with_zone```. <br>\n",
    "Add a fourth element to the tuple of each list element, such that this fourth element now stores the heart rate zone of the user. The first three elements of each tuple should be identical to the list ```user_data```. For example, the first element of ```user_data_with_zone``` should be: <br>\n",
    "```('Donny Kerabatsos', 37, 152, 4)``` <br>\n",
    "Once you have constructed the new list, print out its contents to show the newly added."
   ]
  },
  {
   "cell_type": "code",
   "execution_count": null,
   "id": "58b25e66",
   "metadata": {},
   "outputs": [],
   "source": []
  },
  {
   "cell_type": "markdown",
   "id": "76d956dd",
   "metadata": {},
   "source": [
    "(3) Sort the elements of the list ```user_data_with_zone``` such that the elements are arranged in ascending order of the heart rate zone. _Hint_: you may find the ```key``` argument of the ```sorted``` function useful, along with the ```lambda``` keyword. "
   ]
  },
  {
   "cell_type": "code",
   "execution_count": null,
   "id": "0ac09781",
   "metadata": {},
   "outputs": [],
   "source": []
  },
  {
   "cell_type": "markdown",
   "id": "d69d2ea1",
   "metadata": {},
   "source": [
    "(4) Print out the elements of the sorted list as in Problem 1. The users should now appear in order of their heart rate zones. "
   ]
  },
  {
   "cell_type": "code",
   "execution_count": null,
   "id": "36730902",
   "metadata": {},
   "outputs": [],
   "source": []
  }
 ],
 "metadata": {
  "kernelspec": {
   "display_name": "Python 3 (ipykernel)",
   "language": "python",
   "name": "python3"
  },
  "language_info": {
   "codemirror_mode": {
    "name": "ipython",
    "version": 3
   },
   "file_extension": ".py",
   "mimetype": "text/x-python",
   "name": "python",
   "nbconvert_exporter": "python",
   "pygments_lexer": "ipython3",
   "version": "3.10.7"
  }
 },
 "nbformat": 4,
 "nbformat_minor": 5
}
