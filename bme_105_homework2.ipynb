{
 "cells": [
  {
   "cell_type": "markdown",
   "id": "d96e74fb",
   "metadata": {},
   "source": [
    "#### BME 105\n",
    "#### Spring 2023\n",
    "#### Homework Assignment 2"
   ]
  },
  {
   "cell_type": "markdown",
   "id": "77b93337",
   "metadata": {},
   "source": [
    "In this notebook, you will simulate a simple heart rate zone calculator. You will first ask the user for their age, as well as their \"measured\" heart rate. You will then use the provided inputs to compute the user's maximum heart rate, as well as to determine the heart rate zone that their age/heart rate fall into. \n",
    "\n",
    "The maximum heart rate is defined as: <br>\n",
    "```maximum heart rate = 220 - age``` <br>\n",
    "\n",
    "The four heart rate zones are defined as: <br>\n",
    "* Zone 2: 60-70 % of maximum heart rate \n",
    "* Zone 3: 70-80 % of maximum heart rate \n",
    "* Zone 4: 80-90 % of maximum heart rate \n",
    "* Zone 5: 90-100 % of maximum heart rate\n",
    "\n",
    "Please follow the instructions below by filling in the cells with the appropriate Python statements. "
   ]
  },
  {
   "cell_type": "markdown",
   "id": "542bd752",
   "metadata": {},
   "source": [
    "(1) In the next cell, prompt the user to enter their age. Store their age as an integer variable."
   ]
  },
  {
   "cell_type": "code",
   "execution_count": null,
   "id": "f724ec31",
   "metadata": {},
   "outputs": [],
   "source": []
  },
  {
   "cell_type": "markdown",
   "id": "add2c43c",
   "metadata": {},
   "source": [
    "(2) In the next cell, prompt the user to enter their measured heart rate. Store the heart rate as another integer variable. "
   ]
  },
  {
   "cell_type": "code",
   "execution_count": null,
   "id": "d13c5c3e",
   "metadata": {},
   "outputs": [],
   "source": []
  },
  {
   "cell_type": "markdown",
   "id": "0b516b87",
   "metadata": {},
   "source": [
    "(3) In the next cell, compute the user's maximum heart rate, store it in a variable, and report it back to the user. "
   ]
  },
  {
   "cell_type": "code",
   "execution_count": null,
   "id": "401228fd",
   "metadata": {},
   "outputs": [],
   "source": []
  },
  {
   "cell_type": "markdown",
   "id": "f792ccab",
   "metadata": {},
   "source": [
    "(4) In the next cell, compute the minimum and maximum heart rates in each of the 4 zones. Note that you will be computing 8 values. The computed heart rates should be represented as integer variables. "
   ]
  },
  {
   "cell_type": "code",
   "execution_count": null,
   "id": "00819c23",
   "metadata": {},
   "outputs": [],
   "source": []
  },
  {
   "cell_type": "markdown",
   "id": "1a16aef1",
   "metadata": {},
   "source": [
    "(5) In the next cell, determine which zone their present heart rate falls into. After determining the zone number, report it back to the user. _Hint_: you can use a set of 4 nested ```if``` statements, one pair of statements for each heart rate zone."
   ]
  },
  {
   "cell_type": "code",
   "execution_count": null,
   "id": "b4aa59db",
   "metadata": {},
   "outputs": [],
   "source": []
  }
 ],
 "metadata": {
  "kernelspec": {
   "display_name": "Python 3 (ipykernel)",
   "language": "python",
   "name": "python3"
  },
  "language_info": {
   "codemirror_mode": {
    "name": "ipython",
    "version": 3
   },
   "file_extension": ".py",
   "mimetype": "text/x-python",
   "name": "python",
   "nbconvert_exporter": "python",
   "pygments_lexer": "ipython3",
   "version": "3.10.7"
  }
 },
 "nbformat": 4,
 "nbformat_minor": 5
}
