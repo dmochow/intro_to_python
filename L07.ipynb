{
 "cells": [
  {
   "cell_type": "markdown",
   "id": "73b34b6f",
   "metadata": {
    "slideshow": {
     "slide_type": "slide"
    }
   },
   "source": [
    "## <center> Lecture 7 </center>\n",
    "## <center> NumPy Arrays </center>"
   ]
  },
  {
   "cell_type": "markdown",
   "id": "cf7497d6",
   "metadata": {
    "slideshow": {
     "slide_type": "slide"
    }
   },
   "source": [
    "## Arrays\n",
    "* An array is just a collection of numbers\n",
    "* An array may have multiple dimensions\n",
    "* Arrays allow mathematical operations on organized sets of numbers"
   ]
  },
  {
   "cell_type": "markdown",
   "id": "cb24fe49",
   "metadata": {
    "slideshow": {
     "slide_type": "slide"
    }
   },
   "source": [
    "# Array processing with NumPy\n",
    "* In Python, array processing is implemented in the _NumPy_ library\n",
    "* This library is heavily used by other libraries\n",
    "* NumPy makes it easy to create, manipulate, and operate on arrays of any dimension"
   ]
  },
  {
   "cell_type": "markdown",
   "id": "11853bf8",
   "metadata": {
    "slideshow": {
     "slide_type": "slide"
    }
   },
   "source": [
    "# Importing numpy"
   ]
  },
  {
   "cell_type": "code",
   "execution_count": 1,
   "id": "765b099b",
   "metadata": {
    "slideshow": {
     "slide_type": "fragment"
    }
   },
   "outputs": [],
   "source": [
    "import numpy as np"
   ]
  },
  {
   "cell_type": "markdown",
   "id": "50d3430b",
   "metadata": {
    "slideshow": {
     "slide_type": "fragment"
    }
   },
   "source": [
    "* ```as np``` makes it easy to call numpy's methods"
   ]
  },
  {
   "cell_type": "markdown",
   "id": "9834db7b",
   "metadata": {
    "slideshow": {
     "slide_type": "slide"
    }
   },
   "source": [
    "## Creating a 1-D array"
   ]
  },
  {
   "cell_type": "code",
   "execution_count": 2,
   "id": "7c6a1c47",
   "metadata": {
    "slideshow": {
     "slide_type": "fragment"
    }
   },
   "outputs": [],
   "source": [
    "my_array = np.array([0,1,1,2,3,5,8])"
   ]
  },
  {
   "cell_type": "markdown",
   "id": "d9432376",
   "metadata": {
    "slideshow": {
     "slide_type": "fragment"
    }
   },
   "source": [
    "* In the above snippet, we have created an ```array``` from a ```list```\n",
    "* To see this, let's obtain the ```type``` of our ```my_array``` object"
   ]
  },
  {
   "cell_type": "code",
   "execution_count": 3,
   "id": "41095f87",
   "metadata": {
    "slideshow": {
     "slide_type": "fragment"
    }
   },
   "outputs": [
    {
     "data": {
      "text/plain": [
       "numpy.ndarray"
      ]
     },
     "execution_count": 3,
     "metadata": {},
     "output_type": "execute_result"
    }
   ],
   "source": [
    "type(my_array)"
   ]
  },
  {
   "cell_type": "markdown",
   "id": "996c201d",
   "metadata": {
    "slideshow": {
     "slide_type": "slide"
    }
   },
   "source": [
    "## Creating a 2-D array\n",
    "* A two-dimensional array can be created from a two-dimensional list\n",
    "* Commas separate the _rows_ of the array:"
   ]
  },
  {
   "cell_type": "code",
   "execution_count": 4,
   "id": "e2dce3fa",
   "metadata": {
    "slideshow": {
     "slide_type": "fragment"
    }
   },
   "outputs": [],
   "source": [
    "my_2d_array = np.array([ [0,1,1,2],[3,5,8,11] ])"
   ]
  },
  {
   "cell_type": "markdown",
   "id": "4a8d0612",
   "metadata": {
    "slideshow": {
     "slide_type": "fragment"
    }
   },
   "source": [
    "* Let's get the _shape_ of our array via the _shape_ attribute:"
   ]
  },
  {
   "cell_type": "code",
   "execution_count": 5,
   "id": "e7e959fb",
   "metadata": {
    "slideshow": {
     "slide_type": "fragment"
    }
   },
   "outputs": [
    {
     "data": {
      "text/plain": [
       "(2, 4)"
      ]
     },
     "execution_count": 5,
     "metadata": {},
     "output_type": "execute_result"
    }
   ],
   "source": [
    "my_2d_array.shape"
   ]
  },
  {
   "cell_type": "markdown",
   "id": "ba9ff9cf",
   "metadata": {
    "slideshow": {
     "slide_type": "fragment"
    }
   },
   "source": [
    "* Our array has 2 rows and 4 columns"
   ]
  },
  {
   "cell_type": "markdown",
   "id": "a3c19c1e",
   "metadata": {
    "slideshow": {
     "slide_type": "slide"
    }
   },
   "source": [
    "## Obtaining the type of the array elements\n",
    "* NumPy arrays can hold different numeric types\n",
    "* To see the type of your array, we can use the ```dtype``` attribute:"
   ]
  },
  {
   "cell_type": "code",
   "execution_count": 6,
   "id": "95a93690",
   "metadata": {
    "slideshow": {
     "slide_type": "fragment"
    }
   },
   "outputs": [
    {
     "data": {
      "text/plain": [
       "dtype('int64')"
      ]
     },
     "execution_count": 6,
     "metadata": {},
     "output_type": "execute_result"
    }
   ],
   "source": [
    "my_2d_array.dtype"
   ]
  },
  {
   "cell_type": "markdown",
   "id": "919d88db",
   "metadata": {
    "slideshow": {
     "slide_type": "fragment"
    }
   },
   "source": [
    "* ```my_2d_array``` has integer elements, each represented by 64 bits"
   ]
  },
  {
   "cell_type": "markdown",
   "id": "0774c8af",
   "metadata": {
    "slideshow": {
     "slide_type": "slide"
    }
   },
   "source": [
    "## Array types are set automatically\n",
    "* Let's create a 1-D array of irrational numbers\n",
    "* For this, we will need the ```math``` module, which we import:"
   ]
  },
  {
   "cell_type": "code",
   "execution_count": 7,
   "id": "5f653bf9",
   "metadata": {
    "slideshow": {
     "slide_type": "fragment"
    }
   },
   "outputs": [],
   "source": [
    "import math\n",
    "irr_arr = np.array([math.sqrt(2), math.sqrt(3), math.sqrt(5)])"
   ]
  },
  {
   "cell_type": "markdown",
   "id": "6ebc8a72",
   "metadata": {
    "slideshow": {
     "slide_type": "fragment"
    }
   },
   "source": [
    "* Let's inspect the contents of our array:"
   ]
  },
  {
   "cell_type": "code",
   "execution_count": 8,
   "id": "3a5e3577",
   "metadata": {
    "slideshow": {
     "slide_type": "fragment"
    }
   },
   "outputs": [
    {
     "data": {
      "text/plain": [
       "array([1.41421356, 1.73205081, 2.23606798])"
      ]
     },
     "execution_count": 8,
     "metadata": {},
     "output_type": "execute_result"
    }
   ],
   "source": [
    "irr_arr"
   ]
  },
  {
   "cell_type": "markdown",
   "id": "c5074775",
   "metadata": {
    "slideshow": {
     "slide_type": "slide"
    }
   },
   "source": [
    "* Now let's check out the ```type``` of the array's elements:"
   ]
  },
  {
   "cell_type": "code",
   "execution_count": 9,
   "id": "50c7b3bd",
   "metadata": {
    "slideshow": {
     "slide_type": "fragment"
    }
   },
   "outputs": [
    {
     "data": {
      "text/plain": [
       "dtype('float64')"
      ]
     },
     "execution_count": 9,
     "metadata": {},
     "output_type": "execute_result"
    }
   ],
   "source": [
    "irr_arr.dtype"
   ]
  },
  {
   "cell_type": "markdown",
   "id": "ac1ccaef",
   "metadata": {
    "slideshow": {
     "slide_type": "fragment"
    }
   },
   "source": [
    "* NumPy is storing each element as a floating-point number with 64 bits"
   ]
  },
  {
   "cell_type": "markdown",
   "id": "5a590b55",
   "metadata": {
    "slideshow": {
     "slide_type": "slide"
    }
   },
   "source": [
    "## Obtaining the number of dimensions\n",
    "* The ```ndim``` attribute tells us how many dimensions are in our array:"
   ]
  },
  {
   "cell_type": "code",
   "execution_count": 10,
   "id": "39a4cc5e",
   "metadata": {
    "slideshow": {
     "slide_type": "fragment"
    }
   },
   "outputs": [
    {
     "data": {
      "text/plain": [
       "1"
      ]
     },
     "execution_count": 10,
     "metadata": {},
     "output_type": "execute_result"
    }
   ],
   "source": [
    "irr_arr.ndim"
   ]
  },
  {
   "cell_type": "code",
   "execution_count": 11,
   "id": "66ff8cd2",
   "metadata": {
    "slideshow": {
     "slide_type": "fragment"
    }
   },
   "outputs": [
    {
     "data": {
      "text/plain": [
       "2"
      ]
     },
     "execution_count": 11,
     "metadata": {},
     "output_type": "execute_result"
    }
   ],
   "source": [
    "my_2d_array.ndim"
   ]
  },
  {
   "cell_type": "markdown",
   "id": "2bd65a8a",
   "metadata": {
    "slideshow": {
     "slide_type": "slide"
    }
   },
   "source": [
    "## Obtaining the total number of elements\n",
    "* The ```size``` attribute tells us how many _elements_ are in our array"
   ]
  },
  {
   "cell_type": "code",
   "execution_count": 12,
   "id": "c1ecb8d6",
   "metadata": {
    "slideshow": {
     "slide_type": "fragment"
    }
   },
   "outputs": [
    {
     "data": {
      "text/plain": [
       "8"
      ]
     },
     "execution_count": 12,
     "metadata": {},
     "output_type": "execute_result"
    }
   ],
   "source": [
    "my_2d_array = np.array([ [0,1,1,2],[3,5,8,11] ])\n",
    "my_2d_array.size"
   ]
  },
  {
   "cell_type": "markdown",
   "id": "b1b954ec",
   "metadata": {
    "slideshow": {
     "slide_type": "slide"
    }
   },
   "source": [
    "## Iterating through multi-dimensional arrays\n",
    "* It is common to operate on each element of an array\n",
    "* This can be achieved with numpy's iteration features"
   ]
  },
  {
   "cell_type": "code",
   "execution_count": 13,
   "id": "223039b1",
   "metadata": {
    "slideshow": {
     "slide_type": "fragment"
    }
   },
   "outputs": [
    {
     "name": "stdout",
     "output_type": "stream",
     "text": [
      "0\n",
      "1\n",
      "1\n",
      "2\n",
      "3\n",
      "5\n",
      "8\n",
      "11\n"
     ]
    }
   ],
   "source": [
    "for row in my_2d_array:\n",
    "    for col in row:\n",
    "        print(col)"
   ]
  },
  {
   "cell_type": "markdown",
   "id": "c1866c09",
   "metadata": {
    "slideshow": {
     "slide_type": "fragment"
    }
   },
   "source": [
    "* ```for row in my_2d_array``` grabs each _row_ of the array\n",
    "* ```for col in row``` then grabs each _element_ of ```row```"
   ]
  },
  {
   "cell_type": "markdown",
   "id": "efcb4c15",
   "metadata": {
    "slideshow": {
     "slide_type": "slide"
    }
   },
   "source": [
    "* Another way to iterate through ```my_2d_array``` is to use the ```.flat``` attribute:"
   ]
  },
  {
   "cell_type": "code",
   "execution_count": 14,
   "id": "b1d066e5",
   "metadata": {
    "slideshow": {
     "slide_type": "fragment"
    }
   },
   "outputs": [
    {
     "name": "stdout",
     "output_type": "stream",
     "text": [
      "0\n",
      "1\n",
      "1\n",
      "2\n",
      "3\n",
      "5\n",
      "8\n",
      "11\n"
     ]
    }
   ],
   "source": [
    "for element in my_2d_array.flat:\n",
    "    print(element)"
   ]
  },
  {
   "cell_type": "markdown",
   "id": "57dd567e",
   "metadata": {
    "slideshow": {
     "slide_type": "slide"
    }
   },
   "source": [
    "## Creating an array of zeros"
   ]
  },
  {
   "cell_type": "code",
   "execution_count": 15,
   "id": "c9b4495f",
   "metadata": {
    "slideshow": {
     "slide_type": "fragment"
    }
   },
   "outputs": [
    {
     "data": {
      "text/plain": [
       "array([[0., 0., 0., 0.],\n",
       "       [0., 0., 0., 0.],\n",
       "       [0., 0., 0., 0.]])"
      ]
     },
     "execution_count": 15,
     "metadata": {},
     "output_type": "execute_result"
    }
   ],
   "source": [
    "np.zeros((3,4))"
   ]
  },
  {
   "cell_type": "markdown",
   "id": "2bd1173a",
   "metadata": {
    "slideshow": {
     "slide_type": "slide"
    }
   },
   "source": [
    "## Creating an array of ones"
   ]
  },
  {
   "cell_type": "code",
   "execution_count": 16,
   "id": "133c870f",
   "metadata": {
    "slideshow": {
     "slide_type": "fragment"
    }
   },
   "outputs": [
    {
     "data": {
      "text/plain": [
       "array([[1., 1., 1., 1.],\n",
       "       [1., 1., 1., 1.],\n",
       "       [1., 1., 1., 1.]])"
      ]
     },
     "execution_count": 16,
     "metadata": {},
     "output_type": "execute_result"
    }
   ],
   "source": [
    "np.ones((3,4))"
   ]
  },
  {
   "cell_type": "markdown",
   "id": "c86def77",
   "metadata": {
    "slideshow": {
     "slide_type": "slide"
    }
   },
   "source": [
    "## Creating an array with a constant value"
   ]
  },
  {
   "cell_type": "code",
   "execution_count": 17,
   "id": "e5b05fb8",
   "metadata": {
    "slideshow": {
     "slide_type": "fragment"
    }
   },
   "outputs": [
    {
     "data": {
      "text/plain": [
       "array([[5, 5, 5, 5],\n",
       "       [5, 5, 5, 5],\n",
       "       [5, 5, 5, 5]])"
      ]
     },
     "execution_count": 17,
     "metadata": {},
     "output_type": "execute_result"
    }
   ],
   "source": [
    "np.full((3,4),5)"
   ]
  },
  {
   "cell_type": "markdown",
   "id": "f3bbb76c",
   "metadata": {
    "slideshow": {
     "slide_type": "slide"
    }
   },
   "source": [
    "## Creating an array that spans a range\n",
    "* NumPy's ```arange``` function allows you to create arrays that hold numbers filling a range"
   ]
  },
  {
   "cell_type": "code",
   "execution_count": 18,
   "id": "60af17b5",
   "metadata": {
    "slideshow": {
     "slide_type": "fragment"
    }
   },
   "outputs": [
    {
     "data": {
      "text/plain": [
       "array([0, 1, 2, 3, 4, 5, 6, 7, 8, 9])"
      ]
     },
     "execution_count": 18,
     "metadata": {},
     "output_type": "execute_result"
    }
   ],
   "source": [
    "np.arange(10)"
   ]
  },
  {
   "cell_type": "markdown",
   "id": "8d410462",
   "metadata": {
    "slideshow": {
     "slide_type": "fragment"
    }
   },
   "source": [
    "* By default, ```np.arange``` begins at 0\n",
    "* We can change this default behavior by calling the function with two arguments"
   ]
  },
  {
   "cell_type": "code",
   "execution_count": 19,
   "id": "c2a0a8d8",
   "metadata": {
    "slideshow": {
     "slide_type": "fragment"
    }
   },
   "outputs": [
    {
     "data": {
      "text/plain": [
       "array([1, 2, 3, 4, 5, 6, 7, 8, 9])"
      ]
     },
     "execution_count": 19,
     "metadata": {},
     "output_type": "execute_result"
    }
   ],
   "source": [
    "np.arange(1,10)"
   ]
  },
  {
   "cell_type": "markdown",
   "id": "25865eae",
   "metadata": {
    "slideshow": {
     "slide_type": "slide"
    }
   },
   "source": [
    "* We can also modify the _interval_ to be something other than 1 by adding a 3rd argument"
   ]
  },
  {
   "cell_type": "code",
   "execution_count": 20,
   "id": "1d6ba6fa",
   "metadata": {
    "slideshow": {
     "slide_type": "fragment"
    }
   },
   "outputs": [
    {
     "data": {
      "text/plain": [
       "array([1, 3, 5, 7, 9])"
      ]
     },
     "execution_count": 20,
     "metadata": {},
     "output_type": "execute_result"
    }
   ],
   "source": [
    "np.arange(1,10,2)"
   ]
  },
  {
   "cell_type": "markdown",
   "id": "f95f9dc9",
   "metadata": {
    "slideshow": {
     "slide_type": "slide"
    }
   },
   "source": [
    "## Creating floating-point ranges\n",
    "* Sometimes we need to create a variable that holds a range of _continuous_ values\n",
    "* This is accomplished with numpy's ```linspace``` function:"
   ]
  },
  {
   "cell_type": "code",
   "execution_count": 21,
   "id": "cd47aeaa",
   "metadata": {
    "slideshow": {
     "slide_type": "fragment"
    }
   },
   "outputs": [
    {
     "data": {
      "text/plain": [
       "array([0. , 0.2, 0.4, 0.6, 0.8, 1. ])"
      ]
     },
     "execution_count": 21,
     "metadata": {},
     "output_type": "execute_result"
    }
   ],
   "source": [
    "np.linspace(0,1,6)"
   ]
  },
  {
   "cell_type": "markdown",
   "id": "fe73114f",
   "metadata": {
    "slideshow": {
     "slide_type": "fragment"
    }
   },
   "source": [
    "* Q: why did I set the 3rd argument to 6 instead of 5?"
   ]
  },
  {
   "cell_type": "markdown",
   "id": "6883555c",
   "metadata": {
    "slideshow": {
     "slide_type": "slide"
    }
   },
   "source": [
    "## Reshaping an array\n",
    "* It is often required to transform an array into a different shape\n",
    "* For example, we may want to view a 2-D array as a 'flat' column vector\n",
    "* The ```reshape``` function will reshape your array to any allowable shape:"
   ]
  },
  {
   "cell_type": "code",
   "execution_count": 22,
   "id": "f60220b3",
   "metadata": {
    "slideshow": {
     "slide_type": "fragment"
    }
   },
   "outputs": [
    {
     "data": {
      "text/plain": [
       "array([ 1,  2,  3,  4,  5,  6,  7,  8,  9, 10, 11, 12, 13, 14, 15, 16, 17,\n",
       "       18, 19, 20, 21, 22, 23, 24])"
      ]
     },
     "execution_count": 22,
     "metadata": {},
     "output_type": "execute_result"
    }
   ],
   "source": [
    "my_1d_array = np.arange(1,25)\n",
    "my_1d_array"
   ]
  },
  {
   "cell_type": "markdown",
   "id": "9bcf344e",
   "metadata": {
    "slideshow": {
     "slide_type": "fragment"
    }
   },
   "source": [
    "* Let's reshape the integers to a 4 by 6 array:"
   ]
  },
  {
   "cell_type": "code",
   "execution_count": 23,
   "id": "43710d4f",
   "metadata": {
    "slideshow": {
     "slide_type": "fragment"
    }
   },
   "outputs": [
    {
     "data": {
      "text/plain": [
       "array([[ 1,  2,  3,  4,  5,  6],\n",
       "       [ 7,  8,  9, 10, 11, 12],\n",
       "       [13, 14, 15, 16, 17, 18],\n",
       "       [19, 20, 21, 22, 23, 24]])"
      ]
     },
     "execution_count": 23,
     "metadata": {},
     "output_type": "execute_result"
    }
   ],
   "source": [
    "my_2d_array = my_1d_array.reshape((4,6))\n",
    "my_2d_array"
   ]
  },
  {
   "cell_type": "markdown",
   "id": "ace7fa6d",
   "metadata": {
    "slideshow": {
     "slide_type": "slide"
    }
   },
   "source": [
    "* And now let's reshape into a 1 by 24 array:"
   ]
  },
  {
   "cell_type": "code",
   "execution_count": 24,
   "id": "bff2fcae",
   "metadata": {
    "slideshow": {
     "slide_type": "fragment"
    }
   },
   "outputs": [],
   "source": [
    "another_array = my_2d_array.reshape((1,24))"
   ]
  },
  {
   "cell_type": "markdown",
   "id": "c876b92a",
   "metadata": {
    "slideshow": {
     "slide_type": "fragment"
    }
   },
   "source": [
    "* Notice the shape of ```another_array```:"
   ]
  },
  {
   "cell_type": "code",
   "execution_count": 25,
   "id": "7dcd0c65",
   "metadata": {
    "slideshow": {
     "slide_type": "fragment"
    }
   },
   "outputs": [
    {
     "data": {
      "text/plain": [
       "(1, 24)"
      ]
     },
     "execution_count": 25,
     "metadata": {},
     "output_type": "execute_result"
    }
   ],
   "source": [
    "another_array.shape"
   ]
  },
  {
   "cell_type": "markdown",
   "id": "b370221d",
   "metadata": {
    "slideshow": {
     "slide_type": "fragment"
    }
   },
   "source": [
    "* ```another_array``` is technically still a 2-D array"
   ]
  },
  {
   "cell_type": "markdown",
   "id": "72980824",
   "metadata": {
    "slideshow": {
     "slide_type": "fragment"
    }
   },
   "source": [
    "* Contrast this with the shape of ```my_1d_array```:"
   ]
  },
  {
   "cell_type": "code",
   "execution_count": 26,
   "id": "a7b40a78",
   "metadata": {
    "slideshow": {
     "slide_type": "fragment"
    }
   },
   "outputs": [
    {
     "data": {
      "text/plain": [
       "(24,)"
      ]
     },
     "execution_count": 26,
     "metadata": {},
     "output_type": "execute_result"
    }
   ],
   "source": [
    "my_1d_array.shape"
   ]
  },
  {
   "cell_type": "markdown",
   "id": "752bb5b6",
   "metadata": {
    "slideshow": {
     "slide_type": "slide"
    }
   },
   "source": [
    "## Array operators\n",
    "* NumPy allows you to perform mathematical operations on array\n",
    "* _Element-wise_ operations: the operation is being performed individually one each element\n",
    "* _Array_ operations: the operation is being applied to one or more arrays as a whole"
   ]
  },
  {
   "cell_type": "markdown",
   "id": "4cc30c4f",
   "metadata": {
    "slideshow": {
     "slide_type": "slide"
    }
   },
   "source": [
    "## Element-wise multiplication and addition\n",
    "* Adding 2 to each element of an array:"
   ]
  },
  {
   "cell_type": "code",
   "execution_count": 27,
   "id": "247eb623",
   "metadata": {
    "slideshow": {
     "slide_type": "fragment"
    }
   },
   "outputs": [],
   "source": [
    "my_array = np.array([[1,2,3],[4,5,6]])"
   ]
  },
  {
   "cell_type": "code",
   "execution_count": 28,
   "id": "ed682e42",
   "metadata": {
    "slideshow": {
     "slide_type": "fragment"
    }
   },
   "outputs": [
    {
     "data": {
      "text/plain": [
       "array([[3, 4, 5],\n",
       "       [6, 7, 8]])"
      ]
     },
     "execution_count": 28,
     "metadata": {},
     "output_type": "execute_result"
    }
   ],
   "source": [
    "my_array + 2"
   ]
  },
  {
   "cell_type": "markdown",
   "id": "6e7b7d53",
   "metadata": {
    "slideshow": {
     "slide_type": "fragment"
    }
   },
   "source": [
    "* Multiplying each element of an array by 2:"
   ]
  },
  {
   "cell_type": "code",
   "execution_count": 29,
   "id": "277c86b7",
   "metadata": {
    "slideshow": {
     "slide_type": "fragment"
    }
   },
   "outputs": [
    {
     "data": {
      "text/plain": [
       "array([[ 2,  4,  6],\n",
       "       [ 8, 10, 12]])"
      ]
     },
     "execution_count": 29,
     "metadata": {},
     "output_type": "execute_result"
    }
   ],
   "source": [
    "my_array * 2"
   ]
  },
  {
   "cell_type": "markdown",
   "id": "a5d8c13c",
   "metadata": {
    "slideshow": {
     "slide_type": "fragment"
    }
   },
   "source": [
    "* Squaring each array element:"
   ]
  },
  {
   "cell_type": "code",
   "execution_count": 30,
   "id": "f64f711b",
   "metadata": {
    "slideshow": {
     "slide_type": "fragment"
    }
   },
   "outputs": [
    {
     "data": {
      "text/plain": [
       "array([[ 1,  4,  9],\n",
       "       [16, 25, 36]])"
      ]
     },
     "execution_count": 30,
     "metadata": {},
     "output_type": "execute_result"
    }
   ],
   "source": [
    "my_array ** 2"
   ]
  },
  {
   "cell_type": "markdown",
   "id": "591fcc2e",
   "metadata": {
    "slideshow": {
     "slide_type": "slide"
    }
   },
   "source": [
    "## Multiplying two arrays element-by-element"
   ]
  },
  {
   "cell_type": "code",
   "execution_count": 31,
   "id": "1b0c69a4",
   "metadata": {
    "slideshow": {
     "slide_type": "fragment"
    }
   },
   "outputs": [],
   "source": [
    "a1 = np.array([[1,2,3],[4,5,6]])\n",
    "a2 = np.full((2,3),2)"
   ]
  },
  {
   "cell_type": "code",
   "execution_count": 32,
   "id": "5e08abcd",
   "metadata": {
    "slideshow": {
     "slide_type": "fragment"
    }
   },
   "outputs": [
    {
     "data": {
      "text/plain": [
       "(array([[1, 2, 3],\n",
       "        [4, 5, 6]]),\n",
       " array([[2, 2, 2],\n",
       "        [2, 2, 2]]))"
      ]
     },
     "execution_count": 32,
     "metadata": {},
     "output_type": "execute_result"
    }
   ],
   "source": [
    "a1, a2"
   ]
  },
  {
   "cell_type": "code",
   "execution_count": 33,
   "id": "e81b475f",
   "metadata": {
    "slideshow": {
     "slide_type": "fragment"
    }
   },
   "outputs": [
    {
     "data": {
      "text/plain": [
       "array([[ 2,  4,  6],\n",
       "       [ 8, 10, 12]])"
      ]
     },
     "execution_count": 33,
     "metadata": {},
     "output_type": "execute_result"
    }
   ],
   "source": [
    "a3 = a1 * a2\n",
    "a3"
   ]
  },
  {
   "cell_type": "markdown",
   "id": "a29b6bc3",
   "metadata": {
    "slideshow": {
     "slide_type": "fragment"
    }
   },
   "source": [
    "* NB: notice that ```*``` performs element-wise and _not_ matrix multiplication!"
   ]
  },
  {
   "cell_type": "markdown",
   "id": "64665fd3",
   "metadata": {
    "slideshow": {
     "slide_type": "slide"
    }
   },
   "source": [
    "## Adding two arrays element-by-element"
   ]
  },
  {
   "cell_type": "code",
   "execution_count": 34,
   "id": "b3eeadf1",
   "metadata": {
    "slideshow": {
     "slide_type": "fragment"
    }
   },
   "outputs": [],
   "source": [
    "a1 = np.array([[1,2,3],[4,5,6]])\n",
    "a2 = np.full((2,3),2)"
   ]
  },
  {
   "cell_type": "code",
   "execution_count": 35,
   "id": "aa50be2d",
   "metadata": {
    "slideshow": {
     "slide_type": "fragment"
    }
   },
   "outputs": [
    {
     "data": {
      "text/plain": [
       "(array([[1, 2, 3],\n",
       "        [4, 5, 6]]),\n",
       " array([[2, 2, 2],\n",
       "        [2, 2, 2]]))"
      ]
     },
     "execution_count": 35,
     "metadata": {},
     "output_type": "execute_result"
    }
   ],
   "source": [
    "a1, a2"
   ]
  },
  {
   "cell_type": "code",
   "execution_count": 36,
   "id": "94a8ed20",
   "metadata": {
    "slideshow": {
     "slide_type": "fragment"
    }
   },
   "outputs": [
    {
     "data": {
      "text/plain": [
       "array([[3, 4, 5],\n",
       "       [6, 7, 8]])"
      ]
     },
     "execution_count": 36,
     "metadata": {},
     "output_type": "execute_result"
    }
   ],
   "source": [
    "a3 = a1 + a2\n",
    "a3"
   ]
  },
  {
   "cell_type": "markdown",
   "id": "4a8ab594",
   "metadata": {
    "slideshow": {
     "slide_type": "slide"
    }
   },
   "source": [
    "## Comparing the elements of an array\n",
    "* We can use Boolean expressions to test each element of an array\n",
    "* Let's check whether each element of ```a3``` is an even number:"
   ]
  },
  {
   "cell_type": "code",
   "execution_count": 37,
   "id": "08f4a15d",
   "metadata": {
    "slideshow": {
     "slide_type": "fragment"
    }
   },
   "outputs": [],
   "source": [
    "is_a3_even =  (a3%2) == 0 "
   ]
  },
  {
   "cell_type": "code",
   "execution_count": 38,
   "id": "034115be",
   "metadata": {
    "slideshow": {
     "slide_type": "fragment"
    }
   },
   "outputs": [
    {
     "data": {
      "text/plain": [
       "(array([[3, 4, 5],\n",
       "        [6, 7, 8]]),\n",
       " array([[False,  True, False],\n",
       "        [ True, False,  True]]))"
      ]
     },
     "execution_count": 38,
     "metadata": {},
     "output_type": "execute_result"
    }
   ],
   "source": [
    "a3, is_a3_even"
   ]
  },
  {
   "cell_type": "markdown",
   "id": "518f5b05",
   "metadata": {
    "slideshow": {
     "slide_type": "slide"
    }
   },
   "source": [
    "* The expression ```a3%2``` computes an array with the same size as ```a3```\n",
    "* This array stores the remainder when dividing each element by 2:"
   ]
  },
  {
   "cell_type": "code",
   "execution_count": 39,
   "id": "78924b63",
   "metadata": {
    "slideshow": {
     "slide_type": "fragment"
    }
   },
   "outputs": [
    {
     "data": {
      "text/plain": [
       "array([[1, 0, 1],\n",
       "       [0, 1, 0]])"
      ]
     },
     "execution_count": 39,
     "metadata": {},
     "output_type": "execute_result"
    }
   ],
   "source": [
    "a3%2"
   ]
  },
  {
   "cell_type": "markdown",
   "id": "34363037",
   "metadata": {
    "slideshow": {
     "slide_type": "fragment"
    }
   },
   "source": [
    "* The expression ```(a3%2)==0``` then compares the resulting remainders to 0:"
   ]
  },
  {
   "cell_type": "code",
   "execution_count": 40,
   "id": "a453a4c8",
   "metadata": {
    "slideshow": {
     "slide_type": "fragment"
    }
   },
   "outputs": [
    {
     "data": {
      "text/plain": [
       "array([[False,  True, False],\n",
       "       [ True, False,  True]])"
      ]
     },
     "execution_count": 40,
     "metadata": {},
     "output_type": "execute_result"
    }
   ],
   "source": [
    "(a3%2)==0"
   ]
  },
  {
   "cell_type": "markdown",
   "id": "ccbef393",
   "metadata": {
    "slideshow": {
     "slide_type": "slide"
    }
   },
   "source": [
    "## Comparing two arrays\n",
    "* Boolean operations can also be performed on two arrays of the same size:"
   ]
  },
  {
   "cell_type": "code",
   "execution_count": 41,
   "id": "705bb909",
   "metadata": {
    "slideshow": {
     "slide_type": "fragment"
    }
   },
   "outputs": [
    {
     "data": {
      "text/plain": [
       "(array([0, 1, 2, 3, 4, 5, 6, 7, 8, 9]),\n",
       " array([[5, 5, 5, 5, 5, 5, 5, 5, 5, 5]]))"
      ]
     },
     "execution_count": 41,
     "metadata": {},
     "output_type": "execute_result"
    }
   ],
   "source": [
    "a1 = np.arange(10)\n",
    "a2 = np.full((1,10),5)\n",
    "a1, a2"
   ]
  },
  {
   "cell_type": "markdown",
   "id": "a0ceb7f1",
   "metadata": {
    "slideshow": {
     "slide_type": "fragment"
    }
   },
   "source": [
    "* Let's check which elements in ```a1``` are greater than the _corresponding_ element in ```a2```"
   ]
  },
  {
   "cell_type": "code",
   "execution_count": 42,
   "id": "f3619ce4",
   "metadata": {
    "slideshow": {
     "slide_type": "fragment"
    }
   },
   "outputs": [
    {
     "data": {
      "text/plain": [
       "array([[False, False, False, False, False, False,  True,  True,  True,\n",
       "         True]])"
      ]
     },
     "execution_count": 42,
     "metadata": {},
     "output_type": "execute_result"
    }
   ],
   "source": [
    "a1>a2"
   ]
  },
  {
   "cell_type": "markdown",
   "id": "d4827e68",
   "metadata": {
    "slideshow": {
     "slide_type": "slide"
    }
   },
   "source": [
    "## Summing the elements of an array\n",
    "* The ```sum()``` function allows you to easily sum the elements of your array:"
   ]
  },
  {
   "cell_type": "code",
   "execution_count": 43,
   "id": "cb625252",
   "metadata": {
    "slideshow": {
     "slide_type": "fragment"
    }
   },
   "outputs": [],
   "source": [
    "my_array = np.arange(10)"
   ]
  },
  {
   "cell_type": "code",
   "execution_count": 44,
   "id": "f3d7a842",
   "metadata": {
    "slideshow": {
     "slide_type": "fragment"
    }
   },
   "outputs": [
    {
     "data": {
      "text/plain": [
       "45"
      ]
     },
     "execution_count": 44,
     "metadata": {},
     "output_type": "execute_result"
    }
   ],
   "source": [
    "my_array.sum()"
   ]
  },
  {
   "cell_type": "markdown",
   "id": "4d5e7a1b",
   "metadata": {
    "slideshow": {
     "slide_type": "slide"
    }
   },
   "source": [
    "* Let's see how ```sum()``` behaves when our array has more than 1 dimension"
   ]
  },
  {
   "cell_type": "code",
   "execution_count": 45,
   "id": "e11258d6",
   "metadata": {
    "slideshow": {
     "slide_type": "fragment"
    }
   },
   "outputs": [
    {
     "data": {
      "text/plain": [
       "array([[0, 1, 2, 3, 4],\n",
       "       [5, 6, 7, 8, 9]])"
      ]
     },
     "execution_count": 45,
     "metadata": {},
     "output_type": "execute_result"
    }
   ],
   "source": [
    "my_2d_array = my_array.reshape((2,5))\n",
    "my_2d_array"
   ]
  },
  {
   "cell_type": "code",
   "execution_count": 46,
   "id": "c6004ea8",
   "metadata": {
    "slideshow": {
     "slide_type": "fragment"
    }
   },
   "outputs": [
    {
     "data": {
      "text/plain": [
       "45"
      ]
     },
     "execution_count": 46,
     "metadata": {},
     "output_type": "execute_result"
    }
   ],
   "source": [
    "my_2d_array.sum()"
   ]
  },
  {
   "cell_type": "markdown",
   "id": "589659e1",
   "metadata": {
    "slideshow": {
     "slide_type": "fragment"
    }
   },
   "source": [
    "* The function computes the sum of _all_ array elements"
   ]
  },
  {
   "cell_type": "markdown",
   "id": "4b802821",
   "metadata": {
    "slideshow": {
     "slide_type": "slide"
    }
   },
   "source": [
    "## NumPy provides the related functions: \n",
    "* ```std()```: the standard deviation\n",
    "* ```mean()```: the average of elements\n",
    "* ```min()```: the lowest value\n",
    "* ```max()```: the highest value\n"
   ]
  },
  {
   "cell_type": "markdown",
   "id": "74f04474",
   "metadata": {
    "slideshow": {
     "slide_type": "slide"
    }
   },
   "source": [
    "## What if you want to obtain the sum of each row or column?\n",
    "* We can use the ```axis``` keyword argument to only sum up each row or column\n",
    "* ```axis=0```: sum each _column_\n",
    "* ```axis=1```: sum each _row_"
   ]
  },
  {
   "cell_type": "code",
   "execution_count": null,
   "id": "21f9d4f1",
   "metadata": {},
   "outputs": [],
   "source": [
    "my_2d_array"
   ]
  },
  {
   "cell_type": "code",
   "execution_count": null,
   "id": "ab224ccf",
   "metadata": {
    "slideshow": {
     "slide_type": "fragment"
    }
   },
   "outputs": [],
   "source": [
    "my_2d_array.sum(axis=0) ## Get the sum of each column"
   ]
  },
  {
   "cell_type": "code",
   "execution_count": null,
   "id": "ec1bd813",
   "metadata": {
    "slideshow": {
     "slide_type": "fragment"
    }
   },
   "outputs": [],
   "source": [
    "my_2d_array.sum(axis=1) ## Get the sum of each row"
   ]
  },
  {
   "cell_type": "markdown",
   "id": "102c0f5d",
   "metadata": {
    "slideshow": {
     "slide_type": "slide"
    }
   },
   "source": [
    "## Array indexing and slicing\n",
    "* It is often required to grab only a portion of an array\n",
    "* This is accomplished with _slicing_\n",
    "* NumPy's indexing scheme is similar to that that we saw for _lists_"
   ]
  },
  {
   "cell_type": "markdown",
   "id": "70191e48",
   "metadata": {
    "slideshow": {
     "slide_type": "slide"
    }
   },
   "source": [
    "* Let's create a 4 by 5 array of the integers 1 through 20"
   ]
  },
  {
   "cell_type": "code",
   "execution_count": null,
   "id": "2872608a",
   "metadata": {
    "slideshow": {
     "slide_type": "fragment"
    }
   },
   "outputs": [],
   "source": [
    "my_array = np.arange(1,21).reshape((4,5))\n",
    "my_array"
   ]
  },
  {
   "cell_type": "markdown",
   "id": "3680aafb",
   "metadata": {
    "slideshow": {
     "slide_type": "fragment"
    }
   },
   "source": [
    "* In the above, the function ```reshape()``` has been called on the _result_ of the function ```arange()```"
   ]
  },
  {
   "cell_type": "markdown",
   "id": "fb1df5a9",
   "metadata": {
    "slideshow": {
     "slide_type": "slide"
    }
   },
   "source": [
    "* Let's grab the element at row 1, column 2 (indexed from 0!)"
   ]
  },
  {
   "cell_type": "code",
   "execution_count": null,
   "id": "016de65b",
   "metadata": {
    "slideshow": {
     "slide_type": "fragment"
    }
   },
   "outputs": [],
   "source": [
    "my_array[1,2]"
   ]
  },
  {
   "cell_type": "markdown",
   "id": "2c5a632e",
   "metadata": {
    "slideshow": {
     "slide_type": "slide"
    }
   },
   "source": [
    "* Let's grab the entire first row (index 0):"
   ]
  },
  {
   "cell_type": "code",
   "execution_count": null,
   "id": "a4ea558c",
   "metadata": {
    "slideshow": {
     "slide_type": "fragment"
    }
   },
   "outputs": [],
   "source": [
    "my_array[0,:]"
   ]
  },
  {
   "cell_type": "markdown",
   "id": "2d2c6a4d",
   "metadata": {
    "slideshow": {
     "slide_type": "slide"
    }
   },
   "source": [
    "* Get the first _and_ second rows:"
   ]
  },
  {
   "cell_type": "code",
   "execution_count": null,
   "id": "77626f7c",
   "metadata": {
    "slideshow": {
     "slide_type": "fragment"
    }
   },
   "outputs": [],
   "source": [
    "my_array[0:2,:]"
   ]
  },
  {
   "cell_type": "markdown",
   "id": "90415caa",
   "metadata": {
    "slideshow": {
     "slide_type": "fragment"
    }
   },
   "source": [
    "* Q: why did I write ```0:2``` instead of ```0:1``` above?"
   ]
  },
  {
   "cell_type": "markdown",
   "id": "46623aa7",
   "metadata": {
    "slideshow": {
     "slide_type": "slide"
    }
   },
   "source": [
    "* Get rows 0, 2, and 3"
   ]
  },
  {
   "cell_type": "code",
   "execution_count": null,
   "id": "37b65afa",
   "metadata": {
    "slideshow": {
     "slide_type": "fragment"
    }
   },
   "outputs": [],
   "source": [
    "my_array[[0,2,3],:]"
   ]
  },
  {
   "cell_type": "markdown",
   "id": "5c404ef5",
   "metadata": {
    "slideshow": {
     "slide_type": "slide"
    }
   },
   "source": [
    "* Get the first and second column:"
   ]
  },
  {
   "cell_type": "code",
   "execution_count": null,
   "id": "fd2566e6",
   "metadata": {
    "slideshow": {
     "slide_type": "fragment"
    }
   },
   "outputs": [],
   "source": [
    "my_array[:,0:2]"
   ]
  },
  {
   "cell_type": "markdown",
   "id": "93201419",
   "metadata": {
    "slideshow": {
     "slide_type": "slide"
    }
   },
   "source": [
    "* Get columns 0 and 3:"
   ]
  },
  {
   "cell_type": "code",
   "execution_count": null,
   "id": "419bae4d",
   "metadata": {
    "slideshow": {
     "slide_type": "fragment"
    }
   },
   "outputs": [],
   "source": [
    "my_array[:,[0,3]]"
   ]
  },
  {
   "cell_type": "markdown",
   "id": "1e6383cc",
   "metadata": {
    "slideshow": {
     "slide_type": "slide"
    }
   },
   "source": [
    "* Get the last column:"
   ]
  },
  {
   "cell_type": "code",
   "execution_count": null,
   "id": "6533b39c",
   "metadata": {
    "slideshow": {
     "slide_type": "fragment"
    }
   },
   "outputs": [],
   "source": [
    "my_array[:,-1]"
   ]
  },
  {
   "cell_type": "markdown",
   "id": "809b4445",
   "metadata": {
    "slideshow": {
     "slide_type": "slide"
    }
   },
   "source": [
    "## The _transpose_ of an array\n",
    "* The tranpose of an array is another array where:\n",
    "    * The rows of the new array are the columns of the old one\n",
    "    * The columns of the new array are the rows of the old one"
   ]
  },
  {
   "cell_type": "code",
   "execution_count": null,
   "id": "f3fd470f",
   "metadata": {
    "slideshow": {
     "slide_type": "fragment"
    }
   },
   "outputs": [],
   "source": [
    "my_array = np.array([[1,2,3],[4,5,6]])"
   ]
  },
  {
   "cell_type": "code",
   "execution_count": null,
   "id": "8a0c144e",
   "metadata": {
    "slideshow": {
     "slide_type": "fragment"
    }
   },
   "outputs": [],
   "source": [
    "my_transpose = np.transpose(my_array)\n",
    "my_transpose"
   ]
  },
  {
   "cell_type": "markdown",
   "id": "0c2b2280",
   "metadata": {
    "slideshow": {
     "slide_type": "slide"
    }
   },
   "source": [
    "* Let's verify the shapes of our arrays:"
   ]
  },
  {
   "cell_type": "code",
   "execution_count": null,
   "id": "3ff3b088",
   "metadata": {
    "slideshow": {
     "slide_type": "fragment"
    }
   },
   "outputs": [],
   "source": [
    "print(\"The shape of my_array:\", my_array.shape)\n",
    "print(\"The shape of my_transpose:\", my_transpose.shape)"
   ]
  }
 ],
 "metadata": {
  "celltoolbar": "Slideshow",
  "kernelspec": {
   "display_name": "Python 3 (ipykernel)",
   "language": "python",
   "name": "python3"
  },
  "language_info": {
   "codemirror_mode": {
    "name": "ipython",
    "version": 3
   },
   "file_extension": ".py",
   "mimetype": "text/x-python",
   "name": "python",
   "nbconvert_exporter": "python",
   "pygments_lexer": "ipython3",
   "version": "3.10.7"
  }
 },
 "nbformat": 4,
 "nbformat_minor": 5
}
