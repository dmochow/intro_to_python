{
 "cells": [
  {
   "cell_type": "markdown",
   "id": "cfd1a2da",
   "metadata": {
    "slideshow": {
     "slide_type": "slide"
    }
   },
   "source": [
    "## <center> Lecture 10 </center>\n",
    "## <center> Intro to Object-Oriented Programming </center>"
   ]
  },
  {
   "cell_type": "markdown",
   "id": "8253dcf4",
   "metadata": {
    "slideshow": {
     "slide_type": "slide"
    }
   },
   "source": [
    "## In Python, \"everything is an object\"\n",
    "* But what does this mean?"
   ]
  },
  {
   "cell_type": "markdown",
   "id": "9c483738",
   "metadata": {
    "slideshow": {
     "slide_type": "slide"
    }
   },
   "source": [
    "## Data types refer to different _classes_ of _objects_\n",
    "* We've seen that our variables always have a _type_: ```int```, ```float```, ```list```, ```ndarray``` etc.\n",
    "* Each of these types conforms to a particular specification, called a _class_\n",
    "* When you create a float with ```x=2.3```, an _object_ of the ```float``` class has been _instantiated_:"
   ]
  },
  {
   "cell_type": "code",
   "execution_count": 1,
   "id": "3430d58b",
   "metadata": {
    "slideshow": {
     "slide_type": "fragment"
    }
   },
   "outputs": [
    {
     "name": "stdout",
     "output_type": "stream",
     "text": [
      "<class 'float'>\n"
     ]
    }
   ],
   "source": [
    "x = 2.3\n",
    "print(type(x))"
   ]
  },
  {
   "cell_type": "markdown",
   "id": "3213f4f8",
   "metadata": {
    "slideshow": {
     "slide_type": "slide"
    }
   },
   "source": [
    "## Classes constrain operations on their objects\n",
    "* This means that certain operations are possible on the ```float``` object ```x```\n",
    "* For example, we can add, subtract, multiply, or divide it by other floats\n",
    "* But we _cannot_, for example, take the factorial of x\n",
    "* The factorial operation is not in the class specification of the ```float``` class"
   ]
  },
  {
   "cell_type": "markdown",
   "id": "46add991",
   "metadata": {
    "slideshow": {
     "slide_type": "slide"
    }
   },
   "source": [
    "## Classes group logical data\n",
    "* Objects are instantiations of classes\n",
    "* Your programs may spawn many objects of the same class\n",
    "* Some classes, such as ```int``` and ```list```, are built-in to Python\n",
    "* Other classes, such as the one that we will create in this lecture, are _custom_"
   ]
  },
  {
   "cell_type": "markdown",
   "id": "6d1ac78b",
   "metadata": {
    "slideshow": {
     "slide_type": "slide"
    }
   },
   "source": [
    "## Classes make code development logical\n",
    "* Each object has data and methods\n",
    "* The methods are functions that manipulate the object's data"
   ]
  },
  {
   "cell_type": "markdown",
   "id": "692f60e0",
   "metadata": {
    "slideshow": {
     "slide_type": "slide"
    }
   },
   "source": [
    "## Classes are often extended to make other, more specific classes\n",
    "* This process is known as _inheritance_\n",
    "* As an example, we can create a ```Student``` class\n",
    "* We could then extend the ```Student``` class to make an ```CcnyStudent``` class\n",
    "* We could then extend the ```CcnyStudent``` class to make an ```CcnyBmeStudent``` class\n",
    "* In this manner, we do not have to write code that has already been written!"
   ]
  },
  {
   "cell_type": "markdown",
   "id": "44e087cf",
   "metadata": {
    "slideshow": {
     "slide_type": "slide"
    }
   },
   "source": [
    "## A concrete example\n",
    "* Let's demonstrate the syntax and utility of classes with a specific example\n",
    "* We will write a custom class that will store Twitter accounts\n",
    "* Each account will need to hold the name of the holder, the handle, a list of followers, and a list of who they follow\n",
    "* Let's start with a minimal class definition:"
   ]
  },
  {
   "cell_type": "code",
   "execution_count": 2,
   "id": "e5f3a157",
   "metadata": {
    "slideshow": {
     "slide_type": "slide"
    }
   },
   "outputs": [],
   "source": [
    "class TwitterAccount():\n",
    "    def __init__(self, name, handle):\n",
    "        self.name = name\n",
    "        self.handle = handle"
   ]
  },
  {
   "cell_type": "markdown",
   "id": "ddcd1d1f",
   "metadata": {
    "slideshow": {
     "slide_type": "fragment"
    }
   },
   "source": [
    "* We can now create a new ```TwitterAccount``` by calling the so-called _constructor_:"
   ]
  },
  {
   "cell_type": "code",
   "execution_count": 3,
   "id": "b33bb7ec",
   "metadata": {
    "slideshow": {
     "slide_type": "fragment"
    }
   },
   "outputs": [],
   "source": [
    "elon = TwitterAccount(name='Elon Musk', handle='elonmusk')"
   ]
  },
  {
   "cell_type": "markdown",
   "id": "7f8abac8",
   "metadata": {
    "slideshow": {
     "slide_type": "slide"
    }
   },
   "source": [
    "* Let's first verify the type of variable ```elon```:"
   ]
  },
  {
   "cell_type": "code",
   "execution_count": 4,
   "id": "09aec16a",
   "metadata": {
    "slideshow": {
     "slide_type": "fragment"
    }
   },
   "outputs": [
    {
     "data": {
      "text/plain": [
       "__main__.TwitterAccount"
      ]
     },
     "execution_count": 4,
     "metadata": {},
     "output_type": "execute_result"
    }
   ],
   "source": [
    "type(elon)"
   ]
  },
  {
   "cell_type": "markdown",
   "id": "b04683f6",
   "metadata": {
    "slideshow": {
     "slide_type": "fragment"
    }
   },
   "source": [
    "* We see that ```elon``` is a ```TwitterAccount``` object\n",
    "* ```__main___``` is a pointer to the environment that this object resides (beyond the scope of this course)"
   ]
  },
  {
   "cell_type": "markdown",
   "id": "8d2b5591",
   "metadata": {
    "slideshow": {
     "slide_type": "slide"
    }
   },
   "source": [
    "## Accessing the member variables of an object\n",
    "* We can access the ```name``` and ```handle``` of our object with the following common syntax:"
   ]
  },
  {
   "cell_type": "code",
   "execution_count": 5,
   "id": "8c519c42",
   "metadata": {
    "slideshow": {
     "slide_type": "fragment"
    }
   },
   "outputs": [
    {
     "data": {
      "text/plain": [
       "'Elon Musk'"
      ]
     },
     "execution_count": 5,
     "metadata": {},
     "output_type": "execute_result"
    }
   ],
   "source": [
    "elon.name"
   ]
  },
  {
   "cell_type": "code",
   "execution_count": 6,
   "id": "32cf35ad",
   "metadata": {
    "slideshow": {
     "slide_type": "fragment"
    }
   },
   "outputs": [
    {
     "data": {
      "text/plain": [
       "'elonmusk'"
      ]
     },
     "execution_count": 6,
     "metadata": {},
     "output_type": "execute_result"
    }
   ],
   "source": [
    "elon.handle"
   ]
  },
  {
   "cell_type": "markdown",
   "id": "368802a2",
   "metadata": {
    "slideshow": {
     "slide_type": "slide"
    }
   },
   "source": [
    "## The __init__ method initializes your object\n",
    "* The following method is automatically called with the creation of the object:"
   ]
  },
  {
   "cell_type": "code",
   "execution_count": 7,
   "id": "86e4238d",
   "metadata": {
    "slideshow": {
     "slide_type": "fragment"
    }
   },
   "outputs": [],
   "source": [
    "def __init__(self, name, handle):\n",
    "        self.name = name\n",
    "        self.handle = handle"
   ]
  },
  {
   "cell_type": "markdown",
   "id": "b41e8c94",
   "metadata": {
    "slideshow": {
     "slide_type": "fragment"
    }
   },
   "source": [
    "* The object was created with the line:"
   ]
  },
  {
   "cell_type": "code",
   "execution_count": 8,
   "id": "ce3d704c",
   "metadata": {
    "slideshow": {
     "slide_type": "fragment"
    }
   },
   "outputs": [],
   "source": [
    "elon = TwitterAccount(name='Elon Musk', handle='elonmusk')"
   ]
  },
  {
   "cell_type": "markdown",
   "id": "eecda9f5",
   "metadata": {
    "slideshow": {
     "slide_type": "slide"
    }
   },
   "source": [
    "* Every class must have an  ```__init__()``` method\n",
    "* The first argument refers to the object that is being spawned!\n",
    "* The subsequent arguments tell the constructor what the initial values of the object are\n",
    "* In our case, we are providing the account holder's real name, and his Twitter handle"
   ]
  },
  {
   "cell_type": "markdown",
   "id": "4dec1d9b",
   "metadata": {
    "slideshow": {
     "slide_type": "slide"
    }
   },
   "source": [
    "* The lines:"
   ]
  },
  {
   "cell_type": "markdown",
   "id": "03dad7d5",
   "metadata": {
    "slideshow": {
     "slide_type": "fragment"
    }
   },
   "source": [
    "```self.name = name``` <br>\n",
    "```self.handle = handle```"
   ]
  },
  {
   "cell_type": "markdown",
   "id": "db44ea64",
   "metadata": {
    "slideshow": {
     "slide_type": "fragment"
    }
   },
   "source": [
    "* assign the value ```Elon Musk``` to the object's ```name``` property\n",
    "* assign the value ```elonmusk``` to the object's ```handle``` property"
   ]
  },
  {
   "cell_type": "markdown",
   "id": "2658088f",
   "metadata": {
    "slideshow": {
     "slide_type": "slide"
    }
   },
   "source": [
    "## Adding a method to our class\n",
    "* Let's add a method that adds a new follower to our Twitter account\n",
    "* Before this, we need to create a new member variable to hold the current list of followers"
   ]
  },
  {
   "cell_type": "code",
   "execution_count": 9,
   "id": "ce79c809",
   "metadata": {
    "slideshow": {
     "slide_type": "fragment"
    }
   },
   "outputs": [],
   "source": [
    "class TwitterAccount():\n",
    "    def __init__(self, name, handle):\n",
    "        self.name = name\n",
    "        self.handle = handle\n",
    "        self.followers = [] # no followers to begin with - they are just signing up"
   ]
  },
  {
   "cell_type": "markdown",
   "id": "968b2a82",
   "metadata": {
    "slideshow": {
     "slide_type": "fragment"
    }
   },
   "source": [
    "* Note that the ```follower``` list has been initialized to an empty list\n",
    "* This models the case that the object is instantiated when Elon first signs up for Twitter"
   ]
  },
  {
   "cell_type": "markdown",
   "id": "2c164e84",
   "metadata": {
    "slideshow": {
     "slide_type": "slide"
    }
   },
   "source": [
    "Q: What types of data should be contained in the ```followers``` list?"
   ]
  },
  {
   "cell_type": "markdown",
   "id": "8eb0d0e6",
   "metadata": {
    "slideshow": {
     "slide_type": "fragment"
    }
   },
   "source": [
    "* The ```add_follower``` method may be added as follows:"
   ]
  },
  {
   "cell_type": "code",
   "execution_count": 10,
   "id": "eed5bdfe",
   "metadata": {
    "slideshow": {
     "slide_type": "slide"
    }
   },
   "outputs": [],
   "source": [
    "class TwitterAccount():\n",
    "    def __init__(self, name, handle):\n",
    "        self.name = name\n",
    "        self.handle = handle\n",
    "        self.followers = []\n",
    "    def add_follower(self, follower_account):\n",
    "        self.followers.append(follower_account)"
   ]
  },
  {
   "cell_type": "markdown",
   "id": "669756c3",
   "metadata": {
    "slideshow": {
     "slide_type": "slide"
    }
   },
   "source": [
    "* Let's create a second Twitter account, and add this user to Elon's list of followers!"
   ]
  },
  {
   "cell_type": "code",
   "execution_count": 11,
   "id": "e7126eac",
   "metadata": {
    "slideshow": {
     "slide_type": "fragment"
    }
   },
   "outputs": [],
   "source": [
    "elon = TwitterAccount(name='Elon Musk', handle='elonmusk')\n",
    "biebs = TwitterAccount(name='Justin Bieber', handle='justinbieber')"
   ]
  },
  {
   "cell_type": "markdown",
   "id": "c320906b",
   "metadata": {
    "slideshow": {
     "slide_type": "fragment"
    }
   },
   "source": [
    "* Now let's add the Biebs to Elon's followers"
   ]
  },
  {
   "cell_type": "code",
   "execution_count": 12,
   "id": "e8871f8c",
   "metadata": {
    "slideshow": {
     "slide_type": "fragment"
    }
   },
   "outputs": [],
   "source": [
    "elon.add_follower(biebs)"
   ]
  },
  {
   "cell_type": "markdown",
   "id": "dfa5f538",
   "metadata": {
    "slideshow": {
     "slide_type": "slide"
    }
   },
   "source": [
    "## The moment of truth: was the Biebs added to Elon's followers?"
   ]
  },
  {
   "cell_type": "code",
   "execution_count": 13,
   "id": "d7a750a3",
   "metadata": {
    "slideshow": {
     "slide_type": "fragment"
    }
   },
   "outputs": [
    {
     "data": {
      "text/plain": [
       "'Justin Bieber'"
      ]
     },
     "execution_count": 13,
     "metadata": {},
     "output_type": "execute_result"
    }
   ],
   "source": [
    "elon.followers[0].name"
   ]
  },
  {
   "cell_type": "markdown",
   "id": "7032d22c",
   "metadata": {
    "slideshow": {
     "slide_type": "fragment"
    }
   },
   "source": [
    "* In the above ```elon.followers``` is a list of TwitterAccount objects\n",
    "* We know that the lenght of the list must be 1, because we only added one user\n",
    "* ```elon.followers[0]``` retrieves the TwitterAccount of Elon's first follower\n",
    "* Finally, ```elon.followers[0].name``` retrieves the full name of Elon's first follower"
   ]
  },
  {
   "cell_type": "markdown",
   "id": "3c878244",
   "metadata": {
    "slideshow": {
     "slide_type": "fragment"
    }
   },
   "source": [
    "## Let's add a method to count the number of followers\n",
    "* This method need not take any arguments other than the calling object\n",
    "* It should return an integer:"
   ]
  },
  {
   "cell_type": "code",
   "execution_count": 14,
   "id": "5c4e0fbd",
   "metadata": {
    "slideshow": {
     "slide_type": "fragment"
    }
   },
   "outputs": [],
   "source": [
    "class TwitterAccount():\n",
    "    def __init__(self, name, handle):\n",
    "        self.name = name\n",
    "        self.handle = handle\n",
    "        self.followers = []\n",
    "    def add_follower(self, follower_account):\n",
    "        self.followers.append(follower_account)\n",
    "    def get_number_followers(self):\n",
    "        return len(self.followers)"
   ]
  },
  {
   "cell_type": "markdown",
   "id": "9506ce29",
   "metadata": {
    "slideshow": {
     "slide_type": "slide"
    }
   },
   "source": [
    "## Testing ```get_number_followers()```\n",
    "* Let's add some more follower's to Elon's account, and then test our method"
   ]
  },
  {
   "cell_type": "code",
   "execution_count": 15,
   "id": "cbdd26a0",
   "metadata": {
    "slideshow": {
     "slide_type": "fragment"
    }
   },
   "outputs": [],
   "source": [
    "elon = TwitterAccount(name='Elon Musk', handle='elonmusk')\n",
    "biebs = TwitterAccount(name='Justin Bieber', handle='justinbieber')\n",
    "katy = TwitterAccount(name='Katy Perry', handle='katyperry')\n",
    "obama = TwitterAccount(name='Barack Obama', handle='BarackObama')\n",
    "elon.add_follower(biebs)\n",
    "elon.add_follower(katy)\n",
    "elon.add_follower(obama)"
   ]
  },
  {
   "cell_type": "code",
   "execution_count": 16,
   "id": "7f377c6b",
   "metadata": {
    "slideshow": {
     "slide_type": "fragment"
    }
   },
   "outputs": [
    {
     "data": {
      "text/plain": [
       "3"
      ]
     },
     "execution_count": 16,
     "metadata": {},
     "output_type": "execute_result"
    }
   ],
   "source": [
    "elon.get_number_followers()"
   ]
  },
  {
   "cell_type": "markdown",
   "id": "e2cbd046",
   "metadata": {
    "slideshow": {
     "slide_type": "slide"
    }
   },
   "source": [
    "## Modifying object properties\n",
    "* Let's imagine that Elon Musk decides to change his Twitter handle\n",
    "* We need to modify his record, _without_ changing his list of followers\n",
    "* We can do this with the following syntax:"
   ]
  },
  {
   "cell_type": "code",
   "execution_count": 17,
   "id": "8df3372a",
   "metadata": {
    "slideshow": {
     "slide_type": "fragment"
    }
   },
   "outputs": [],
   "source": [
    "elon.handle = 'boo_mastodon'"
   ]
  },
  {
   "cell_type": "markdown",
   "id": "f8f7df71",
   "metadata": {
    "slideshow": {
     "slide_type": "slide"
    }
   },
   "source": [
    "## Simulating \"private\" data\n",
    "* When creating objects, we would like some of the data to remain _internal_\n",
    "* For example, let's say that Twitter account holders are assigned a private account ID\n",
    "* We want to keep this account ID _private_, which we indicate in Python with a leading underscore"
   ]
  },
  {
   "cell_type": "code",
   "execution_count": 24,
   "id": "e8a9fa77",
   "metadata": {
    "slideshow": {
     "slide_type": "fragment"
    }
   },
   "outputs": [],
   "source": [
    "import numpy as np\n",
    "\n",
    "class TwitterAccount():\n",
    "    def __init__(self, name, handle):\n",
    "        self.name = name\n",
    "        self.handle = handle\n",
    "        self.followers = []\n",
    "        self._userid = np.random.randint(1e6)\n",
    "    def add_follower(self, follower_account):\n",
    "        self.followers.append(follower_account)\n",
    "    def get_number_followers(self):\n",
    "        return len(self.followers)"
   ]
  },
  {
   "cell_type": "markdown",
   "id": "7cd7dd4d",
   "metadata": {
    "slideshow": {
     "slide_type": "fragment"
    }
   },
   "source": [
    "* In the snippet above, we've simulated the ```_userid``` be generating a random integer between 1 and 1,000,000\n",
    "* Note that the underscore is just a syntax that tells programmers that this should be a private variable\n",
    "* If a user is aware of this ```_userid``` property, then they can still access it:"
   ]
  },
  {
   "cell_type": "code",
   "execution_count": 25,
   "id": "64c27d8c",
   "metadata": {
    "slideshow": {
     "slide_type": "fragment"
    }
   },
   "outputs": [
    {
     "data": {
      "text/plain": [
       "464599"
      ]
     },
     "execution_count": 25,
     "metadata": {},
     "output_type": "execute_result"
    }
   ],
   "source": [
    "elon = TwitterAccount(name='Elon Musk', handle='elonmusk')\n",
    "elon._userid"
   ]
  },
  {
   "cell_type": "code",
   "execution_count": 26,
   "id": "d5a52f3a",
   "metadata": {
    "slideshow": {
     "slide_type": "fragment"
    }
   },
   "outputs": [
    {
     "data": {
      "text/plain": [
       "918945"
      ]
     },
     "execution_count": 26,
     "metadata": {},
     "output_type": "execute_result"
    }
   ],
   "source": [
    "biebs = TwitterAccount(name='Justin Bieber', handle='justinbieber')\n",
    "biebs._userid"
   ]
  },
  {
   "cell_type": "markdown",
   "id": "24e4bdc6",
   "metadata": {
    "slideshow": {
     "slide_type": "fragment"
    }
   },
   "source": [
    "* Let's examine the value of this \"private\" variable:"
   ]
  },
  {
   "cell_type": "markdown",
   "id": "210a980c",
   "metadata": {
    "slideshow": {
     "slide_type": "slide"
    }
   },
   "source": [
    "## The standard method ```__str__``` \n",
    "* When creating an object, we often want to be able to examine its contents\n",
    "* However, simply evaluating it in the interpreter provides little information:"
   ]
  },
  {
   "cell_type": "code",
   "execution_count": 27,
   "id": "6d8017fd",
   "metadata": {
    "slideshow": {
     "slide_type": "fragment"
    }
   },
   "outputs": [
    {
     "data": {
      "text/plain": [
       "<__main__.TwitterAccount at 0x105e997b0>"
      ]
     },
     "execution_count": 27,
     "metadata": {},
     "output_type": "execute_result"
    }
   ],
   "source": [
    "elon = TwitterAccount(name='Elon Musk', handle='elonmusk')\n",
    "elon"
   ]
  },
  {
   "cell_type": "markdown",
   "id": "b48db09e",
   "metadata": {
    "slideshow": {
     "slide_type": "slide"
    }
   },
   "source": [
    "* The ```__str__``` method is a common way to solve this problem\n",
    "* This method aims to return a string that summarizes the contents of the object\n",
    "* Let's implement this method for our ```TwitterAccount``` class:"
   ]
  },
  {
   "cell_type": "code",
   "execution_count": 22,
   "id": "efb57870",
   "metadata": {
    "slideshow": {
     "slide_type": "fragment"
    }
   },
   "outputs": [],
   "source": [
    "import numpy as np\n",
    "\n",
    "class TwitterAccount():\n",
    "    def __init__(self, name, handle):\n",
    "        self.name = name\n",
    "        self.handle = handle\n",
    "        self.followers = []\n",
    "        self._userid = np.random.randint(1e6)\n",
    "    def add_follower(self, follower_account):\n",
    "        self.followers.append(follower_account)\n",
    "    def get_number_followers(self):\n",
    "        return len(self.followers)\n",
    "    def __str__(self):\n",
    "        outstr = self.name + ':' + '@' + self.handle + '|' + str(self.get_number_followers()) + ' followers'\n",
    "        return outstr"
   ]
  },
  {
   "cell_type": "markdown",
   "id": "fcf7dec9",
   "metadata": {
    "slideshow": {
     "slide_type": "fragment"
    }
   },
   "source": [
    "* The ```__str__``` method produces a string conveying the name, handle, an\n",
    "* Let's test our ```__str__``` method\n",
    "* By default, printing our object's name will trigger this method:"
   ]
  },
  {
   "cell_type": "code",
   "execution_count": 23,
   "id": "83b6ab88",
   "metadata": {
    "slideshow": {
     "slide_type": "fragment"
    }
   },
   "outputs": [
    {
     "name": "stdout",
     "output_type": "stream",
     "text": [
      "Elon Musk:@elonmusk|0 followers\n"
     ]
    }
   ],
   "source": [
    "elon = TwitterAccount(name='Elon Musk', handle='elonmusk')\n",
    "print(elon)"
   ]
  }
 ],
 "metadata": {
  "celltoolbar": "Slideshow",
  "kernelspec": {
   "display_name": "Python 3 (ipykernel)",
   "language": "python",
   "name": "python3"
  },
  "language_info": {
   "codemirror_mode": {
    "name": "ipython",
    "version": 3
   },
   "file_extension": ".py",
   "mimetype": "text/x-python",
   "name": "python",
   "nbconvert_exporter": "python",
   "pygments_lexer": "ipython3",
   "version": "3.10.7"
  }
 },
 "nbformat": 4,
 "nbformat_minor": 5
}
