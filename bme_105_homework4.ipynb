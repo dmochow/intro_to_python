{
 "cells": [
  {
   "cell_type": "markdown",
   "id": "d96e74fb",
   "metadata": {},
   "source": [
    "#### BME 105\n",
    "#### Spring 2023\n",
    "#### Homework Assignment 4"
   ]
  },
  {
   "cell_type": "markdown",
   "id": "77b93337",
   "metadata": {},
   "source": [
    "In this notebook, you will write a few simple functions in Python. The aim of these exercises is to familiarize yourself with the input-output framework of functions and the concept of arguments. "
   ]
  },
  {
   "cell_type": "markdown",
   "id": "ecc4c5e9",
   "metadata": {},
   "source": [
    "(1) Write a function for computing the _factorial_ of an input integer ```n```. Your function must return ```1``` for ```n=0``` and ```-1``` for a negative input. You may _not_ use any built-in factorial functions such as ```math.factorial```. "
   ]
  },
  {
   "cell_type": "code",
   "execution_count": null,
   "id": "bd6b18dd",
   "metadata": {},
   "outputs": [],
   "source": []
  },
  {
   "cell_type": "markdown",
   "id": "d6497166",
   "metadata": {},
   "source": [
    "(2) Use your factorial function from (1) to compute the factorials of the integers 0 through 10. Your answer should be displayed as a set of ```print``` statements executed in a ```for``` loop. "
   ]
  },
  {
   "cell_type": "code",
   "execution_count": null,
   "id": "728b9c5b",
   "metadata": {},
   "outputs": [],
   "source": []
  },
  {
   "cell_type": "markdown",
   "id": "0b516b87",
   "metadata": {},
   "source": [
    "(3) Write a function that provides a user with a target heart rate range. The inputs into the function are:\n",
    "* The age of the individual\n",
    "* The desired heart rate zone, which should be one of 1, 2, 3, 4, 5\n",
    "\n",
    "The heart rate zones are:\n",
    "* Zone 1: 50-60% of max heart rate\n",
    "* Zone 2: 60-70% of max heart rate\n",
    "* Zone 3: 70-80% of max heart rate\n",
    "* Zone 4: 80-90% of max heart rate\n",
    "* Zone 5: 90-100% of max heart rate\n",
    " \n",
    "For a user whose age is 43 and who wishes to exercise in zone 2, the function should output the following statement: <br>\n",
    "```Your target heart rate range is from 107 to 124```\n",
    "    \n",
    "The prototype of the function has been provided for you. "
   ]
  },
  {
   "cell_type": "code",
   "execution_count": 1,
   "id": "b83c4c71",
   "metadata": {},
   "outputs": [],
   "source": [
    "def compute_hr_zone(age, zone):\n",
    "    #\n",
    "    # your code goes here\n",
    "    #\n",
    "    return"
   ]
  },
  {
   "cell_type": "markdown",
   "id": "02517423",
   "metadata": {},
   "source": [
    "(4) Call your function for a user whose age is 28 and who wishes to exercise in zone 4. "
   ]
  },
  {
   "cell_type": "code",
   "execution_count": null,
   "id": "fa47cfd7",
   "metadata": {},
   "outputs": [],
   "source": []
  },
  {
   "cell_type": "markdown",
   "id": "f5e9b940",
   "metadata": {},
   "source": [
    "(5) Modify your function such that default values are provided for both age (defaults to ```40```) and zone (defaults to ```2```).\n",
    "Call your modified function with the syntax ```compute_hr_zone()``` and confirm that the output is correct. "
   ]
  },
  {
   "cell_type": "code",
   "execution_count": null,
   "id": "8071e662",
   "metadata": {},
   "outputs": [],
   "source": []
  }
 ],
 "metadata": {
  "kernelspec": {
   "display_name": "Python 3 (ipykernel)",
   "language": "python",
   "name": "python3"
  },
  "language_info": {
   "codemirror_mode": {
    "name": "ipython",
    "version": 3
   },
   "file_extension": ".py",
   "mimetype": "text/x-python",
   "name": "python",
   "nbconvert_exporter": "python",
   "pygments_lexer": "ipython3",
   "version": "3.10.7"
  }
 },
 "nbformat": 4,
 "nbformat_minor": 5
}
