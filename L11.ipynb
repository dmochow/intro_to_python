{
 "cells": [
  {
   "cell_type": "markdown",
   "id": "cfd1a2da",
   "metadata": {
    "slideshow": {
     "slide_type": "slide"
    }
   },
   "source": [
    "## <center> Lecture 11 </center>\n",
    "## <center> Pandas Dataframes and Data Visualization </center>"
   ]
  },
  {
   "cell_type": "markdown",
   "id": "8253dcf4",
   "metadata": {
    "slideshow": {
     "slide_type": "slide"
    }
   },
   "source": [
    "## Installation\n",
    "\n",
    "* Ensure Pandas, Matplotlib, and Seaborn are _installed_ with the following command:\n"
   ]
  },
  {
   "cell_type": "code",
   "execution_count": null,
   "id": "1908ceaa",
   "metadata": {
    "slideshow": {
     "slide_type": "fragment"
    }
   },
   "outputs": [],
   "source": [
    "!pip install pandas matplotlib seaborn"
   ]
  },
  {
   "cell_type": "markdown",
   "id": "07fe6e92",
   "metadata": {
    "slideshow": {
     "slide_type": "slide"
    }
   },
   "source": [
    "## Importing the Pandas library\n",
    "* This step is required to use the Pandas library and its functions."
   ]
  },
  {
   "cell_type": "code",
   "execution_count": null,
   "id": "567865c1",
   "metadata": {
    "slideshow": {
     "slide_type": "fragment"
    }
   },
   "outputs": [],
   "source": [
    "import pandas as pd"
   ]
  },
  {
   "cell_type": "markdown",
   "id": "c12133c9",
   "metadata": {
    "slideshow": {
     "slide_type": "slide"
    }
   },
   "source": [
    "## Loading Biomedical Data\n",
    "\n",
    "* We will start by loading an arrhythmia dataset from over 450 patients.\n",
    "* The data is in CSV format, and we will use Pandas to load it."
   ]
  },
  {
   "cell_type": "code",
   "execution_count": null,
   "id": "f37d1e12",
   "metadata": {
    "slideshow": {
     "slide_type": "fragment"
    }
   },
   "outputs": [],
   "source": [
    "csv_filename = 'data_arrhythmia.csv'\n",
    "df = pd.read_csv(csv_filename, delimiter=';')"
   ]
  },
  {
   "cell_type": "markdown",
   "id": "f0f02a38",
   "metadata": {
    "slideshow": {
     "slide_type": "slide"
    }
   },
   "source": [
    "## Exploring the Data\n",
    "* Verify the type of the data structure."
   ]
  },
  {
   "cell_type": "code",
   "execution_count": null,
   "id": "c3475799",
   "metadata": {
    "slideshow": {
     "slide_type": "fragment"
    }
   },
   "outputs": [],
   "source": [
    "type(df)"
   ]
  },
  {
   "cell_type": "markdown",
   "id": "1b18971b",
   "metadata": {
    "slideshow": {
     "slide_type": "fragment"
    }
   },
   "source": [
    "* Obtain the size of the dataframe (number of rows and columns)."
   ]
  },
  {
   "cell_type": "code",
   "execution_count": null,
   "id": "a6451c9a",
   "metadata": {
    "slideshow": {
     "slide_type": "fragment"
    }
   },
   "outputs": [],
   "source": [
    "df.shape"
   ]
  },
  {
   "cell_type": "markdown",
   "id": "3b5eaffb",
   "metadata": {
    "slideshow": {
     "slide_type": "slide"
    }
   },
   "source": [
    "## Accessing Data\n",
    "* Access the first few rows of the dataframe."
   ]
  },
  {
   "cell_type": "code",
   "execution_count": null,
   "id": "54298d89",
   "metadata": {
    "slideshow": {
     "slide_type": "fragment"
    }
   },
   "outputs": [],
   "source": [
    "df.head(5)"
   ]
  },
  {
   "cell_type": "markdown",
   "id": "732be997",
   "metadata": {
    "slideshow": {
     "slide_type": "fragment"
    }
   },
   "source": [
    "* Access a single column (age)."
   ]
  },
  {
   "cell_type": "code",
   "execution_count": null,
   "id": "5cf2cd7a",
   "metadata": {
    "slideshow": {
     "slide_type": "fragment"
    }
   },
   "outputs": [],
   "source": [
    "age = df['age']\n",
    "age"
   ]
  },
  {
   "cell_type": "markdown",
   "id": "48d0ccbd",
   "metadata": {
    "slideshow": {
     "slide_type": "slide"
    }
   },
   "source": [
    "## A column of a dataframe is called a _Series_\n",
    "* Verify the type of the age column."
   ]
  },
  {
   "cell_type": "code",
   "execution_count": null,
   "id": "70d94b74",
   "metadata": {
    "slideshow": {
     "slide_type": "fragment"
    }
   },
   "outputs": [],
   "source": [
    "type(age)"
   ]
  },
  {
   "cell_type": "markdown",
   "id": "322b2b5c",
   "metadata": {
    "slideshow": {
     "slide_type": "slide"
    }
   },
   "source": [
    "## Performing operations on a Series\n",
    "* We will calculate the mean age of the patients."
   ]
  },
  {
   "cell_type": "code",
   "execution_count": null,
   "id": "1a0ca57b",
   "metadata": {
    "slideshow": {
     "slide_type": "fragment"
    }
   },
   "outputs": [],
   "source": [
    "mean_age = df['age'].mean()\n",
    "print(f\"Mean age: {mean_age:.2f}\") "
   ]
  },
  {
   "cell_type": "markdown",
   "id": "774605c3",
   "metadata": {
    "slideshow": {
     "slide_type": "slide"
    }
   },
   "source": [
    "## Creating new columns in a dataframe\n",
    "* We will create a new column called _age_group_ based on the age of the patients."
   ]
  },
  {
   "cell_type": "code",
   "execution_count": null,
   "id": "a0734a98",
   "metadata": {
    "slideshow": {
     "slide_type": "fragment"
    }
   },
   "outputs": [],
   "source": [
    "df['age_group'] = df['age'].apply(lambda x: 'Adult' if x >= 18 else 'Child')"
   ]
  },
  {
   "cell_type": "markdown",
   "id": "91104a87",
   "metadata": {
    "slideshow": {
     "slide_type": "fragment"
    }
   },
   "source": [
    "* Verify the new column has been added to the dataframe."
   ]
  },
  {
   "cell_type": "code",
   "execution_count": null,
   "id": "a47aab45",
   "metadata": {
    "slideshow": {
     "slide_type": "fragment"
    }
   },
   "outputs": [],
   "source": [
    "df.head(5)"
   ]
  },
  {
   "cell_type": "markdown",
   "id": "46f7a9aa",
   "metadata": {
    "slideshow": {
     "slide_type": "slide"
    }
   },
   "source": [
    "## Accessing a subset of a dataframe based on a condition\n",
    "* We often need to access a subset of the data based on a logical condition.\n",
    "* For example, we may want to access only the records of the adult patients."
   ]
  },
  {
   "cell_type": "code",
   "execution_count": null,
   "id": "00ce90d8",
   "metadata": {
    "slideshow": {
     "slide_type": "fragment"
    }
   },
   "outputs": [],
   "source": [
    "adults = df[df['age'] >= 18]"
   ]
  },
  {
   "cell_type": "code",
   "execution_count": null,
   "id": "aadc18ba",
   "metadata": {
    "slideshow": {
     "slide_type": "fragment"
    }
   },
   "outputs": [],
   "source": [
    "adults.head(10)"
   ]
  },
  {
   "cell_type": "markdown",
   "id": "156220a1",
   "metadata": {
    "slideshow": {
     "slide_type": "fragment"
    }
   },
   "source": [
    "* Question: what is the type of the _adults_ variable?"
   ]
  },
  {
   "cell_type": "markdown",
   "id": "47bb1689",
   "metadata": {
    "slideshow": {
     "slide_type": "slide"
    }
   },
   "source": [
    "## Summary statistics\n",
    "* We can obtain summary statistics for a column.\n",
    "* For example, we can calculate the mean, standard deviation, minimum, maximum, and quartiles of the age column."
   ]
  },
  {
   "cell_type": "code",
   "execution_count": null,
   "id": "acf75eb1",
   "metadata": {
    "slideshow": {
     "slide_type": "fragment"
    }
   },
   "outputs": [],
   "source": [
    "summary_age = df['age'].describe()\n",
    "summary_age"
   ]
  },
  {
   "cell_type": "markdown",
   "id": "390700a3",
   "metadata": {
    "slideshow": {
     "slide_type": "fragment"
    }
   },
   "source": [
    "* Q: What fraction of the patients in the dataset are less than 47 years old?"
   ]
  },
  {
   "cell_type": "markdown",
   "id": "8abf32fc",
   "metadata": {
    "slideshow": {
     "slide_type": "slide"
    }
   },
   "source": [
    "## Counting the number of occurrences of the 'Child' age group\n",
    "* We often need to count the number of occurrences of a specific value in a column."
   ]
  },
  {
   "cell_type": "code",
   "execution_count": null,
   "id": "2e70c9f7",
   "metadata": {
    "slideshow": {
     "slide_type": "fragment"
    }
   },
   "outputs": [],
   "source": [
    "(df['age_group']=='Child').sum()"
   ]
  },
  {
   "cell_type": "markdown",
   "id": "9c50c334",
   "metadata": {
    "slideshow": {
     "slide_type": "slide"
    }
   },
   "source": [
    "## Creating columns based on mathematical operations on existing columns\n",
    "* The original dataset contains the weight in kg and the height in cm.\n",
    "* We will create a new column called _bmi_ which will be equal to the weight in pounds divided by the square of height in cm."
   ]
  },
  {
   "cell_type": "code",
   "execution_count": 7,
   "id": "dc95ef71",
   "metadata": {
    "slideshow": {
     "slide_type": "fragment"
    }
   },
   "outputs": [
    {
     "data": {
      "text/plain": [
       "25.18839928094976"
      ]
     },
     "execution_count": 7,
     "metadata": {},
     "output_type": "execute_result"
    }
   ],
   "source": [
    "df['bmi'] = df['weight'] / (df['height'] / 100)**2\n",
    "df['bmi'].mean()"
   ]
  },
  {
   "cell_type": "markdown",
   "id": "bd97ad3f",
   "metadata": {
    "slideshow": {
     "slide_type": "fragment"
    }
   },
   "source": [
    "* Let's calculate what proportion of patients have a BMI greater than 30."
   ]
  },
  {
   "cell_type": "code",
   "execution_count": 8,
   "id": "15f5e43a",
   "metadata": {
    "slideshow": {
     "slide_type": "fragment"
    }
   },
   "outputs": [
    {
     "data": {
      "text/plain": [
       "0.13053097345132744"
      ]
     },
     "execution_count": 8,
     "metadata": {},
     "output_type": "execute_result"
    }
   ],
   "source": [
    "(df['bmi'] > 30).mean()"
   ]
  },
  {
   "cell_type": "markdown",
   "id": "3328fa43",
   "metadata": {
    "slideshow": {
     "slide_type": "fragment"
    }
   },
   "source": [
    "* Why did I perform a mean operation on the previous cell?"
   ]
  },
  {
   "cell_type": "markdown",
   "id": "0370717c",
   "metadata": {
    "slideshow": {
     "slide_type": "slide"
    }
   },
   "source": [
    "## Data Visualization\n",
    "* Pandas is integrated with the Matplotlib and Seaborn libraries for visualizing your data.\n",
    "* Looking at your data is essential to understand it better, as well as to spot trends and outliers.\n",
    "* Some of the most common plots are histograms and scatter plots."
   ]
  },
  {
   "cell_type": "markdown",
   "id": "60d9f892",
   "metadata": {
    "slideshow": {
     "slide_type": "slide"
    }
   },
   "source": [
    "## Importing the Matplotlib and Seaborn libraries\n",
    "* These import statements are commonplace when working with data visualization in Python."
   ]
  },
  {
   "cell_type": "code",
   "execution_count": 9,
   "id": "a5d272e8",
   "metadata": {
    "slideshow": {
     "slide_type": "fragment"
    }
   },
   "outputs": [],
   "source": [
    "import matplotlib.pyplot as plt\n",
    "import seaborn as sns"
   ]
  },
  {
   "cell_type": "markdown",
   "id": "4b6791dc",
   "metadata": {
    "slideshow": {
     "slide_type": "slide"
    }
   },
   "source": [
    "## Simplifying the diagnosis column\n",
    "* The original dataset has a diagnosis column with values ranging from 1 to 16.\n",
    "* The category 1 corresponds to patients without arrhythmia.\n",
    "* Categories 2 and above correspond to patients with different types of arrhythmia.\n",
    "* We will simplify this column by creating a new column called _has_arrhythmia_."
   ]
  },
  {
   "cell_type": "code",
   "execution_count": 12,
   "id": "92cc6f33",
   "metadata": {
    "slideshow": {
     "slide_type": "fragment"
    }
   },
   "outputs": [],
   "source": [
    "df['has_arrhythmia'] = df['diagnosis'].apply(lambda x: 0 if x == 1 else 1)"
   ]
  },
  {
   "cell_type": "code",
   "execution_count": 13,
   "id": "068307ee",
   "metadata": {
    "slideshow": {
     "slide_type": "fragment"
    }
   },
   "outputs": [
    {
     "data": {
      "text/html": [
       "<div>\n",
       "<style scoped>\n",
       "    .dataframe tbody tr th:only-of-type {\n",
       "        vertical-align: middle;\n",
       "    }\n",
       "\n",
       "    .dataframe tbody tr th {\n",
       "        vertical-align: top;\n",
       "    }\n",
       "\n",
       "    .dataframe thead th {\n",
       "        text-align: right;\n",
       "    }\n",
       "</style>\n",
       "<table border=\"1\" class=\"dataframe\">\n",
       "  <thead>\n",
       "    <tr style=\"text-align: right;\">\n",
       "      <th></th>\n",
       "      <th>age</th>\n",
       "      <th>sex</th>\n",
       "      <th>height</th>\n",
       "      <th>weight</th>\n",
       "      <th>qrs_duration</th>\n",
       "      <th>p-r_interval</th>\n",
       "      <th>q-t_interval</th>\n",
       "      <th>t_interval</th>\n",
       "      <th>p_interval</th>\n",
       "      <th>qrs</th>\n",
       "      <th>...</th>\n",
       "      <th>LB</th>\n",
       "      <th>LC</th>\n",
       "      <th>LD</th>\n",
       "      <th>LE</th>\n",
       "      <th>LF</th>\n",
       "      <th>LG</th>\n",
       "      <th>diagnosis</th>\n",
       "      <th>age_group</th>\n",
       "      <th>bmi</th>\n",
       "      <th>has_arrhythmia</th>\n",
       "    </tr>\n",
       "  </thead>\n",
       "  <tbody>\n",
       "    <tr>\n",
       "      <th>0</th>\n",
       "      <td>75</td>\n",
       "      <td>0</td>\n",
       "      <td>190</td>\n",
       "      <td>80</td>\n",
       "      <td>91</td>\n",
       "      <td>193</td>\n",
       "      <td>371</td>\n",
       "      <td>174</td>\n",
       "      <td>121</td>\n",
       "      <td>-16</td>\n",
       "      <td>...</td>\n",
       "      <td>0.0</td>\n",
       "      <td>0</td>\n",
       "      <td>0.9</td>\n",
       "      <td>2.9</td>\n",
       "      <td>23.3</td>\n",
       "      <td>49.4</td>\n",
       "      <td>8</td>\n",
       "      <td>Adult</td>\n",
       "      <td>22.160665</td>\n",
       "      <td>1</td>\n",
       "    </tr>\n",
       "    <tr>\n",
       "      <th>1</th>\n",
       "      <td>56</td>\n",
       "      <td>1</td>\n",
       "      <td>165</td>\n",
       "      <td>64</td>\n",
       "      <td>81</td>\n",
       "      <td>174</td>\n",
       "      <td>401</td>\n",
       "      <td>149</td>\n",
       "      <td>39</td>\n",
       "      <td>25</td>\n",
       "      <td>...</td>\n",
       "      <td>0.0</td>\n",
       "      <td>0</td>\n",
       "      <td>0.2</td>\n",
       "      <td>2.1</td>\n",
       "      <td>20.4</td>\n",
       "      <td>38.8</td>\n",
       "      <td>6</td>\n",
       "      <td>Adult</td>\n",
       "      <td>23.507805</td>\n",
       "      <td>1</td>\n",
       "    </tr>\n",
       "    <tr>\n",
       "      <th>2</th>\n",
       "      <td>54</td>\n",
       "      <td>0</td>\n",
       "      <td>172</td>\n",
       "      <td>95</td>\n",
       "      <td>138</td>\n",
       "      <td>163</td>\n",
       "      <td>386</td>\n",
       "      <td>185</td>\n",
       "      <td>102</td>\n",
       "      <td>96</td>\n",
       "      <td>...</td>\n",
       "      <td>0.0</td>\n",
       "      <td>0</td>\n",
       "      <td>0.3</td>\n",
       "      <td>3.4</td>\n",
       "      <td>12.3</td>\n",
       "      <td>49.0</td>\n",
       "      <td>10</td>\n",
       "      <td>Adult</td>\n",
       "      <td>32.111952</td>\n",
       "      <td>1</td>\n",
       "    </tr>\n",
       "    <tr>\n",
       "      <th>3</th>\n",
       "      <td>55</td>\n",
       "      <td>0</td>\n",
       "      <td>175</td>\n",
       "      <td>94</td>\n",
       "      <td>100</td>\n",
       "      <td>202</td>\n",
       "      <td>380</td>\n",
       "      <td>179</td>\n",
       "      <td>143</td>\n",
       "      <td>28</td>\n",
       "      <td>...</td>\n",
       "      <td>0.0</td>\n",
       "      <td>0</td>\n",
       "      <td>0.4</td>\n",
       "      <td>2.6</td>\n",
       "      <td>34.6</td>\n",
       "      <td>61.6</td>\n",
       "      <td>1</td>\n",
       "      <td>Adult</td>\n",
       "      <td>30.693878</td>\n",
       "      <td>0</td>\n",
       "    </tr>\n",
       "    <tr>\n",
       "      <th>4</th>\n",
       "      <td>75</td>\n",
       "      <td>0</td>\n",
       "      <td>190</td>\n",
       "      <td>80</td>\n",
       "      <td>88</td>\n",
       "      <td>181</td>\n",
       "      <td>360</td>\n",
       "      <td>177</td>\n",
       "      <td>103</td>\n",
       "      <td>-16</td>\n",
       "      <td>...</td>\n",
       "      <td>0.0</td>\n",
       "      <td>0</td>\n",
       "      <td>-0.1</td>\n",
       "      <td>3.9</td>\n",
       "      <td>25.4</td>\n",
       "      <td>62.8</td>\n",
       "      <td>7</td>\n",
       "      <td>Adult</td>\n",
       "      <td>22.160665</td>\n",
       "      <td>1</td>\n",
       "    </tr>\n",
       "  </tbody>\n",
       "</table>\n",
       "<p>5 rows × 283 columns</p>\n",
       "</div>"
      ],
      "text/plain": [
       "   age  sex  height  weight  qrs_duration  p-r_interval  q-t_interval  \\\n",
       "0   75    0     190      80            91           193           371   \n",
       "1   56    1     165      64            81           174           401   \n",
       "2   54    0     172      95           138           163           386   \n",
       "3   55    0     175      94           100           202           380   \n",
       "4   75    0     190      80            88           181           360   \n",
       "\n",
       "   t_interval  p_interval  qrs  ...   LB LC   LD   LE    LF    LG  diagnosis  \\\n",
       "0         174         121  -16  ...  0.0  0  0.9  2.9  23.3  49.4          8   \n",
       "1         149          39   25  ...  0.0  0  0.2  2.1  20.4  38.8          6   \n",
       "2         185         102   96  ...  0.0  0  0.3  3.4  12.3  49.0         10   \n",
       "3         179         143   28  ...  0.0  0  0.4  2.6  34.6  61.6          1   \n",
       "4         177         103  -16  ...  0.0  0 -0.1  3.9  25.4  62.8          7   \n",
       "\n",
       "   age_group        bmi  has_arrhythmia  \n",
       "0      Adult  22.160665               1  \n",
       "1      Adult  23.507805               1  \n",
       "2      Adult  32.111952               1  \n",
       "3      Adult  30.693878               0  \n",
       "4      Adult  22.160665               1  \n",
       "\n",
       "[5 rows x 283 columns]"
      ]
     },
     "execution_count": 13,
     "metadata": {},
     "output_type": "execute_result"
    }
   ],
   "source": [
    "df.head(5)"
   ]
  },
  {
   "cell_type": "markdown",
   "id": "ff06c791",
   "metadata": {
    "slideshow": {
     "slide_type": "slide"
    }
   },
   "source": [
    "## Calculating the proportion of patients with an arrhythmia\n",
    "* We can use our newly created column to calculate the prevalence of arrhythmia in the dataset."
   ]
  },
  {
   "cell_type": "code",
   "execution_count": 14,
   "id": "486fb76e",
   "metadata": {
    "slideshow": {
     "slide_type": "fragment"
    }
   },
   "outputs": [
    {
     "data": {
      "text/plain": [
       "0.4579646017699115"
      ]
     },
     "execution_count": 14,
     "metadata": {},
     "output_type": "execute_result"
    }
   ],
   "source": [
    "df['has_arrhythmia'].mean()"
   ]
  },
  {
   "cell_type": "markdown",
   "id": "ecb2dbb9",
   "metadata": {
    "slideshow": {
     "slide_type": "slide"
    }
   },
   "source": [
    "## Creating a histogram\n",
    "* A histogram is a graphical representation of the distribution of a dataset.\n",
    "* We will create a histogram of the ages of the patients."
   ]
  },
  {
   "cell_type": "code",
   "execution_count": 16,
   "id": "29c8bc26",
   "metadata": {
    "slideshow": {
     "slide_type": "fragment"
    }
   },
   "outputs": [
    {
     "name": "stderr",
     "output_type": "stream",
     "text": [
      "/Users/jacekdmochowski/miniconda3/envs/tfmetal/lib/python3.10/site-packages/seaborn/_oldcore.py:1119: FutureWarning: use_inf_as_na option is deprecated and will be removed in a future version. Convert inf values to NaN before operating instead.\n",
      "  with pd.option_context('mode.use_inf_as_na', True):\n"
     ]
    },
    {
     "data": {
      "image/png": "[encoded data removed]",
      "text/plain": [
       "<Figure size 640x480 with 1 Axes>"
      ]
     },
     "metadata": {},
     "output_type": "display_data"
    }
   ],
   "source": [
    "sns.histplot(df['age'], kde=True)\n",
    "plt.title('Distribution of Ages')\n",
    "plt.xlabel('Age')\n",
    "plt.ylabel('Count')\n",
    "plt.show()"
   ]
  },
  {
   "cell_type": "markdown",
   "id": "a4b233da",
   "metadata": {
    "slideshow": {
     "slide_type": "slide"
    }
   },
   "source": [
    "## Examining the relationship between variables\n",
    "* We often want to examine the relationship between two or more variables.\n",
    "* This can be done graphically, or numerically.\n",
    "* We will demonstrate both approaches here."
   ]
  },
  {
   "cell_type": "markdown",
   "id": "166309c1",
   "metadata": {
    "slideshow": {
     "slide_type": "slide"
    }
   },
   "source": [
    "## Does BMI affect the likelihood of having an arrhythmia?\n",
    "* One way of addressing this is by calculating the mean BMI of patients with and without arrhythmia"
   ]
  },
  {
   "cell_type": "code",
   "execution_count": 17,
   "id": "4a8437f4",
   "metadata": {
    "slideshow": {
     "slide_type": "fragment"
    }
   },
   "outputs": [
    {
     "data": {
      "text/plain": [
       "24.894846600150437"
      ]
     },
     "execution_count": 17,
     "metadata": {},
     "output_type": "execute_result"
    }
   ],
   "source": [
    "df[df['has_arrhythmia'] == 1]['bmi'].mean()"
   ]
  },
  {
   "cell_type": "code",
   "execution_count": 18,
   "id": "b4cbb550",
   "metadata": {
    "slideshow": {
     "slide_type": "fragment"
    }
   },
   "outputs": [
    {
     "data": {
      "text/plain": [
       "25.436421341870002"
      ]
     },
     "execution_count": 18,
     "metadata": {},
     "output_type": "execute_result"
    }
   ],
   "source": [
    "df[df['has_arrhythmia'] == 0]['bmi'].mean()"
   ]
  },
  {
   "cell_type": "markdown",
   "id": "ea2e3d7b",
   "metadata": {
    "slideshow": {
     "slide_type": "fragment"
    }
   },
   "source": [
    "* Q: In your estimation, does BMI affect the likelihood of having an arrhythmia?"
   ]
  },
  {
   "cell_type": "markdown",
   "id": "fb503dc0",
   "metadata": {
    "slideshow": {
     "slide_type": "slide"
    }
   },
   "source": [
    "## Conditional histograms\n",
    "* We can create histograms for different subsets of the data.\n",
    "* For example, we can create histograms of the BMI for patients with and without arrhythmia."
   ]
  },
  {
   "cell_type": "code",
   "execution_count": 19,
   "id": "01f057cc",
   "metadata": {
    "slideshow": {
     "slide_type": "fragment"
    }
   },
   "outputs": [
    {
     "name": "stderr",
     "output_type": "stream",
     "text": [
      "/Users/jacekdmochowski/miniconda3/envs/tfmetal/lib/python3.10/site-packages/seaborn/_oldcore.py:1119: FutureWarning: use_inf_as_na option is deprecated and will be removed in a future version. Convert inf values to NaN before operating instead.\n",
      "  with pd.option_context('mode.use_inf_as_na', True):\n",
      "/Users/jacekdmochowski/miniconda3/envs/tfmetal/lib/python3.10/site-packages/seaborn/_oldcore.py:1119: FutureWarning: use_inf_as_na option is deprecated and will be removed in a future version. Convert inf values to NaN before operating instead.\n",
      "  with pd.option_context('mode.use_inf_as_na', True):\n"
     ]
    },
    {
     "data": {
      "text/plain": [
       "<matplotlib.legend.Legend at 0x17f05a8c0>"
      ]
     },
     "execution_count": 19,
     "metadata": {},
     "output_type": "execute_result"
    },
    {
     "data": {
      "image/png": "[encoded data removed]",
      "text/plain": [
       "<Figure size 640x480 with 1 Axes>"
      ]
     },
     "metadata": {},
     "output_type": "display_data"
    }
   ],
   "source": [
    "sns.histplot(df[df['has_arrhythmia'] == 1]['bmi'], kde=True, color='red', label='With Arrhythmia')\n",
    "sns.histplot(df[df['has_arrhythmia'] == 0]['bmi'], kde=True, color='blue', label='Without Arrhythmia')\n",
    "plt.title('Distribution of BMI')\n",
    "plt.xlabel('BMI')\n",
    "plt.ylabel('Count')\n",
    "plt.legend()"
   ]
  },
  {
   "cell_type": "markdown",
   "id": "cbb6e929",
   "metadata": {
    "slideshow": {
     "slide_type": "fragment"
    }
   },
   "source": [
    "* Q: In your estimation, does BMI affect the likelihood of having an arrhythmia?"
   ]
  },
  {
   "cell_type": "markdown",
   "id": "4e861b93",
   "metadata": {
    "slideshow": {
     "slide_type": "slide"
    }
   },
   "source": [
    "## Scatter plots\n",
    "* Scatter plots are used to examine the relationship between two continuous variables.\n",
    "* We will create a scatter plot of age versus weight."
   ]
  },
  {
   "cell_type": "code",
   "execution_count": 20,
   "id": "446a010c",
   "metadata": {
    "slideshow": {
     "slide_type": "fragment"
    }
   },
   "outputs": [
    {
     "data": {
      "text/plain": [
       "<Axes: xlabel='age', ylabel='weight'>"
      ]
     },
     "execution_count": 20,
     "metadata": {},
     "output_type": "execute_result"
    },
    {
     "data": {
      "image/png": "[encoded data removed]",
      "text/plain": [
       "<Figure size 640x480 with 1 Axes>"
      ]
     },
     "metadata": {},
     "output_type": "display_data"
    }
   ],
   "source": [
    "sns.scatterplot(data=df, x='age', y='weight')"
   ]
  },
  {
   "cell_type": "markdown",
   "id": "e7441cee",
   "metadata": {
    "slideshow": {
     "slide_type": "fragment"
    }
   },
   "source": [
    "* Q: What is the relationship between age and weight?"
   ]
  },
  {
   "cell_type": "markdown",
   "id": "60b975cf",
   "metadata": {
    "slideshow": {
     "slide_type": "slide"
    }
   },
   "source": [
    "## Adding hue to scatter plots\n",
    "* We can add a _hue_ parameter to scatter plots to differentiate between different categories.\n",
    "* We will create a scatter plot of age versus weight, with the color indicating whether the patient has an arrhythmia."
   ]
  },
  {
   "cell_type": "code",
   "execution_count": 21,
   "id": "3e088ee9",
   "metadata": {
    "slideshow": {
     "slide_type": "fragment"
    }
   },
   "outputs": [
    {
     "data": {
      "text/plain": [
       "<Axes: xlabel='age', ylabel='weight'>"
      ]
     },
     "execution_count": 21,
     "metadata": {},
     "output_type": "execute_result"
    },
    {
     "data": {
      "image/png": "[encoded data removed]",
      "text/plain": [
       "<Figure size 640x480 with 1 Axes>"
      ]
     },
     "metadata": {},
     "output_type": "display_data"
    }
   ],
   "source": [
    "sns.scatterplot(data=df, x='age', y='weight', hue='has_arrhythmia')"
   ]
  },
  {
   "cell_type": "markdown",
   "id": "f041e576",
   "metadata": {
    "slideshow": {
     "slide_type": "fragment"
    }
   },
   "source": [
    "* Q: Does age affect the likelihood of having an arrhythmia?"
   ]
  },
  {
   "cell_type": "markdown",
   "id": "b58743cf",
   "metadata": {
    "slideshow": {
     "slide_type": "fragment"
    }
   },
   "source": [
    "* Q: Does weight affect the likelihood of having an arrhythmia?"
   ]
  }
 ],
 "metadata": {
  "celltoolbar": "Slideshow",
  "kernelspec": {
   "display_name": "Python 3 (ipykernel)",
   "language": "python",
   "name": "python3"
  },
  "language_info": {
   "codemirror_mode": {
    "name": "ipython",
    "version": 3
   },
   "file_extension": ".py",
   "mimetype": "text/x-python",
   "name": "python",
   "nbconvert_exporter": "python",
   "pygments_lexer": "ipython3",
   "version": "3.10.11"
  }
 },
 "nbformat": 4,
 "nbformat_minor": 5
}
