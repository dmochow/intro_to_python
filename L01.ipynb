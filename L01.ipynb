{
 "cells": [
  {
   "cell_type": "markdown",
   "id": "914b5180",
   "metadata": {
    "slideshow": {
     "slide_type": "slide"
    }
   },
   "source": [
    "\n",
    "# <center>Lecture 1</center> \n",
    "  ##     <center>Fundamentals of computing</center>\n"
   ]
  },
  {
   "cell_type": "markdown",
   "id": "fdd03acf",
   "metadata": {
    "slideshow": {
     "slide_type": "slide"
    }
   },
   "source": [
    "## Representation with numbers\n",
    "* Information can be represented with numbers\n",
    "    * Speech \n",
    "    * Images\n",
    "    * Text\n",
    "    * Everything?\n",
    "\n",
    "* This allows computers to operate on information"
   ]
  },
  {
   "cell_type": "markdown",
   "id": "59b2e689",
   "metadata": {
    "slideshow": {
     "slide_type": "slide"
    }
   },
   "source": [
    "## What is a number?\n",
    "* A sequence of digits\n",
    "* Consider the (decimal) number 1979:\n",
    "    * 1979 = 1x10<sup>3</sup> + 9x10<sup>2</sup> + 7x10<sup>1</sup>  + 9x10<sup>0</sup>\n",
    "    * This is known as a base-10 representation\n"
   ]
  },
  {
   "cell_type": "markdown",
   "id": "f5ccbf05",
   "metadata": {
    "slideshow": {
     "slide_type": "slide"
    }
   },
   "source": [
    "## Binary representation\n",
    "* Computers employ a base-2 representation\n",
    "* Binary digit = “bit” ∈ {0,1}\n",
    "\n",
    "* Consider a 4-bit number: \n",
    "* 1010<sub>2</sub>  = 1x2<sup>3</sup> + 0x2<sup>2</sup>+ 1x2<sup>1</sup> + 0x2<sup>0</sup>  = 10<sub>10</sub>\n",
    "\n",
    "* What are the advantages of a binary representation?\n",
    "\n",
    "* What is the largest integer that can be represented with 4 bits?\n"
   ]
  },
  {
   "cell_type": "markdown",
   "id": "e9c6ed2f",
   "metadata": {
    "slideshow": {
     "slide_type": "slide"
    }
   },
   "source": [
    "## Equality versus assignment\n",
    "* Equality\n",
    "    * x=2\n",
    "    * “x” is a variable that is equivalent to “two”\n",
    "    * 2=x is a valid and equivalent equation\n",
    "* Assignment\n",
    "    * x≔2\n",
    "    * “x” is a variable whose value is being set to “two”\n",
    "    * 2≔x is not a valid statement"
   ]
  },
  {
   "cell_type": "markdown",
   "id": "d7c6732b",
   "metadata": {
    "slideshow": {
     "slide_type": "slide"
    }
   },
   "source": [
    "## Data hierarchy\n",
    "* database: a table of records\n",
    "    * record: a set of fields\n",
    "        * field: a set of characters\n",
    "            * character: a set of bits\n",
    "                * bit: binary-valued electrical voltage"
   ]
  },
  {
   "cell_type": "markdown",
   "id": "ec807a4d",
   "metadata": {
    "slideshow": {
     "slide_type": "slide"
    }
   },
   "source": [
    "## Basic computer architecture\n",
    "\n",
    "![ComputerArchitecture](L01_img1.png)"
   ]
  },
  {
   "cell_type": "markdown",
   "id": "55a8d999",
   "metadata": {
    "slideshow": {
     "slide_type": "slide"
    }
   },
   "source": [
    "## What do computers do?\n",
    "\n",
    "* At a physical level, computers manipulate small electrical voltages\n",
    "* Computers execute sequences of instructions\n",
    "* Computers add, subtract, multiply, and divide binary numbers\n",
    "* Computers compare voltages (numbers) against each other\n",
    "    * What happens next depends on the result of this comparison\n",
    "\n",
    "* All software, from that which controls your refrigerator to the latest Call of Duty video game, boil down to a relatively small set of operations on binary numbers\n",
    "\n"
   ]
  },
  {
   "cell_type": "markdown",
   "id": "cea99aa7",
   "metadata": {
    "slideshow": {
     "slide_type": "slide"
    }
   },
   "source": [
    "## Moore's Law\n",
    "* The number of transistors on a microchip doubles approximately every two years\n",
    "* The cost of the microchip is halved every two years\n",
    "* Moore's law applies to program memory (RAM), secondary storage, and processor speed"
   ]
  },
  {
   "cell_type": "markdown",
   "id": "979928b7",
   "metadata": {
    "slideshow": {
     "slide_type": "slide"
    }
   },
   "source": [
    "## Levels of programming languages\n",
    "* Machine language: readable by the computer only (string of numbers)\n",
    "* Assembly language: human-readable instructions that are translated to machine language\n",
    "* High-level languages: compiled or interpreted source code\n",
    "* Which one is Python?"
   ]
  },
  {
   "cell_type": "markdown",
   "id": "82e8acf7",
   "metadata": {
    "slideshow": {
     "slide_type": "slide"
    }
   },
   "source": [
    "## Shallow versus deep copy\n",
    "```X = 3.14156``` <br>\n",
    "```Y = X```\n",
    "* The contents of \"X\" are stored somewhere (where?) in our computer\n",
    "* What are the contents of \"Y\" ?\n",
    "![shallow_vs_deep](L01_img2.png)\n"
   ]
  },
  {
   "cell_type": "markdown",
   "id": "8c09cea1",
   "metadata": {
    "slideshow": {
     "slide_type": "slide"
    }
   },
   "source": [
    "## Object-oriented programming\n",
    "* Objects are reusable software components\n",
    "* Objects have attributes and methods\n",
    "* Example: bank account\n",
    "    * attribute: balance\n",
    "    * attribute: type (checking or savings)\n",
    "    * method: deposit\n",
    "    * method: withdraw <br>\n",
    "* Python has object-oriented functionality\n",
    "\n"
   ]
  },
  {
   "cell_type": "markdown",
   "id": "b7c2d644",
   "metadata": {
    "slideshow": {
     "slide_type": "slide"
    }
   },
   "source": [
    "## Operating systems\n",
    "* Software that allows different applications to be executed concurrently on a single piece of hardware\n",
    "* Examples are Windows, Linux, and MacOS for desktop computers\n",
    "* Mobile operating systems: Google Android and Apple iOS\n",
    "    \n"
   ]
  },
  {
   "cell_type": "markdown",
   "id": "88d70c6d",
   "metadata": {
    "slideshow": {
     "slide_type": "slide"
    }
   },
   "source": [
    "## Why Python?\n",
    "* Python is the most popular language in the world\n",
    "* Python is free and open-source\n",
    "* Python is a “high-level” language\n",
    "    * The burden on the programmer is low\n",
    "* The syntax of Python is very readable\n",
    "* There are many free software libraries that are available to the programmer\n",
    "* Learning Python will facilitate the learning of other programming languages"
   ]
  },
  {
   "cell_type": "markdown",
   "id": "4990476a",
   "metadata": {
    "slideshow": {
     "slide_type": "slide"
    }
   },
   "source": [
    "## Example Python code: plotting Moore's Law\n",
    "* We would like to visualize the number of transistors/chip over time\n",
    "* The number doubles every two years \n",
    "* What should this curve look like?"
   ]
  },
  {
   "cell_type": "markdown",
   "id": "f7a8dad7",
   "metadata": {
    "slideshow": {
     "slide_type": "slide"
    }
   },
   "source": [
    "## First we need to \"import\" two popular Python libraries\n",
    "* This will allow us to reuse the source code contained in the imported libraries"
   ]
  },
  {
   "cell_type": "code",
   "execution_count": 57,
   "id": "2cdcde79",
   "metadata": {
    "slideshow": {
     "slide_type": "subslide"
    }
   },
   "outputs": [],
   "source": [
    "import numpy as np \n",
    "import matplotlib.pyplot as plt\n"
   ]
  },
  {
   "cell_type": "markdown",
   "id": "af9f86dd",
   "metadata": {
    "slideshow": {
     "slide_type": "subslide"
    }
   },
   "source": [
    "#### In programming, \"no news is good news\""
   ]
  },
  {
   "cell_type": "markdown",
   "id": "7b3a8f3e",
   "metadata": {
    "slideshow": {
     "slide_type": "slide"
    }
   },
   "source": [
    "## Let's create a variable to store the time\n",
    "* We will work with integers that represent the year\n",
    "* We want to look at the variable that we create"
   ]
  },
  {
   "cell_type": "code",
   "execution_count": 58,
   "id": "4f890b57",
   "metadata": {
    "slideshow": {
     "slide_type": "subslide"
    }
   },
   "outputs": [
    {
     "data": {
      "text/plain": [
       "array([  0.,   1.,   2.,   3.,   4.,   5.,   6.,   7.,   8.,   9.,  10.,\n",
       "        11.,  12.,  13.,  14.,  15.,  16.,  17.,  18.,  19.,  20.,  21.,\n",
       "        22.,  23.,  24.,  25.,  26.,  27.,  28.,  29.,  30.,  31.,  32.,\n",
       "        33.,  34.,  35.,  36.,  37.,  38.,  39.,  40.,  41.,  42.,  43.,\n",
       "        44.,  45.,  46.,  47.,  48.,  49.,  50.,  51.,  52.,  53.,  54.,\n",
       "        55.,  56.,  57.,  58.,  59.,  60.,  61.,  62.,  63.,  64.,  65.,\n",
       "        66.,  67.,  68.,  69.,  70.,  71.,  72.,  73.,  74.,  75.,  76.,\n",
       "        77.,  78.,  79.,  80.,  81.,  82.,  83.,  84.,  85.,  86.,  87.,\n",
       "        88.,  89.,  90.,  91.,  92.,  93.,  94.,  95.,  96.,  97.,  98.,\n",
       "        99., 100.])"
      ]
     },
     "execution_count": 58,
     "metadata": {},
     "output_type": "execute_result"
    }
   ],
   "source": [
    "time = np.linspace(0,100,101) \n",
    "time"
   ]
  },
  {
   "cell_type": "markdown",
   "id": "cd10bfa0",
   "metadata": {
    "slideshow": {
     "slide_type": "slide"
    }
   },
   "source": [
    "## Let's now program the expression for the number of transistors in each year\n",
    "* What mathematical function doubles in value every year? every two years?"
   ]
  },
  {
   "cell_type": "code",
   "execution_count": 59,
   "id": "346f70ec",
   "metadata": {
    "slideshow": {
     "slide_type": "subslide"
    }
   },
   "outputs": [
    {
     "data": {
      "text/plain": [
       "array([1.00000000e+00, 1.41421356e+00, 2.00000000e+00, 2.82842712e+00,\n",
       "       4.00000000e+00, 5.65685425e+00, 8.00000000e+00, 1.13137085e+01,\n",
       "       1.60000000e+01, 2.26274170e+01, 3.20000000e+01, 4.52548340e+01,\n",
       "       6.40000000e+01, 9.05096680e+01, 1.28000000e+02, 1.81019336e+02,\n",
       "       2.56000000e+02, 3.62038672e+02, 5.12000000e+02, 7.24077344e+02,\n",
       "       1.02400000e+03, 1.44815469e+03, 2.04800000e+03, 2.89630938e+03,\n",
       "       4.09600000e+03, 5.79261875e+03, 8.19200000e+03, 1.15852375e+04,\n",
       "       1.63840000e+04, 2.31704750e+04, 3.27680000e+04, 4.63409500e+04,\n",
       "       6.55360000e+04, 9.26819000e+04, 1.31072000e+05, 1.85363800e+05,\n",
       "       2.62144000e+05, 3.70727600e+05, 5.24288000e+05, 7.41455200e+05,\n",
       "       1.04857600e+06, 1.48291040e+06, 2.09715200e+06, 2.96582080e+06,\n",
       "       4.19430400e+06, 5.93164160e+06, 8.38860800e+06, 1.18632832e+07,\n",
       "       1.67772160e+07, 2.37265664e+07, 3.35544320e+07, 4.74531328e+07,\n",
       "       6.71088640e+07, 9.49062656e+07, 1.34217728e+08, 1.89812531e+08,\n",
       "       2.68435456e+08, 3.79625062e+08, 5.36870912e+08, 7.59250125e+08,\n",
       "       1.07374182e+09, 1.51850025e+09, 2.14748365e+09, 3.03700050e+09,\n",
       "       4.29496730e+09, 6.07400100e+09, 8.58993459e+09, 1.21480020e+10,\n",
       "       1.71798692e+10, 2.42960040e+10, 3.43597384e+10, 4.85920080e+10,\n",
       "       6.87194767e+10, 9.71840160e+10, 1.37438953e+11, 1.94368032e+11,\n",
       "       2.74877907e+11, 3.88736064e+11, 5.49755814e+11, 7.77472128e+11,\n",
       "       1.09951163e+12, 1.55494426e+12, 2.19902326e+12, 3.10988851e+12,\n",
       "       4.39804651e+12, 6.21977702e+12, 8.79609302e+12, 1.24395540e+13,\n",
       "       1.75921860e+13, 2.48791081e+13, 3.51843721e+13, 4.97582162e+13,\n",
       "       7.03687442e+13, 9.95164324e+13, 1.40737488e+14, 1.99032865e+14,\n",
       "       2.81474977e+14, 3.98065730e+14, 5.62949953e+14, 7.96131459e+14,\n",
       "       1.12589991e+15])"
      ]
     },
     "execution_count": 59,
     "metadata": {},
     "output_type": "execute_result"
    }
   ],
   "source": [
    "n_transistors = 2**(time/2)\n",
    "n_transistors"
   ]
  },
  {
   "cell_type": "markdown",
   "id": "b3b81ee1",
   "metadata": {
    "slideshow": {
     "slide_type": "subslide"
    }
   },
   "source": [
    "## Is the number doubling every two years?"
   ]
  },
  {
   "cell_type": "markdown",
   "id": "67d4a855",
   "metadata": {
    "slideshow": {
     "slide_type": "slide"
    }
   },
   "source": [
    "## Finally, let's plot the curve"
   ]
  },
  {
   "cell_type": "code",
   "execution_count": 60,
   "id": "4ba2e227",
   "metadata": {
    "slideshow": {
     "slide_type": "subslide"
    }
   },
   "outputs": [
    {
     "data": {
      "text/plain": [
       "[<matplotlib.lines.Line2D at 0x7f86e873ccd0>]"
      ]
     },
     "execution_count": 60,
     "metadata": {},
     "output_type": "execute_result"
    },
    {
     "data": {
      "image/png": "[encoded data removed]",
      "text/plain": [
       "<Figure size 432x288 with 1 Axes>"
      ]
     },
     "metadata": {
      "needs_background": "light"
     },
     "output_type": "display_data"
    }
   ],
   "source": [
    "plt.plot(time,n_transistors)"
   ]
  }
 ],
 "metadata": {
  "celltoolbar": "Slideshow",
  "kernelspec": {
   "display_name": "Python 3",
   "language": "python",
   "name": "python3"
  },
  "language_info": {
   "codemirror_mode": {
    "name": "ipython",
    "version": 3
   },
   "file_extension": ".py",
   "mimetype": "text/x-python",
   "name": "python",
   "nbconvert_exporter": "python",
   "pygments_lexer": "ipython3",
   "version": "3.8.8"
  },
  "varInspector": {
   "cols": {
    "lenName": 16,
    "lenType": 16,
    "lenVar": 40
   },
   "kernels_config": {
    "python": {
     "delete_cmd_postfix": "",
     "delete_cmd_prefix": "del ",
     "library": "var_list.py",
     "varRefreshCmd": "print(var_dic_list())"
    },
    "r": {
     "delete_cmd_postfix": ") ",
     "delete_cmd_prefix": "rm(",
     "library": "var_list.r",
     "varRefreshCmd": "cat(var_dic_list()) "
    }
   },
   "types_to_exclude": [
    "module",
    "function",
    "builtin_function_or_method",
    "instance",
    "_Feature"
   ],
   "window_display": false
  }
 },
 "nbformat": 4,
 "nbformat_minor": 5
}
