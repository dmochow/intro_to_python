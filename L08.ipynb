{
 "cells": [
  {
   "cell_type": "markdown",
   "id": "8adaa87e",
   "metadata": {
    "slideshow": {
     "slide_type": "slide"
    }
   },
   "source": [
    "## <center> Lecture 8 </center>\n",
    "## <center> Strings </center>"
   ]
  },
  {
   "cell_type": "markdown",
   "id": "d3282aee",
   "metadata": {
    "slideshow": {
     "slide_type": "slide"
    }
   },
   "source": [
    "## Formatting strings\n",
    "* We have previously covered the formatting of numeric strings:"
   ]
  },
  {
   "cell_type": "code",
   "execution_count": 1,
   "id": "0f7787f8",
   "metadata": {
    "slideshow": {
     "slide_type": "fragment"
    }
   },
   "outputs": [
    {
     "name": "stdout",
     "output_type": "stream",
     "text": [
      "3.14\n"
     ]
    }
   ],
   "source": [
    "print(f'{3.14156:0.2f}')"
   ]
  },
  {
   "cell_type": "markdown",
   "id": "cee9906c",
   "metadata": {
    "slideshow": {
     "slide_type": "fragment"
    }
   },
   "source": [
    "```f``` tells Python that we are creating a _formatted_ string"
   ]
  },
  {
   "cell_type": "markdown",
   "id": "0f598664",
   "metadata": {
    "slideshow": {
     "slide_type": "fragment"
    }
   },
   "source": [
    "```{3.14156:0.2f}``` tells Python to format pi as a ```float``` with 2 significant digits"
   ]
  },
  {
   "cell_type": "markdown",
   "id": "ef86b55b",
   "metadata": {
    "slideshow": {
     "slide_type": "slide"
    }
   },
   "source": [
    "* We can also format ```decimal``` types"
   ]
  },
  {
   "cell_type": "code",
   "execution_count": 2,
   "id": "e2e929b6",
   "metadata": {
    "slideshow": {
     "slide_type": "fragment"
    }
   },
   "outputs": [
    {
     "ename": "ValueError",
     "evalue": "Unknown format code 'd' for object of type 'float'",
     "output_type": "error",
     "traceback": [
      "\u001b[0;31m---------------------------------------------------------------------------\u001b[0m",
      "\u001b[0;31mValueError\u001b[0m                                Traceback (most recent call last)",
      "Cell \u001b[0;32mIn[2], line 1\u001b[0m\n\u001b[0;32m----> 1\u001b[0m \u001b[38;5;28mprint\u001b[39m(\u001b[38;5;124mf\u001b[39m\u001b[38;5;124m'\u001b[39m\u001b[38;5;132;01m{\u001b[39;00m\u001b[38;5;241m3.14156\u001b[39m\u001b[38;5;132;01m:\u001b[39;00m\u001b[38;5;124m1d\u001b[39m\u001b[38;5;132;01m}\u001b[39;00m\u001b[38;5;124m'\u001b[39m)\n",
      "\u001b[0;31mValueError\u001b[0m: Unknown format code 'd' for object of type 'float'"
     ]
    }
   ],
   "source": [
    "print(f'{3.14156:1d}')"
   ]
  },
  {
   "cell_type": "markdown",
   "id": "3441134f",
   "metadata": {
    "slideshow": {
     "slide_type": "slide"
    }
   },
   "source": [
    "## Formatting integers\n",
    "* Integers types can be formatted according to:"
   ]
  },
  {
   "cell_type": "code",
   "execution_count": null,
   "id": "9853eee8",
   "metadata": {
    "slideshow": {
     "slide_type": "fragment"
    }
   },
   "outputs": [],
   "source": [
    "f'{1979:d}'"
   ]
  },
  {
   "cell_type": "markdown",
   "id": "c9b366c2",
   "metadata": {
    "slideshow": {
     "slide_type": "fragment"
    }
   },
   "source": [
    "* ```d``` tells Python that what precedes ```:``` is a number that we want displayed as an integer"
   ]
  },
  {
   "cell_type": "markdown",
   "id": "9f0cdf10",
   "metadata": {
    "slideshow": {
     "slide_type": "slide"
    }
   },
   "source": [
    "* Even though its usage is rare, we can also format _characters_:"
   ]
  },
  {
   "cell_type": "code",
   "execution_count": null,
   "id": "dcb5110d",
   "metadata": {
    "slideshow": {
     "slide_type": "fragment"
    }
   },
   "outputs": [],
   "source": [
    "f'{76:c}{79+32:c}{81+32:c}{68:c}'"
   ]
  },
  {
   "cell_type": "markdown",
   "id": "32663e1e",
   "metadata": {
    "slideshow": {
     "slide_type": "fragment"
    }
   },
   "source": [
    "* The number ```76``` maps to the character ```L```\n",
    "* The number ```111``` maps to the character ```o```\n",
    "* The number ```113``` maps to the character ```q```\n",
    "* The number ```68``` maps to the character ```D```"
   ]
  },
  {
   "cell_type": "markdown",
   "id": "63b725cd",
   "metadata": {
    "slideshow": {
     "slide_type": "slide"
    }
   },
   "source": [
    "## Formatting strings\n",
    "* The default _presentation type_ is ```s```:"
   ]
  },
  {
   "cell_type": "code",
   "execution_count": null,
   "id": "317a1854",
   "metadata": {
    "slideshow": {
     "slide_type": "fragment"
    }
   },
   "outputs": [],
   "source": [
    "f'{\"Loquacious\":s}{\"D\":s}'"
   ]
  },
  {
   "cell_type": "markdown",
   "id": "60bdb9b6",
   "metadata": {
    "slideshow": {
     "slide_type": "fragment"
    }
   },
   "source": [
    "* Note that we must use double quotes, not single, when enclosing the string to be displayed\n",
    "* Because ```s``` is the default, we can implement the above more simply:"
   ]
  },
  {
   "cell_type": "code",
   "execution_count": null,
   "id": "c5845be6",
   "metadata": {
    "slideshow": {
     "slide_type": "fragment"
    }
   },
   "outputs": [],
   "source": [
    "'LoquaciousD'"
   ]
  },
  {
   "cell_type": "markdown",
   "id": "000a802f",
   "metadata": {
    "slideshow": {
     "slide_type": "slide"
    }
   },
   "source": [
    "## Formatting with scientific notation\n",
    "* Very small or very large numbers are easier expressed with _scientific_ notation:"
   ]
  },
  {
   "cell_type": "code",
   "execution_count": null,
   "id": "ddf9c0f3",
   "metadata": {
    "slideshow": {
     "slide_type": "fragment"
    }
   },
   "outputs": [],
   "source": [
    "f'{300000000:.2e}'"
   ]
  },
  {
   "cell_type": "markdown",
   "id": "7afe604b",
   "metadata": {
    "slideshow": {
     "slide_type": "fragment"
    }
   },
   "source": [
    "* The ```.2e``` tells Python that we want the number displayed with 2 decimal points"
   ]
  },
  {
   "cell_type": "markdown",
   "id": "bf6df55e",
   "metadata": {
    "slideshow": {
     "slide_type": "slide"
    }
   },
   "source": [
    "## Field widths\n",
    "* We can tell Python to represent our string with a certain _field width_:"
   ]
  },
  {
   "cell_type": "code",
   "execution_count": null,
   "id": "99760206",
   "metadata": {
    "slideshow": {
     "slide_type": "fragment"
    }
   },
   "outputs": [],
   "source": [
    "f'{3.141592:10f}'"
   ]
  },
  {
   "cell_type": "markdown",
   "id": "18de1cb5",
   "metadata": {
    "slideshow": {
     "slide_type": "fragment"
    }
   },
   "source": [
    "* Notice that the string ```3.141592``` has been right-justified in a string of 10 character places"
   ]
  },
  {
   "cell_type": "markdown",
   "id": "215dd914",
   "metadata": {
    "slideshow": {
     "slide_type": "slide"
    }
   },
   "source": [
    "## Python's older string formatting method\n",
    "* The string formatting syntax described above is relatively new to Python \n",
    "* Formerly, it was advised to use Python's ```format()``` method:"
   ]
  },
  {
   "cell_type": "code",
   "execution_count": null,
   "id": "0a2cad16",
   "metadata": {
    "slideshow": {
     "slide_type": "fragment"
    }
   },
   "outputs": [],
   "source": [
    "'{:0.2f}'.format(3.14156)"
   ]
  },
  {
   "cell_type": "markdown",
   "id": "b4cd8b23",
   "metadata": {
    "slideshow": {
     "slide_type": "fragment"
    }
   },
   "source": [
    "* ```'{:0.2f}'``` is an empty string\n",
    "* ```.format``` is a call to the ```format()``` method\n",
    "* ```3.14156``` is the argument of ```format()```, which is the number that we want to insert into the empty string\n",
    "* It is not hard to see why this syntax has been replaced"
   ]
  },
  {
   "cell_type": "markdown",
   "id": "8e826f02",
   "metadata": {
    "slideshow": {
     "slide_type": "slide"
    }
   },
   "source": [
    "## Concatenating strings\n",
    "* Strings can be joined to one another, or _concatenated_\n",
    "* There are at least two syntaxes for this operation:"
   ]
  },
  {
   "cell_type": "code",
   "execution_count": null,
   "id": "cc6efea9",
   "metadata": {
    "slideshow": {
     "slide_type": "fragment"
    }
   },
   "outputs": [],
   "source": [
    "s1 = 'Loquacious'\n",
    "s2 = 'D is in da house'\n",
    "s3 = s1 + s2\n",
    "print(s3)"
   ]
  },
  {
   "cell_type": "code",
   "execution_count": null,
   "id": "4caa842c",
   "metadata": {
    "slideshow": {
     "slide_type": "fragment"
    }
   },
   "outputs": [],
   "source": [
    "s1 += s2\n",
    "print(s1)"
   ]
  },
  {
   "cell_type": "markdown",
   "id": "c219c5e5",
   "metadata": {
    "slideshow": {
     "slide_type": "fragment"
    }
   },
   "source": [
    "* ```+=``` tells Python to \"add\" string ```s2``` to ```s1```\n",
    "* Adding here is synonynous with joining"
   ]
  },
  {
   "cell_type": "markdown",
   "id": "ac2805d6",
   "metadata": {
    "slideshow": {
     "slide_type": "slide"
    }
   },
   "source": [
    "## Repeating strings\n",
    "* Strings can also be repeated:"
   ]
  },
  {
   "cell_type": "code",
   "execution_count": null,
   "id": "91c291af",
   "metadata": {
    "slideshow": {
     "slide_type": "fragment"
    }
   },
   "outputs": [],
   "source": [
    "s1 = 'LoqD '\n",
    "s2 = s1*5\n",
    "print(s2)"
   ]
  },
  {
   "cell_type": "code",
   "execution_count": null,
   "id": "47a80d48",
   "metadata": {
    "slideshow": {
     "slide_type": "fragment"
    }
   },
   "outputs": [],
   "source": [
    "s1 = 'LoqD '\n",
    "s1 *= 5\n",
    "print(s1)"
   ]
  },
  {
   "cell_type": "markdown",
   "id": "e7e28d2e",
   "metadata": {
    "slideshow": {
     "slide_type": "fragment"
    }
   },
   "source": [
    "* ```s1*=5``` tells Python to \"multiply\" s1 by 5"
   ]
  },
  {
   "cell_type": "markdown",
   "id": "4b9afb3a",
   "metadata": {
    "slideshow": {
     "slide_type": "slide"
    }
   },
   "source": [
    "## Removing white space before and after strings\n",
    "* Removing white space is a common operation when working with string data\n",
    "* The string method ```strip()``` removes leading and training white space:"
   ]
  },
  {
   "cell_type": "markdown",
   "id": "aa619668",
   "metadata": {
    "slideshow": {
     "slide_type": "fragment"
    }
   },
   "source": [
    "s1 = '   Loquacious D is in da house.   '\n",
    "s2 = s1.strip()\n",
    "print(\"Before strip(): \", s1)\n",
    "print(\"After strip(): \", s2)"
   ]
  },
  {
   "cell_type": "markdown",
   "id": "b536c13f",
   "metadata": {
    "slideshow": {
     "slide_type": "fragment"
    }
   },
   "source": [
    "* We can check the lengths of ```s1``` and ```s2``` to verify the removal:"
   ]
  },
  {
   "cell_type": "code",
   "execution_count": null,
   "id": "ec616fab",
   "metadata": {
    "slideshow": {
     "slide_type": "fragment"
    }
   },
   "outputs": [],
   "source": [
    "len(s1)"
   ]
  },
  {
   "cell_type": "code",
   "execution_count": null,
   "id": "c8778545",
   "metadata": {
    "slideshow": {
     "slide_type": "fragment"
    }
   },
   "outputs": [],
   "source": [
    "len(s2)"
   ]
  },
  {
   "cell_type": "markdown",
   "id": "9af699b7",
   "metadata": {
    "slideshow": {
     "slide_type": "fragment"
    }
   },
   "source": [
    "* Q: How many spaces appeared at the front and back of ```s1``` ?"
   ]
  },
  {
   "cell_type": "markdown",
   "id": "3c260071",
   "metadata": {
    "slideshow": {
     "slide_type": "slide"
    }
   },
   "source": [
    "## Converting to lower or upper case\n",
    "* String provides the ```lower()``` and ```upper()``` methods for making your string all lower or ALL CAP:"
   ]
  },
  {
   "cell_type": "code",
   "execution_count": null,
   "id": "273dd3fe",
   "metadata": {
    "slideshow": {
     "slide_type": "fragment"
    }
   },
   "outputs": [],
   "source": [
    "s1 = 'Loquacious D is in da house'\n",
    "print(s1.lower())\n",
    "print(s1.upper())"
   ]
  },
  {
   "cell_type": "markdown",
   "id": "4a61182a",
   "metadata": {
    "slideshow": {
     "slide_type": "slide"
    }
   },
   "source": [
    "## String comparisons\n",
    "* Two strings are equal if and only if _every_ character matches\n",
    "* String comparisons are case-sensitive!"
   ]
  },
  {
   "cell_type": "code",
   "execution_count": null,
   "id": "ef7ce603",
   "metadata": {
    "slideshow": {
     "slide_type": "fragment"
    }
   },
   "outputs": [],
   "source": [
    "s1 = 'Loquacious D'\n",
    "s2 = 'loquacious d'\n",
    "print(s1==s2)"
   ]
  },
  {
   "cell_type": "code",
   "execution_count": null,
   "id": "ee6487ad",
   "metadata": {
    "slideshow": {
     "slide_type": "fragment"
    }
   },
   "outputs": [],
   "source": [
    "s1 = 'Loquacious D'\n",
    "s2 = 'Loquacious D'\n",
    "print(s1==s2)"
   ]
  },
  {
   "cell_type": "markdown",
   "id": "d08eb5c8",
   "metadata": {
    "slideshow": {
     "slide_type": "slide"
    }
   },
   "source": [
    "# Converting to ALL CAP before checking strings for equality\n",
    "* In practice, you often want to compare strings without considering case\n",
    "* A common technique is to first convert the strings to upper case:"
   ]
  },
  {
   "cell_type": "code",
   "execution_count": null,
   "id": "c3428524",
   "metadata": {
    "slideshow": {
     "slide_type": "fragment"
    }
   },
   "outputs": [],
   "source": [
    "s1 = 'Loquacious D'\n",
    "s2 = 'loquacious d'\n",
    "s1u = s1.upper()\n",
    "s2u = s2.upper()\n",
    "print(s1u==s2u)"
   ]
  },
  {
   "cell_type": "markdown",
   "id": "5538f10c",
   "metadata": {
    "slideshow": {
     "slide_type": "slide"
    }
   },
   "source": [
    "## Counting occurrences of a _substring_ is accomplished with ```count()```"
   ]
  },
  {
   "cell_type": "code",
   "execution_count": null,
   "id": "a96c3268",
   "metadata": {
    "slideshow": {
     "slide_type": "fragment"
    }
   },
   "outputs": [],
   "source": [
    "s1 = 'She sells seashells by the seashore'\n",
    "s1.count('sea')"
   ]
  },
  {
   "cell_type": "markdown",
   "id": "5a8580f3",
   "metadata": {
    "slideshow": {
     "slide_type": "slide"
    }
   },
   "source": [
    "## Locating the occurences of a substring\n",
    "* We can use the ```index``` method to find the starting index of a substring:"
   ]
  },
  {
   "cell_type": "code",
   "execution_count": null,
   "id": "2bdc71cf",
   "metadata": {
    "slideshow": {
     "slide_type": "fragment"
    }
   },
   "outputs": [],
   "source": [
    "s1.index('sea')"
   ]
  },
  {
   "cell_type": "markdown",
   "id": "a6dd3d84",
   "metadata": {
    "slideshow": {
     "slide_type": "fragment"
    }
   },
   "source": [
    "* Let's verify that \"sea\" really is located at position 10"
   ]
  },
  {
   "cell_type": "code",
   "execution_count": null,
   "id": "ed447717",
   "metadata": {
    "slideshow": {
     "slide_type": "fragment"
    }
   },
   "outputs": [],
   "source": [
    "s1[10:13]"
   ]
  },
  {
   "cell_type": "markdown",
   "id": "9941b20a",
   "metadata": {
    "slideshow": {
     "slide_type": "slide"
    }
   },
   "source": [
    "## Identifying whether a string contains a substring\n",
    "* The ```in``` operator tells you whether a string contains a substring:"
   ]
  },
  {
   "cell_type": "code",
   "execution_count": null,
   "id": "f8846d52",
   "metadata": {
    "slideshow": {
     "slide_type": "fragment"
    }
   },
   "outputs": [],
   "source": [
    "\"sea\" in s1"
   ]
  },
  {
   "cell_type": "code",
   "execution_count": null,
   "id": "8e9cd059",
   "metadata": {
    "slideshow": {
     "slide_type": "fragment"
    }
   },
   "outputs": [],
   "source": [
    "\"Loquacious\" in s1"
   ]
  },
  {
   "cell_type": "markdown",
   "id": "e2baad55",
   "metadata": {
    "slideshow": {
     "slide_type": "slide"
    }
   },
   "source": [
    "## Finding and replacing substrings\n",
    "* The string method ```replace()``` takes two arguments:\n",
    "    * the substring to be replaced\n",
    "    * the substring to replace it with\n",
    "* It is common to replace _delimiters_, for example commmas with spaces:"
   ]
  },
  {
   "cell_type": "code",
   "execution_count": null,
   "id": "55dd9787",
   "metadata": {
    "slideshow": {
     "slide_type": "fragment"
    }
   },
   "outputs": [],
   "source": [
    "s1 = '12,34,45,56,67'\n",
    "s2 = s1.replace(',',' ')\n",
    "print(\"Before replace:\", s1)\n",
    "print(\"After replace:\", s2)"
   ]
  },
  {
   "cell_type": "markdown",
   "id": "8988ac5a",
   "metadata": {
    "slideshow": {
     "slide_type": "slide"
    }
   },
   "source": [
    "## _Tokenizing_ a string with ```split()```\n",
    "* The method ```split()``` decomposes a string into a list of elements\n",
    "* The argument tells the method how to separate the string:"
   ]
  },
  {
   "cell_type": "code",
   "execution_count": null,
   "id": "946ae663",
   "metadata": {
    "slideshow": {
     "slide_type": "fragment"
    }
   },
   "outputs": [],
   "source": [
    "names = \"Billy;Bob;Cassie;Delilah;Earnest\"\n",
    "tokens = names.split(';')\n",
    "for token in tokens:\n",
    "    print(token)"
   ]
  },
  {
   "cell_type": "markdown",
   "id": "d44c4bee",
   "metadata": {
    "slideshow": {
     "slide_type": "fragment"
    }
   },
   "source": [
    "* ```tokens = names.split(';')``` returns a list:"
   ]
  },
  {
   "cell_type": "code",
   "execution_count": null,
   "id": "0af0eb22",
   "metadata": {
    "slideshow": {
     "slide_type": "fragment"
    }
   },
   "outputs": [],
   "source": [
    "type(tokens)"
   ]
  },
  {
   "cell_type": "markdown",
   "id": "40f277f8",
   "metadata": {
    "slideshow": {
     "slide_type": "slide"
    }
   },
   "source": [
    "## Joining strings\n",
    "* The ```join()``` method performs the opposite of ```split()```: it merges tokens back into a string\n",
    "* Let's recreate our list of names, but this time with spaces instead of semi-colons:"
   ]
  },
  {
   "cell_type": "code",
   "execution_count": null,
   "id": "95f1901f",
   "metadata": {
    "slideshow": {
     "slide_type": "fragment"
    }
   },
   "outputs": [],
   "source": [
    "' '.join(tokens)"
   ]
  },
  {
   "cell_type": "markdown",
   "id": "d3d9581c",
   "metadata": {
    "slideshow": {
     "slide_type": "slide"
    }
   },
   "source": [
    "## Spliting long strings into lines\n",
    "* The method ```splitlines()``` returns a list:\n",
    "* Let's consider a common Haiku:"
   ]
  },
  {
   "cell_type": "code",
   "execution_count": null,
   "id": "9593bc3a",
   "metadata": {
    "slideshow": {
     "slide_type": "fragment"
    }
   },
   "outputs": [],
   "source": [
    "my_long_string = \"Loquacious D is  \\n just a name but the man \\n is stranger than words\""
   ]
  },
  {
   "cell_type": "code",
   "execution_count": null,
   "id": "448ac39a",
   "metadata": {
    "slideshow": {
     "slide_type": "fragment"
    }
   },
   "outputs": [],
   "source": [
    "haiku_lines = my_long_string.splitlines()"
   ]
  },
  {
   "cell_type": "code",
   "execution_count": null,
   "id": "34173b5d",
   "metadata": {
    "slideshow": {
     "slide_type": "fragment"
    }
   },
   "outputs": [],
   "source": [
    "for l in haiku_lines:\n",
    "    print(l)"
   ]
  },
  {
   "cell_type": "markdown",
   "id": "e8ddda02",
   "metadata": {
    "slideshow": {
     "slide_type": "slide"
    }
   },
   "source": [
    "## Regular expressions\n",
    "* Sometimes it is not the exact string, but just a _pattern_, that you are looking for\n",
    "* For example, one may want to search for Twitter handles or email addresses on social media\n",
    "* In these cases, we may ask Python to find substrings that match the pattern\n",
    "* Regular expressions are frequently used when automatically collecting data from the web, known as _web scraping_"
   ]
  },
  {
   "cell_type": "markdown",
   "id": "75825350",
   "metadata": {
    "slideshow": {
     "slide_type": "slide"
    }
   },
   "source": [
    "## Matching zip codes\n",
    "* As a first example, consider identifying US zip codes:"
   ]
  },
  {
   "cell_type": "code",
   "execution_count": null,
   "id": "9c420b3e",
   "metadata": {
    "slideshow": {
     "slide_type": "fragment"
    }
   },
   "outputs": [],
   "source": [
    "import re\n",
    "pattern = '\\d\\d\\d\\d\\d'\n",
    "\n",
    "candidates = ['90210', '10031', '9486']\n",
    "\n",
    "for c in candidates:\n",
    "    if re.fullmatch(pattern, c):\n",
    "        print(c, \"is a valid zip code\")\n",
    "    else:\n",
    "        print(c, \"is not a valid zip code\")"
   ]
  },
  {
   "cell_type": "markdown",
   "id": "5dedf0f5",
   "metadata": {
    "slideshow": {
     "slide_type": "fragment"
    }
   },
   "source": [
    "* The module ```re``` provides us with regular expression functionality\n",
    "* The pattern ```\\d\\d\\d\\d\\d``` tells Python that we expect zip codes to have 5 consecutive digits with no spaces\n",
    "* The call ```fullmatch(pattern, c)``` tests whether the ```pattern``` matches the string ```c```"
   ]
  },
  {
   "cell_type": "markdown",
   "id": "cb359238",
   "metadata": {
    "slideshow": {
     "slide_type": "slide"
    }
   },
   "source": [
    "## Character classes\n",
    "* ```\\d``` is a so-called _character class_ for digits\n",
    "* Other character classes are:"
   ]
  },
  {
   "cell_type": "markdown",
   "id": "41a66a46",
   "metadata": {
    "slideshow": {
     "slide_type": "fragment"
    }
   },
   "source": [
    "* ```\\D```: any character that is not a digit\n",
    "* ```\\s```: any whitespace character (space, tab, newline)\n",
    "* ```\\S```: any non-white space character\n",
    "* ```\\w```: any letter, digit, or underscore\n",
    "* ```W```: any character that is not a letter, digit, or underscore"
   ]
  },
  {
   "cell_type": "markdown",
   "id": "0449d6d3",
   "metadata": {
    "slideshow": {
     "slide_type": "slide"
    }
   },
   "source": [
    "* Another example: testing for Twitter handles\n",
    "* Let's first make a list of strings that will contain possible handles to test for validity"
   ]
  },
  {
   "cell_type": "code",
   "execution_count": null,
   "id": "6b3d17f6",
   "metadata": {
    "slideshow": {
     "slide_type": "fragment"
    }
   },
   "outputs": [],
   "source": [
    "candidates = ['@the_loquacious_one', '#loquaciousLife', '@pommieboss']"
   ]
  },
  {
   "cell_type": "code",
   "execution_count": null,
   "id": "3db04196",
   "metadata": {
    "slideshow": {
     "slide_type": "fragment"
    }
   },
   "outputs": [],
   "source": [
    "for c in candidates:\n",
    "    if re.fullmatch('@\\w*', c):\n",
    "        print(c, \"is a valid Twitter handle\")\n",
    "    else:\n",
    "        print(c, \"is not a valid Twitter handle\")"
   ]
  },
  {
   "cell_type": "markdown",
   "id": "328d476a",
   "metadata": {
    "slideshow": {
     "slide_type": "fragment"
    }
   },
   "source": [
    "* The ```*``` tells Python that we are allowing _any_ number of \"word characters\" ```\\w```"
   ]
  },
  {
   "cell_type": "markdown",
   "id": "96a2eb33",
   "metadata": {
    "slideshow": {
     "slide_type": "slide"
    }
   },
   "source": [
    "* If we want to limit the minimum or maximum length of the Twitter handle, we can use the following regular expression:"
   ]
  },
  {
   "cell_type": "code",
   "execution_count": null,
   "id": "20c31fb1",
   "metadata": {
    "slideshow": {
     "slide_type": "fragment"
    }
   },
   "outputs": [],
   "source": [
    "candidates = ['@A','@the_loquacious_one', '#loquaciousLife', '@pommieboss']\n",
    "for c in candidates:\n",
    "    if re.fullmatch('@\\w{3,100}', c):\n",
    "        print(c, \"is a valid Twitter handle\")\n",
    "    else:\n",
    "        print(c, \"is not a valid Twitter handle\")"
   ]
  },
  {
   "cell_type": "markdown",
   "id": "9f1aff24",
   "metadata": {
    "slideshow": {
     "slide_type": "fragment"
    }
   },
   "source": [
    "* Because we have specified a minimum of 3 characters after the ```@``` sign, the first element of ```candidates``` is correctly identified as invalid"
   ]
  }
 ],
 "metadata": {
  "celltoolbar": "Slideshow",
  "kernelspec": {
   "display_name": "Python 3 (ipykernel)",
   "language": "python",
   "name": "python3"
  },
  "language_info": {
   "codemirror_mode": {
    "name": "ipython",
    "version": 3
   },
   "file_extension": ".py",
   "mimetype": "text/x-python",
   "name": "python",
   "nbconvert_exporter": "python",
   "pygments_lexer": "ipython3",
   "version": "3.10.7"
  }
 },
 "nbformat": 4,
 "nbformat_minor": 5
}
