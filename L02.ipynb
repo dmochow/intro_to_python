{
 "cells": [
  {
   "cell_type": "markdown",
   "id": "914b5180",
   "metadata": {
    "slideshow": {
     "slide_type": "slide"
    }
   },
   "source": [
    "##  <center>Lecture 2</center> \n",
    "  ##     <center>Intro to Python Programming</center>\n"
   ]
  },
  {
   "cell_type": "markdown",
   "id": "59b2e689",
   "metadata": {
    "slideshow": {
     "slide_type": "slide"
    }
   },
   "source": [
    "## Expressions\n",
    "* A line of code generally contains a statement\n",
    "* Statements indicate the task that we want the computer to perform\n"
   ]
  },
  {
   "cell_type": "code",
   "execution_count": 3,
   "id": "6435cb55",
   "metadata": {
    "slideshow": {
     "slide_type": "fragment"
    }
   },
   "outputs": [],
   "source": [
    "x = 2"
   ]
  },
  {
   "cell_type": "markdown",
   "id": "6d219122",
   "metadata": {
    "slideshow": {
     "slide_type": "fragment"
    }
   },
   "source": [
    "* ```x``` is termed an _identifier_ of a _variable_\n",
    "* ```=``` is the _assignment_ symbol\n",
    "* ```2``` is an integer that we are assigning to the variable identified by 'x'"
   ]
  },
  {
   "cell_type": "markdown",
   "id": "b283b143",
   "metadata": {
    "slideshow": {
     "slide_type": "slide"
    }
   },
   "source": [
    "## Adding two integers"
   ]
  },
  {
   "cell_type": "code",
   "execution_count": 8,
   "id": "4aa960a3",
   "metadata": {
    "slideshow": {
     "slide_type": "fragment"
    }
   },
   "outputs": [],
   "source": [
    "x = 45"
   ]
  },
  {
   "cell_type": "code",
   "execution_count": 9,
   "id": "f1dfc8f2",
   "metadata": {
    "slideshow": {
     "slide_type": "fragment"
    }
   },
   "outputs": [],
   "source": [
    "y = 36"
   ]
  },
  {
   "cell_type": "code",
   "execution_count": 10,
   "id": "fb9ac8f1",
   "metadata": {
    "slideshow": {
     "slide_type": "fragment"
    }
   },
   "outputs": [],
   "source": [
    "z = x + y"
   ]
  },
  {
   "cell_type": "code",
   "execution_count": 11,
   "id": "20f510bb",
   "metadata": {
    "slideshow": {
     "slide_type": "fragment"
    }
   },
   "outputs": [
    {
     "data": {
      "text/plain": [
       "81"
      ]
     },
     "execution_count": 11,
     "metadata": {},
     "output_type": "execute_result"
    }
   ],
   "source": [
    "z"
   ]
  },
  {
   "cell_type": "markdown",
   "id": "9dbcd375",
   "metadata": {
    "slideshow": {
     "slide_type": "fragment"
    }
   },
   "source": [
    "* Note the spaces around operators and the assignment symbol\n",
    "    * This is a recommended _programming style_ for Python\n",
    "    * https://peps.python.org/pep-0008/"
   ]
  },
  {
   "cell_type": "markdown",
   "id": "5afc04d9",
   "metadata": {
    "slideshow": {
     "slide_type": "slide"
    }
   },
   "source": [
    "### Variable names\n",
    "* Case-sensitive!\n"
   ]
  },
  {
   "cell_type": "code",
   "execution_count": 1,
   "id": "75003f50",
   "metadata": {
    "slideshow": {
     "slide_type": "fragment"
    }
   },
   "outputs": [
    {
     "data": {
      "text/plain": [
       "(12, 34)"
      ]
     },
     "execution_count": 1,
     "metadata": {},
     "output_type": "execute_result"
    }
   ],
   "source": [
    "X = 12\n",
    "x = 34\n",
    "X, x"
   ]
  },
  {
   "cell_type": "markdown",
   "id": "9629da4a",
   "metadata": {
    "slideshow": {
     "slide_type": "fragment"
    }
   },
   "source": [
    "* variable names may contain letters, digits, and underscores \n",
    "* cannot begin with a number"
   ]
  },
  {
   "cell_type": "code",
   "execution_count": 2,
   "id": "9c47cfc6",
   "metadata": {
    "slideshow": {
     "slide_type": "fragment"
    }
   },
   "outputs": [
    {
     "ename": "SyntaxError",
     "evalue": "invalid decimal literal (<ipython-input-2-e6ee6d783241>, line 2)",
     "output_type": "error",
     "traceback": [
      "\u001b[0;36m  File \u001b[0;32m\"<ipython-input-2-e6ee6d783241>\"\u001b[0;36m, line \u001b[0;32m2\u001b[0m\n\u001b[0;31m    123_xyz = 56\u001b[0m\n\u001b[0m       ^\u001b[0m\n\u001b[0;31mSyntaxError\u001b[0m\u001b[0;31m:\u001b[0m invalid decimal literal\n"
     ]
    }
   ],
   "source": [
    "xyz_123 = 56\n",
    "123_xyz = 56"
   ]
  },
  {
   "cell_type": "markdown",
   "id": "0d74aaab",
   "metadata": {
    "slideshow": {
     "slide_type": "slide"
    }
   },
   "source": [
    "## Data types\n",
    "* Every variable has a _type_\n",
    "* Python makes it easy to discover the type of variables with the built-in command ```type```"
   ]
  },
  {
   "cell_type": "code",
   "execution_count": 2,
   "id": "9fd5eba2",
   "metadata": {
    "slideshow": {
     "slide_type": "fragment"
    }
   },
   "outputs": [
    {
     "data": {
      "text/plain": [
       "int"
      ]
     },
     "execution_count": 2,
     "metadata": {},
     "output_type": "execute_result"
    }
   ],
   "source": [
    "x = 78\n",
    "type(x)"
   ]
  },
  {
   "cell_type": "code",
   "execution_count": 3,
   "id": "ee01fdc1",
   "metadata": {
    "slideshow": {
     "slide_type": "fragment"
    }
   },
   "outputs": [
    {
     "data": {
      "text/plain": [
       "float"
      ]
     },
     "execution_count": 3,
     "metadata": {},
     "output_type": "execute_result"
    }
   ],
   "source": [
    "y = 12.34\n",
    "type(y)"
   ]
  },
  {
   "cell_type": "markdown",
   "id": "f97d6d0e",
   "metadata": {
    "slideshow": {
     "slide_type": "fragment"
    }
   },
   "source": [
    "```type``` is a _function_ whose _argument_ is ```y``` and whose _output_ is ```float```"
   ]
  },
  {
   "cell_type": "markdown",
   "id": "a0b6b5c9",
   "metadata": {
    "slideshow": {
     "slide_type": "slide"
    }
   },
   "source": [
    "## Arithmetic operations"
   ]
  },
  {
   "cell_type": "code",
   "execution_count": 26,
   "id": "23fc510e",
   "metadata": {
    "slideshow": {
     "slide_type": "fragment"
    }
   },
   "outputs": [
    {
     "data": {
      "text/plain": [
       "5"
      ]
     },
     "execution_count": 26,
     "metadata": {},
     "output_type": "execute_result"
    }
   ],
   "source": [
    "x = 2\n",
    "y = 3\n",
    "x + y"
   ]
  },
  {
   "cell_type": "code",
   "execution_count": 18,
   "id": "93be57b7",
   "metadata": {
    "slideshow": {
     "slide_type": "fragment"
    }
   },
   "outputs": [
    {
     "data": {
      "text/plain": [
       "1"
      ]
     },
     "execution_count": 18,
     "metadata": {},
     "output_type": "execute_result"
    }
   ],
   "source": [
    "y - x"
   ]
  },
  {
   "cell_type": "code",
   "execution_count": 19,
   "id": "433e2791",
   "metadata": {
    "slideshow": {
     "slide_type": "fragment"
    }
   },
   "outputs": [
    {
     "data": {
      "text/plain": [
       "6"
      ]
     },
     "execution_count": 19,
     "metadata": {},
     "output_type": "execute_result"
    }
   ],
   "source": [
    "x * y"
   ]
  },
  {
   "cell_type": "code",
   "execution_count": 20,
   "id": "686708cc",
   "metadata": {
    "slideshow": {
     "slide_type": "fragment"
    }
   },
   "outputs": [
    {
     "data": {
      "text/plain": [
       "1.5"
      ]
     },
     "execution_count": 20,
     "metadata": {},
     "output_type": "execute_result"
    }
   ],
   "source": [
    "y / x"
   ]
  },
  {
   "cell_type": "markdown",
   "id": "24946c32",
   "metadata": {
    "slideshow": {
     "slide_type": "slide"
    }
   },
   "source": [
    "```x``` raised to the power of ```y```"
   ]
  },
  {
   "cell_type": "code",
   "execution_count": 25,
   "id": "79cec3bb",
   "metadata": {
    "slideshow": {
     "slide_type": "fragment"
    }
   },
   "outputs": [
    {
     "data": {
      "text/plain": [
       "8"
      ]
     },
     "execution_count": 25,
     "metadata": {},
     "output_type": "execute_result"
    }
   ],
   "source": [
    "x ** y"
   ]
  },
  {
   "cell_type": "markdown",
   "id": "e45389d2",
   "metadata": {
    "slideshow": {
     "slide_type": "fragment"
    }
   },
   "source": [
    "The integer ```floor``` operation"
   ]
  },
  {
   "cell_type": "code",
   "execution_count": 21,
   "id": "ddd861f0",
   "metadata": {
    "slideshow": {
     "slide_type": "fragment"
    }
   },
   "outputs": [
    {
     "data": {
      "text/plain": [
       "1"
      ]
     },
     "execution_count": 21,
     "metadata": {},
     "output_type": "execute_result"
    }
   ],
   "source": [
    "y // x"
   ]
  },
  {
   "cell_type": "markdown",
   "id": "daa6380a",
   "metadata": {
    "slideshow": {
     "slide_type": "fragment"
    }
   },
   "source": [
    "The ```modulus``` (remainder) operation"
   ]
  },
  {
   "cell_type": "code",
   "execution_count": 23,
   "id": "9513cd50",
   "metadata": {
    "slideshow": {
     "slide_type": "fragment"
    }
   },
   "outputs": [
    {
     "data": {
      "text/plain": [
       "1"
      ]
     },
     "execution_count": 23,
     "metadata": {},
     "output_type": "execute_result"
    }
   ],
   "source": [
    "y % x"
   ]
  },
  {
   "cell_type": "markdown",
   "id": "673f791f",
   "metadata": {
    "slideshow": {
     "slide_type": "slide"
    }
   },
   "source": [
    "## Operator precedence rules\n",
    "* Parentheses evaluate first\n",
    "    * If nested, innermost parentheses evaluate first\n",
    "* Exponents evaluate next, in order of _right-to-left_\n",
    "* Multiplication, division, and modulus evaluate next, in order of left-to-right\n",
    "* Addition and subtraction evaluate last, in order of left-to-right"
   ]
  },
  {
   "cell_type": "code",
   "execution_count": 28,
   "id": "ff881020",
   "metadata": {
    "slideshow": {
     "slide_type": "fragment"
    }
   },
   "outputs": [
    {
     "data": {
      "text/plain": [
       "10"
      ]
     },
     "execution_count": 28,
     "metadata": {},
     "output_type": "execute_result"
    }
   ],
   "source": [
    "x = 2\n",
    "y = 3\n",
    "z = 4\n",
    "x * y + z"
   ]
  },
  {
   "cell_type": "code",
   "execution_count": 29,
   "id": "d381f5b4",
   "metadata": {
    "slideshow": {
     "slide_type": "fragment"
    }
   },
   "outputs": [
    {
     "data": {
      "text/plain": [
       "14"
      ]
     },
     "execution_count": 29,
     "metadata": {},
     "output_type": "execute_result"
    }
   ],
   "source": [
    "x * ( y + z )"
   ]
  },
  {
   "cell_type": "markdown",
   "id": "97f77da0",
   "metadata": {
    "slideshow": {
     "slide_type": "slide"
    }
   },
   "source": [
    "## Use parentheses to avoid ambiguity"
   ]
  },
  {
   "cell_type": "code",
   "execution_count": 30,
   "id": "bedb8c6a",
   "metadata": {
    "slideshow": {
     "slide_type": "fragment"
    }
   },
   "outputs": [
    {
     "data": {
      "text/plain": [
       "2417851639229258349412352"
      ]
     },
     "execution_count": 30,
     "metadata": {},
     "output_type": "execute_result"
    }
   ],
   "source": [
    "2 ** 3 ** 4"
   ]
  },
  {
   "cell_type": "code",
   "execution_count": 32,
   "id": "6b8e5729",
   "metadata": {
    "slideshow": {
     "slide_type": "fragment"
    }
   },
   "outputs": [
    {
     "data": {
      "text/plain": [
       "4096"
      ]
     },
     "execution_count": 32,
     "metadata": {},
     "output_type": "execute_result"
    }
   ],
   "source": [
    "(2 ** 3) ** 4"
   ]
  },
  {
   "cell_type": "code",
   "execution_count": 33,
   "id": "2bfd134b",
   "metadata": {
    "slideshow": {
     "slide_type": "fragment"
    }
   },
   "outputs": [
    {
     "data": {
      "text/plain": [
       "2417851639229258349412352"
      ]
     },
     "execution_count": 33,
     "metadata": {},
     "output_type": "execute_result"
    }
   ],
   "source": [
    "2 ** (3 ** 4)"
   ]
  },
  {
   "cell_type": "markdown",
   "id": "158076fb",
   "metadata": {
    "slideshow": {
     "slide_type": "slide"
    }
   },
   "source": [
    "## Strings\n",
    "* The ```string``` type holds sequence of characters\n",
    "* The ```print``` function displays strings on the screen"
   ]
  },
  {
   "cell_type": "code",
   "execution_count": 42,
   "id": "a76d4d18",
   "metadata": {
    "slideshow": {
     "slide_type": "fragment"
    }
   },
   "outputs": [
    {
     "name": "stdout",
     "output_type": "stream",
     "text": [
      "Python is cool\n"
     ]
    }
   ],
   "source": [
    "x = 'Python is cool'\n",
    "print(x)"
   ]
  },
  {
   "cell_type": "markdown",
   "id": "b2b3d386",
   "metadata": {
    "slideshow": {
     "slide_type": "fragment"
    }
   },
   "source": [
    "* Strings can span multiple lines via escape characters"
   ]
  },
  {
   "cell_type": "code",
   "execution_count": 44,
   "id": "4069901e",
   "metadata": {
    "slideshow": {
     "slide_type": "fragment"
    }
   },
   "outputs": [
    {
     "name": "stdout",
     "output_type": "stream",
     "text": [
      "Python is lit \n",
      " and so is Loquacious D\n"
     ]
    }
   ],
   "source": [
    "x = 'Python is lit \\n and so is Loquacious D'\n",
    "print(x)"
   ]
  },
  {
   "cell_type": "markdown",
   "id": "69bd7dc8",
   "metadata": {
    "slideshow": {
     "slide_type": "slide"
    }
   },
   "source": [
    "## Obtaining user input\n",
    "* The ```input``` function allows the user to supply a value\n",
    "* The resulting value is always a string"
   ]
  },
  {
   "cell_type": "code",
   "execution_count": 22,
   "id": "1a214724",
   "metadata": {
    "slideshow": {
     "slide_type": "fragment"
    }
   },
   "outputs": [
    {
     "name": "stdout",
     "output_type": "stream",
     "text": [
      "Please enter your name: Jacek\n",
      "You entered: Jacek\n"
     ]
    }
   ],
   "source": [
    "x = input(\"Please enter your name: \")\n",
    "print(\"You entered:\", x)"
   ]
  },
  {
   "cell_type": "code",
   "execution_count": 24,
   "id": "81205e22",
   "metadata": {
    "slideshow": {
     "slide_type": "fragment"
    }
   },
   "outputs": [
    {
     "name": "stdout",
     "output_type": "stream",
     "text": [
      "Please enter your age: 43\n",
      "43 <class 'str'>\n"
     ]
    }
   ],
   "source": [
    "y = input(\"Please enter your age: \")\n",
    "print(y, type(y))"
   ]
  },
  {
   "cell_type": "markdown",
   "id": "2ffcc9d1",
   "metadata": {
    "slideshow": {
     "slide_type": "slide"
    }
   },
   "source": [
    "## Casting data types via ```int```"
   ]
  },
  {
   "cell_type": "code",
   "execution_count": 1,
   "id": "ac7a8358",
   "metadata": {
    "slideshow": {
     "slide_type": "fragment"
    }
   },
   "outputs": [
    {
     "name": "stdout",
     "output_type": "stream",
     "text": [
      "Please enter your age43\n",
      "43 <class 'int'>\n"
     ]
    }
   ],
   "source": [
    "y = input(\"Please enter your age\")\n",
    "z = int(y)\n",
    "print(z, type(z))"
   ]
  },
  {
   "cell_type": "markdown",
   "id": "257400a6",
   "metadata": {
    "slideshow": {
     "slide_type": "slide"
    }
   },
   "source": [
    "## Boolean expressions\n",
    "* Boolean expressions evaluate to keywords ```True``` or ```False```"
   ]
  },
  {
   "cell_type": "code",
   "execution_count": 2,
   "id": "8caf3710",
   "metadata": {
    "slideshow": {
     "slide_type": "fragment"
    }
   },
   "outputs": [
    {
     "name": "stdout",
     "output_type": "stream",
     "text": [
      "False\n"
     ]
    }
   ],
   "source": [
    "x = 12\n",
    "y = 34\n",
    "z = x > y\n",
    "print(z)"
   ]
  },
  {
   "cell_type": "markdown",
   "id": "2ac648c9",
   "metadata": {
    "slideshow": {
     "slide_type": "fragment"
    }
   },
   "source": [
    "* greater than: ```>```\n",
    "* less than: ```<```\n",
    "* greater than or equal to: ```>=```\n",
    "* less than or equal to: ```<=```\n",
    "* is equal to: ```==``` \n",
    "* is not equal to: ```!=```"
   ]
  },
  {
   "cell_type": "markdown",
   "id": "59270266",
   "metadata": {
    "slideshow": {
     "slide_type": "slide"
    }
   },
   "source": [
    "## Conditional execution: ```if``` statement\n",
    "* The ```if``` statement allows your program's execution to depend on the state of the program"
   ]
  },
  {
   "cell_type": "code",
   "execution_count": 25,
   "id": "d70bc9c3",
   "metadata": {
    "slideshow": {
     "slide_type": "fragment"
    }
   },
   "outputs": [
    {
     "name": "stdout",
     "output_type": "stream",
     "text": [
      "x is smaller than y\n"
     ]
    }
   ],
   "source": [
    "x = 12\n",
    "y = 34\n",
    "\n",
    "if x>y:\n",
    "    print(\"x is bigger than y\")\n",
    "    \n",
    "if x<y:\n",
    "    print(\"x is smaller than y\")"
   ]
  },
  {
   "cell_type": "markdown",
   "id": "91137188",
   "metadata": {
    "slideshow": {
     "slide_type": "fragment"
    }
   },
   "source": [
    "* Note the ```:``` after the condition\n",
    "* Q: What is the program output if we set ```x=56``` and ```y=56``` above?"
   ]
  },
  {
   "cell_type": "markdown",
   "id": "7fec0881",
   "metadata": {
    "slideshow": {
     "slide_type": "slide"
    }
   },
   "source": [
    "## Comments\n",
    "* Comments allow you to _document_ your code\n",
    "* Documentation allows others to understand the purpose of different sections of your program\n",
    "* Comments are indicated with the ```#``` symbol, and can appear above or to the right of your code"
   ]
  },
  {
   "cell_type": "code",
   "execution_count": 7,
   "id": "1c32af36",
   "metadata": {
    "slideshow": {
     "slide_type": "fragment"
    }
   },
   "outputs": [],
   "source": [
    "# check if x is bigger than y\n",
    "if x>y:\n",
    "    print(\"x is bigger than y\") # display a message to the user if x is bigger than y"
   ]
  },
  {
   "cell_type": "markdown",
   "id": "d75850ce",
   "metadata": {
    "slideshow": {
     "slide_type": "slide"
    }
   },
   "source": [
    "## Variables, values, and types\n",
    "* _Variables_ refer to _objects_\n",
    "* Objects have both a _value_ and a _type_\n",
    "* In the expression ```x=78```, ```x``` is a variable whose value is ```78``` and whose type is ```int```"
   ]
  },
  {
   "cell_type": "code",
   "execution_count": 10,
   "id": "ebba19e4",
   "metadata": {
    "slideshow": {
     "slide_type": "fragment"
    }
   },
   "outputs": [
    {
     "name": "stdout",
     "output_type": "stream",
     "text": [
      "The value of x is  3.14156\n",
      "The type of x is <class 'float'>\n"
     ]
    }
   ],
   "source": [
    "x = 3.14156\n",
    "print(\"The value of x is \", x)\n",
    "print(\"The type of x is\", type(x))"
   ]
  },
  {
   "cell_type": "code",
   "execution_count": 12,
   "id": "14df85c1",
   "metadata": {
    "slideshow": {
     "slide_type": "fragment"
    }
   },
   "outputs": [
    {
     "name": "stdout",
     "output_type": "stream",
     "text": [
      "The value of x is  3.14156\n",
      "The type of x is <class 'str'>\n"
     ]
    }
   ],
   "source": [
    "x = '3.14156'\n",
    "print(\"The value of x is \", x)\n",
    "print(\"The type of x is\", type(x))"
   ]
  },
  {
   "cell_type": "markdown",
   "id": "735db940",
   "metadata": {
    "slideshow": {
     "slide_type": "slide"
    }
   },
   "source": [
    "## Dynamic typing\n",
    "* Python determines your variable's types during program execution"
   ]
  },
  {
   "cell_type": "code",
   "execution_count": 30,
   "id": "5b501271",
   "metadata": {
    "slideshow": {
     "slide_type": "fragment"
    }
   },
   "outputs": [
    {
     "name": "stdout",
     "output_type": "stream",
     "text": [
      "The type of z is <class 'float'>\n"
     ]
    }
   ],
   "source": [
    "x = 10\n",
    "y = 3\n",
    "z = x/y\n",
    "print(\"The type of z is\", type(z))"
   ]
  },
  {
   "cell_type": "markdown",
   "id": "56570638",
   "metadata": {
    "slideshow": {
     "slide_type": "slide"
    }
   },
   "source": [
    "## Basic descriptive statistics\n",
    "* We can find the minimum and maximum of a set of numbers with the functions ```min``` and ```max```, respectively"
   ]
  },
  {
   "cell_type": "code",
   "execution_count": 16,
   "id": "a7313f6a",
   "metadata": {
    "slideshow": {
     "slide_type": "fragment"
    }
   },
   "outputs": [
    {
     "data": {
      "text/plain": [
       "12"
      ]
     },
     "execution_count": 16,
     "metadata": {},
     "output_type": "execute_result"
    }
   ],
   "source": [
    "min(12,34,56)"
   ]
  },
  {
   "cell_type": "code",
   "execution_count": 17,
   "id": "a9f565d4",
   "metadata": {
    "slideshow": {
     "slide_type": "fragment"
    }
   },
   "outputs": [
    {
     "data": {
      "text/plain": [
       "56"
      ]
     },
     "execution_count": 17,
     "metadata": {},
     "output_type": "execute_result"
    }
   ],
   "source": [
    "max(12,34,56)"
   ]
  }
 ],
 "metadata": {
  "celltoolbar": "Slideshow",
  "kernelspec": {
   "display_name": "Python 3",
   "language": "python",
   "name": "python3"
  },
  "language_info": {
   "codemirror_mode": {
    "name": "ipython",
    "version": 3
   },
   "file_extension": ".py",
   "mimetype": "text/x-python",
   "name": "python",
   "nbconvert_exporter": "python",
   "pygments_lexer": "ipython3",
   "version": "3.8.8"
  },
  "varInspector": {
   "cols": {
    "lenName": 16,
    "lenType": 16,
    "lenVar": 40
   },
   "kernels_config": {
    "python": {
     "delete_cmd_postfix": "",
     "delete_cmd_prefix": "del ",
     "library": "var_list.py",
     "varRefreshCmd": "print(var_dic_list())"
    },
    "r": {
     "delete_cmd_postfix": ") ",
     "delete_cmd_prefix": "rm(",
     "library": "var_list.r",
     "varRefreshCmd": "cat(var_dic_list()) "
    }
   },
   "types_to_exclude": [
    "module",
    "function",
    "builtin_function_or_method",
    "instance",
    "_Feature"
   ],
   "window_display": false
  }
 },
 "nbformat": 4,
 "nbformat_minor": 5
}
