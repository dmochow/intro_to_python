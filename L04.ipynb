{
 "cells": [
  {
   "cell_type": "markdown",
   "id": "6148798f",
   "metadata": {
    "slideshow": {
     "slide_type": "slide"
    }
   },
   "source": [
    "##  <center>Lecture 4</center> \n",
    "  ##     <center>Functions</center>\n"
   ]
  },
  {
   "cell_type": "markdown",
   "id": "4d741247",
   "metadata": {
    "slideshow": {
     "slide_type": "slide"
    }
   },
   "source": [
    "## Functions are a key ingredient of programs\n",
    "* A _function_ is a segment of code that provides some desired functionality\n",
    "* Functions are intended to be re-used wherever needed in your programs\n",
    "* It is good practice to write a function for any behavior that may be needed in more than one place of your application"
   ]
  },
  {
   "cell_type": "markdown",
   "id": "564d3f63",
   "metadata": {
    "slideshow": {
     "slide_type": "slide"
    }
   },
   "source": [
    "## Functions have inputs and outputs\n",
    "* The inputs into a function are called the _arguments_\n",
    "* The outputs are _returned_ to the program _calling_ the function\n",
    "* Functions essentially pass information between program modules"
   ]
  },
  {
   "cell_type": "markdown",
   "id": "ef805950",
   "metadata": {
    "slideshow": {
     "slide_type": "slide"
    }
   },
   "source": [
    "## Example: absolute value function"
   ]
  },
  {
   "cell_type": "code",
   "execution_count": 3,
   "id": "8ff43bea",
   "metadata": {
    "slideshow": {
     "slide_type": "fragment"
    }
   },
   "outputs": [],
   "source": [
    "def my_abs(x):\n",
    "    if x>0:\n",
    "        output = x\n",
    "    else:\n",
    "        output = -x\n",
    "    return output"
   ]
  },
  {
   "cell_type": "code",
   "execution_count": 4,
   "id": "4d62a9cb",
   "metadata": {
    "slideshow": {
     "slide_type": "fragment"
    }
   },
   "outputs": [
    {
     "name": "stdout",
     "output_type": "stream",
     "text": [
      "The absolute value of 3 is 3\n",
      "The absolute value of -3 is 3\n"
     ]
    }
   ],
   "source": [
    "print('The absolute value of 3 is', my_abs(3))\n",
    "print('The absolute value of -3 is', my_abs(-3))"
   ]
  },
  {
   "cell_type": "markdown",
   "id": "bfcd9fd1",
   "metadata": {
    "slideshow": {
     "slide_type": "fragment"
    }
   },
   "source": [
    "* The ```def``` keyword tells Python that you are about to define a function\n",
    "* ```my_abs``` is the _name_ of the function\n",
    "* ```x``` is the function's _argument_\n",
    "* ```()``` are required, even if there are no arguments"
   ]
  },
  {
   "cell_type": "markdown",
   "id": "b556c0c1",
   "metadata": {
    "slideshow": {
     "slide_type": "slide"
    }
   },
   "source": [
    "## Some functions have no arguments\n",
    "* It is not uncommon to construct and employ functions that do not require inputs\n",
    "* Examples:\n",
    "    * fetching the current date or time\n",
    "    * generating a random number"
   ]
  },
  {
   "cell_type": "markdown",
   "id": "917956c2",
   "metadata": {
    "slideshow": {
     "slide_type": "slide"
    }
   },
   "source": [
    "* Let's write a function for obtaining the number pi to 4 decimal places"
   ]
  },
  {
   "cell_type": "code",
   "execution_count": 17,
   "id": "fa9a1c0c",
   "metadata": {
    "slideshow": {
     "slide_type": "fragment"
    }
   },
   "outputs": [],
   "source": [
    "def get_pi():\n",
    "    output = 3.1415\n",
    "    return output"
   ]
  },
  {
   "cell_type": "markdown",
   "id": "03a0ce25",
   "metadata": {
    "slideshow": {
     "slide_type": "fragment"
    }
   },
   "source": [
    "* Let's now use this function to compute the area of a circle"
   ]
  },
  {
   "cell_type": "code",
   "execution_count": 18,
   "id": "6b56b3da",
   "metadata": {
    "slideshow": {
     "slide_type": "fragment"
    }
   },
   "outputs": [
    {
     "name": "stdout",
     "output_type": "stream",
     "text": [
      "The area of a circle with radius 5 is 78.54\n"
     ]
    }
   ],
   "source": [
    "radius = 5\n",
    "area = get_pi() * (radius**2)\n",
    "print(f'The area of a circle with radius {radius:1d} is {area:.2f}')"
   ]
  },
  {
   "cell_type": "markdown",
   "id": "119d3b97",
   "metadata": {
    "slideshow": {
     "slide_type": "slide"
    }
   },
   "source": [
    "## Functions can have multiple arguments\n",
    "* It is common for a function to require more than one input\n",
    "* Let's write a function for computing the body mass index\n",
    "* The formula for BMI is weight / height<sup>2</sup>\n",
    "    * Weight is in units of kilograms\n",
    "    * Height is in units of meters"
   ]
  },
  {
   "cell_type": "markdown",
   "id": "701f1475",
   "metadata": {
    "slideshow": {
     "slide_type": "fragment"
    }
   },
   "source": [
    "Q: How many arguments will our function need?"
   ]
  },
  {
   "cell_type": "markdown",
   "id": "e811f54f",
   "metadata": {
    "slideshow": {
     "slide_type": "slide"
    }
   },
   "source": [
    "## A function for computing BMI"
   ]
  },
  {
   "cell_type": "code",
   "execution_count": 31,
   "id": "6df3f54e",
   "metadata": {
    "slideshow": {
     "slide_type": "fragment"
    }
   },
   "outputs": [],
   "source": [
    "def get_bmi(w,h):\n",
    "    bmi = w / (h**2)\n",
    "    return bmi"
   ]
  },
  {
   "cell_type": "markdown",
   "id": "58ef2272",
   "metadata": {
    "slideshow": {
     "slide_type": "fragment"
    }
   },
   "source": [
    "* Let's measure my BMI with our function"
   ]
  },
  {
   "cell_type": "code",
   "execution_count": 35,
   "id": "7b6d066c",
   "metadata": {
    "slideshow": {
     "slide_type": "fragment"
    }
   },
   "outputs": [],
   "source": [
    "my_weight_kg = 77\n",
    "my_height_m = 1.76"
   ]
  },
  {
   "cell_type": "code",
   "execution_count": 36,
   "id": "1183ebba",
   "metadata": {
    "slideshow": {
     "slide_type": "fragment"
    }
   },
   "outputs": [
    {
     "name": "stdout",
     "output_type": "stream",
     "text": [
      "My BMI is 24.86\n"
     ]
    }
   ],
   "source": [
    "my_bmi = get_bmi(my_weight_kg, my_height_m)\n",
    "print(f'My BMI is {my_bmi:.2f}')"
   ]
  },
  {
   "cell_type": "markdown",
   "id": "6cb6c9a4",
   "metadata": {
    "slideshow": {
     "slide_type": "slide"
    }
   },
   "source": [
    "## Random number generation\n",
    "* Simulating random events is a powerful computational tool\n",
    "    * E.g.: Forecasting election results, sports outcomes, public health measures\n",
    "* Python provides easy-to-use functions for producing pseudo-random numbers\n",
    "    * In reality, the numbers are generated in a sequence that only emulates randomness"
   ]
  },
  {
   "cell_type": "markdown",
   "id": "8f6b16fe",
   "metadata": {
    "slideshow": {
     "slide_type": "slide"
    }
   },
   "source": [
    "* Let's import the ```random``` module so that we can experiment with random number generation"
   ]
  },
  {
   "cell_type": "code",
   "execution_count": 40,
   "id": "1705f160",
   "metadata": {
    "slideshow": {
     "slide_type": "fragment"
    }
   },
   "outputs": [],
   "source": [
    "import random"
   ]
  },
  {
   "cell_type": "markdown",
   "id": "6bff8d59",
   "metadata": {
    "slideshow": {
     "slide_type": "fragment"
    }
   },
   "source": [
    "* Generating a random number between 0 and 1"
   ]
  },
  {
   "cell_type": "code",
   "execution_count": 68,
   "id": "8d9b270e",
   "metadata": {
    "slideshow": {
     "slide_type": "fragment"
    }
   },
   "outputs": [
    {
     "data": {
      "text/plain": [
       "0.54395399777612"
      ]
     },
     "execution_count": 68,
     "metadata": {},
     "output_type": "execute_result"
    }
   ],
   "source": [
    "random.random() # run this multiple times to confirm the randomness"
   ]
  },
  {
   "cell_type": "markdown",
   "id": "fda822f3",
   "metadata": {
    "slideshow": {
     "slide_type": "fragment"
    }
   },
   "source": [
    "* The syntax above states that we are calling the ```random()``` function from the ```random``` module"
   ]
  },
  {
   "cell_type": "markdown",
   "id": "5dd0352c",
   "metadata": {
    "slideshow": {
     "slide_type": "slide"
    }
   },
   "source": [
    "## Generating random integers\n",
    "* The ```randrange()``` function allows us to generate integers on a specified range\n",
    "* Let's generate a number between 1 and 10:"
   ]
  },
  {
   "cell_type": "code",
   "execution_count": 95,
   "id": "eb36058b",
   "metadata": {
    "slideshow": {
     "slide_type": "fragment"
    }
   },
   "outputs": [
    {
     "data": {
      "text/plain": [
       "1"
      ]
     },
     "execution_count": 95,
     "metadata": {},
     "output_type": "execute_result"
    }
   ],
   "source": [
    "random.randrange(1,11)"
   ]
  },
  {
   "cell_type": "markdown",
   "id": "7dd7f100",
   "metadata": {
    "slideshow": {
     "slide_type": "fragment"
    }
   },
   "source": [
    "* The ```1``` is the lower bound argument\n",
    "* The ```11``` is the upper bound argument \n",
    "    * Note that it is a Python convention to add a 1 to the upper limit of a range"
   ]
  },
  {
   "cell_type": "markdown",
   "id": "252f7989",
   "metadata": {
    "slideshow": {
     "slide_type": "slide"
    }
   },
   "source": [
    "## Simulating the roll of two dice\n",
    "* We can create a function that simulates the outcome of rolling two dice\n",
    "* The algorithm is:\n",
    "    * (1) Roll dice 1 and store the outcome\n",
    "    * (2) Roll dice 2 and store the outcome\n",
    "    * (3) Add the two outcomes and return to the user"
   ]
  },
  {
   "cell_type": "code",
   "execution_count": 98,
   "id": "a17b4a8a",
   "metadata": {
    "slideshow": {
     "slide_type": "fragment"
    }
   },
   "outputs": [],
   "source": [
    "def roll_two_dice():\n",
    "    r1 = random.randrange(1,7)   \n",
    "    r2 = random.randrange(1,7)\n",
    "    return r1+r2"
   ]
  },
  {
   "cell_type": "markdown",
   "id": "82444bb3",
   "metadata": {
    "slideshow": {
     "slide_type": "slide"
    }
   },
   "source": [
    "## Simulating 10 rolls of two dice"
   ]
  },
  {
   "cell_type": "code",
   "execution_count": 111,
   "id": "01d16f00",
   "metadata": {
    "slideshow": {
     "slide_type": "fragment"
    }
   },
   "outputs": [
    {
     "name": "stdout",
     "output_type": "stream",
     "text": [
      "9\n",
      "6\n",
      "7\n",
      "7\n",
      "7\n",
      "10\n",
      "7\n",
      "5\n",
      "2\n",
      "7\n"
     ]
    }
   ],
   "source": [
    "for i in range(10):\n",
    "    this_roll = roll_two_dice()\n",
    "    print(this_roll)"
   ]
  },
  {
   "cell_type": "markdown",
   "id": "2135be0d",
   "metadata": {
    "slideshow": {
     "slide_type": "fragment"
    }
   },
   "source": [
    "Q: What is the most likely outcome when rolling two dice? Why?"
   ]
  },
  {
   "cell_type": "markdown",
   "id": "9f8703cb",
   "metadata": {
    "slideshow": {
     "slide_type": "slide"
    }
   },
   "source": [
    "## Returning multiple outputs via a tuple\n",
    "* Imagine that instead of returning the _sum_ of the two rolls, the user actually wants to know the outcome of each individual roll\n",
    "* This requires our function to return multiple values\n",
    "* These multiple values can be grouped into a so-called _tuple_:"
   ]
  },
  {
   "cell_type": "code",
   "execution_count": 195,
   "id": "111fa777",
   "metadata": {
    "slideshow": {
     "slide_type": "fragment"
    }
   },
   "outputs": [],
   "source": [
    "def roll_two_dice():\n",
    "    r1 = random.randrange(1,7)   \n",
    "    r2 = random.randrange(1,7)\n",
    "    results = (r1,r2)\n",
    "    return results"
   ]
  },
  {
   "cell_type": "markdown",
   "id": "23ad8d11",
   "metadata": {
    "slideshow": {
     "slide_type": "slide"
    }
   },
   "source": [
    "* Roll two dice and get the outcome of each roll:"
   ]
  },
  {
   "cell_type": "code",
   "execution_count": 199,
   "id": "9137dac3",
   "metadata": {
    "slideshow": {
     "slide_type": "fragment"
    }
   },
   "outputs": [
    {
     "name": "stdout",
     "output_type": "stream",
     "text": [
      "My first roll was 1\n",
      "My second roll was 2\n"
     ]
    }
   ],
   "source": [
    "my_first_roll, my_second_roll = roll_two_dice()\n",
    "print('My first roll was', my_first_roll)\n",
    "print('My second roll was', my_second_roll)"
   ]
  },
  {
   "cell_type": "markdown",
   "id": "79bbb7e3",
   "metadata": {
    "slideshow": {
     "slide_type": "fragment"
    }
   },
   "source": [
    "* The number of items in the tuple ```my_first_roll, my_second_roll``` must match the number of elements in the function's output ```results = (r1,r2)```"
   ]
  },
  {
   "cell_type": "markdown",
   "id": "81c8c9c4",
   "metadata": {
    "slideshow": {
     "slide_type": "slide"
    }
   },
   "source": [
    "## Python modules\n",
    "* A _module_ is a file, ending with ```.py```, containing Python functions and variables (i.e., code and data)\n",
    "* The modules that programmers write typically make use of other, pre-existing modules\n",
    "* Code re-use is a key feature of effective programming\n",
    "    * Re-using code eliminated the need for extra work\n",
    "    * Re-using code eliminates the possibility of introducing errors into your program"
   ]
  },
  {
   "cell_type": "markdown",
   "id": "de4cd0a7",
   "metadata": {
    "slideshow": {
     "slide_type": "slide"
    }
   },
   "source": [
    "## Python Standard Library\n",
    "* Python provides a set of commonly-used, general functions with its installation\n",
    "* Examples are the ```input``` and ```type```functions\n",
    "* The library is documented at https://docs.python.org/3/library/"
   ]
  },
  {
   "cell_type": "markdown",
   "id": "03155cd1",
   "metadata": {
    "slideshow": {
     "slide_type": "slide"
    }
   },
   "source": [
    "## The ```Math``` module provides functionality for many mathematical operations\n",
    "* The following snippet imports the math library and demonstrates its usage"
   ]
  },
  {
   "cell_type": "code",
   "execution_count": 202,
   "id": "99ef77c9",
   "metadata": {
    "slideshow": {
     "slide_type": "fragment"
    }
   },
   "outputs": [
    {
     "name": "stdout",
     "output_type": "stream",
     "text": [
      "The square root of 70 is 8.37\n"
     ]
    }
   ],
   "source": [
    "import math\n",
    "data = random.randrange(0,101)\n",
    "sqr_data = math.sqrt(data)\n",
    "print(f'The square root of {data:2d} is {sqr_data:0.2f}')"
   ]
  },
  {
   "cell_type": "markdown",
   "id": "08498cb5",
   "metadata": {
    "slideshow": {
     "slide_type": "fragment"
    }
   },
   "source": [
    "* Function ```sqrt()``` of the ```math``` module computes the square root of any non-negative number"
   ]
  },
  {
   "cell_type": "markdown",
   "id": "0f422d2b",
   "metadata": {
    "slideshow": {
     "slide_type": "slide"
    }
   },
   "source": [
    "## Default parameter values\n",
    "* It is convenient to allow the user to not provide a value for every argument of a function\n",
    "* For example, we may want our BMI calculator to measure BMI if only the weight is provided\n",
    "    * In this case, we may want to assume an average height"
   ]
  },
  {
   "cell_type": "code",
   "execution_count": 203,
   "id": "1b45d118",
   "metadata": {
    "slideshow": {
     "slide_type": "fragment"
    }
   },
   "outputs": [],
   "source": [
    "def get_bmi(w,h=1.7):\n",
    "    bmi = w / (h**2)\n",
    "    return bmi"
   ]
  },
  {
   "cell_type": "markdown",
   "id": "76b64cab",
   "metadata": {
    "slideshow": {
     "slide_type": "fragment"
    }
   },
   "source": [
    "* The expression ```h=1.7``` states that the default value of parameter ```h``` is 1.7\n",
    "* Let's call our BMI calculator with only the weight provided"
   ]
  },
  {
   "cell_type": "code",
   "execution_count": 168,
   "id": "0a1cc8fc",
   "metadata": {
    "slideshow": {
     "slide_type": "fragment"
    }
   },
   "outputs": [
    {
     "data": {
      "text/plain": [
       "24.221453287197235"
      ]
     },
     "execution_count": 168,
     "metadata": {},
     "output_type": "execute_result"
    }
   ],
   "source": [
    "get_bmi(70)"
   ]
  },
  {
   "cell_type": "markdown",
   "id": "4c280186",
   "metadata": {
    "slideshow": {
     "slide_type": "slide"
    }
   },
   "source": [
    "## Keyword arguments allow you to provide inputs in any order\n",
    "* Imagine that you have forgotten the order of the ```w``` and ```h``` parameters in ```get_bmi()```\n",
    "* Python allows you identify each argument by name:"
   ]
  },
  {
   "cell_type": "code",
   "execution_count": 173,
   "id": "1de033b5",
   "metadata": {
    "slideshow": {
     "slide_type": "fragment"
    }
   },
   "outputs": [
    {
     "data": {
      "text/plain": [
       "22.59814049586777"
      ]
     },
     "execution_count": 173,
     "metadata": {},
     "output_type": "execute_result"
    }
   ],
   "source": [
    "get_bmi(h=1.76, w=70)"
   ]
  },
  {
   "cell_type": "markdown",
   "id": "e70e02f8",
   "metadata": {
    "slideshow": {
     "slide_type": "slide"
    }
   },
   "source": [
    "## Functions that belong to objects\n",
    "* The term _method_ refers to a function that belongs to an object\n",
    "* To illustrate this, consider the conversion of a string to ALL CAPS"
   ]
  },
  {
   "cell_type": "code",
   "execution_count": 174,
   "id": "cbb31a33",
   "metadata": {
    "slideshow": {
     "slide_type": "fragment"
    }
   },
   "outputs": [
    {
     "data": {
      "text/plain": [
       "'LOQUACIOUS D'"
      ]
     },
     "execution_count": 174,
     "metadata": {},
     "output_type": "execute_result"
    }
   ],
   "source": [
    "my_name = 'Loquacious D'\n",
    "my_name.upper()"
   ]
  },
  {
   "cell_type": "markdown",
   "id": "c22eb9e9",
   "metadata": {
    "slideshow": {
     "slide_type": "slide"
    }
   },
   "source": [
    "## The scope of a variable\n",
    "* A variable exists in a _scope_\n",
    "* The scope may be _local_ or _global_\n",
    "* A variable that is defined inside of function has a local scope\n",
    "* A variable that is defined outside of a function has a global scope"
   ]
  },
  {
   "cell_type": "code",
   "execution_count": 179,
   "id": "c85315da",
   "metadata": {
    "slideshow": {
     "slide_type": "slide"
    }
   },
   "outputs": [],
   "source": [
    "my_global_name= 'Loquacious'\n",
    "\n",
    "def convert_to_all_cap(name):\n",
    "    my_local_name = name\n",
    "    return name.upper()"
   ]
  },
  {
   "cell_type": "markdown",
   "id": "886221bd",
   "metadata": {
    "slideshow": {
     "slide_type": "fragment"
    }
   },
   "source": [
    "* We can access a global variable inside of a function"
   ]
  },
  {
   "cell_type": "code",
   "execution_count": 180,
   "id": "78c4a3a2",
   "metadata": {
    "slideshow": {
     "slide_type": "fragment"
    }
   },
   "outputs": [
    {
     "name": "stdout",
     "output_type": "stream",
     "text": [
      "Loquacious\n"
     ]
    }
   ],
   "source": [
    "print(my_global_name)"
   ]
  },
  {
   "cell_type": "markdown",
   "id": "c65dd930",
   "metadata": {
    "slideshow": {
     "slide_type": "fragment"
    }
   },
   "source": [
    "* We _cannot_ access a local variable outside of a function"
   ]
  },
  {
   "cell_type": "code",
   "execution_count": 181,
   "id": "ee8db458",
   "metadata": {
    "slideshow": {
     "slide_type": "fragment"
    }
   },
   "outputs": [
    {
     "ename": "NameError",
     "evalue": "name 'my_local_name' is not defined",
     "output_type": "error",
     "traceback": [
      "\u001b[0;31m---------------------------------------------------------------------------\u001b[0m",
      "\u001b[0;31mNameError\u001b[0m                                 Traceback (most recent call last)",
      "\u001b[0;32m<ipython-input-181-8a516f06cbca>\u001b[0m in \u001b[0;36m<module>\u001b[0;34m\u001b[0m\n\u001b[0;32m----> 1\u001b[0;31m \u001b[0mprint\u001b[0m\u001b[0;34m(\u001b[0m\u001b[0mmy_local_name\u001b[0m\u001b[0;34m)\u001b[0m\u001b[0;34m\u001b[0m\u001b[0;34m\u001b[0m\u001b[0m\n\u001b[0m",
      "\u001b[0;31mNameError\u001b[0m: name 'my_local_name' is not defined"
     ]
    }
   ],
   "source": [
    "print(my_local_name)"
   ]
  },
  {
   "cell_type": "markdown",
   "id": "47ccd11f",
   "metadata": {
    "slideshow": {
     "slide_type": "slide"
    }
   },
   "source": [
    "## Global variables cannot be modified inside of a function\n",
    "* Python will allow this, but a _new_ variable is created"
   ]
  },
  {
   "cell_type": "code",
   "execution_count": 187,
   "id": "098a9845",
   "metadata": {
    "slideshow": {
     "slide_type": "fragment"
    }
   },
   "outputs": [],
   "source": [
    "my_global_name= 'Loquacious'\n",
    "\n",
    "def convert_to_all_cap():\n",
    "    my_global_name = 'Pomeranian' # trying to modify a global variable\n",
    "    return my_global_name.upper()"
   ]
  },
  {
   "cell_type": "code",
   "execution_count": 189,
   "id": "47922eec",
   "metadata": {
    "slideshow": {
     "slide_type": "fragment"
    }
   },
   "outputs": [
    {
     "name": "stdout",
     "output_type": "stream",
     "text": [
      "POMERANIAN\n",
      "Loquacious\n"
     ]
    }
   ],
   "source": [
    "print(convert_to_all_cap()) \n",
    "print(my_global_name)"
   ]
  },
  {
   "cell_type": "markdown",
   "id": "220513f6",
   "metadata": {
    "slideshow": {
     "slide_type": "fragment"
    }
   },
   "source": [
    "* Notice that ```my_global_name``` only temporarily changes value inside the ```convert_to_all_cap``` function"
   ]
  },
  {
   "cell_type": "markdown",
   "id": "82b59bd2",
   "metadata": {
    "slideshow": {
     "slide_type": "slide"
    }
   },
   "source": [
    "## The ```global``` keyword tells Python that a variable has been defined in global scope"
   ]
  },
  {
   "cell_type": "code",
   "execution_count": 190,
   "id": "507c6234",
   "metadata": {},
   "outputs": [],
   "source": [
    "my_global_name= 'Loquacious'\n",
    "\n",
    "def convert_to_all_cap():\n",
    "    global my_global_name\n",
    "    my_global_name = 'Pomeranian' # trying to modify a global variable\n",
    "    return my_global_name.upper()"
   ]
  },
  {
   "cell_type": "code",
   "execution_count": 191,
   "id": "d291b333",
   "metadata": {},
   "outputs": [
    {
     "name": "stdout",
     "output_type": "stream",
     "text": [
      "POMERANIAN\n",
      "Pomeranian\n"
     ]
    }
   ],
   "source": [
    "print(convert_to_all_cap()) \n",
    "print(my_global_name)"
   ]
  },
  {
   "cell_type": "markdown",
   "id": "aef1f06f",
   "metadata": {
    "slideshow": {
     "slide_type": "slide"
    }
   },
   "source": [
    "## Arguments may be passed _by value_ or _by reference_\n",
    "* Passing by value means that we are giving the function a _copy_ of the variable\n",
    "* Passing by reference means that we are giving the function the ability to modify that variable directly\n",
    "* <b> Python always passes by reference </b>"
   ]
  }
 ],
 "metadata": {
  "celltoolbar": "Slideshow",
  "kernelspec": {
   "display_name": "Python 3",
   "language": "python",
   "name": "python3"
  },
  "language_info": {
   "codemirror_mode": {
    "name": "ipython",
    "version": 3
   },
   "file_extension": ".py",
   "mimetype": "text/x-python",
   "name": "python",
   "nbconvert_exporter": "python",
   "pygments_lexer": "ipython3",
   "version": "3.8.8"
  },
  "varInspector": {
   "cols": {
    "lenName": 16,
    "lenType": 16,
    "lenVar": 40
   },
   "kernels_config": {
    "python": {
     "delete_cmd_postfix": "",
     "delete_cmd_prefix": "del ",
     "library": "var_list.py",
     "varRefreshCmd": "print(var_dic_list())"
    },
    "r": {
     "delete_cmd_postfix": ") ",
     "delete_cmd_prefix": "rm(",
     "library": "var_list.r",
     "varRefreshCmd": "cat(var_dic_list()) "
    }
   },
   "types_to_exclude": [
    "module",
    "function",
    "builtin_function_or_method",
    "instance",
    "_Feature"
   ],
   "window_display": false
  }
 },
 "nbformat": 4,
 "nbformat_minor": 5
}
