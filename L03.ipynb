{
 "cells": [
  {
   "cell_type": "markdown",
   "id": "914b5180",
   "metadata": {
    "slideshow": {
     "slide_type": "slide"
    }
   },
   "source": [
    "##  <center>Lecture 3</center> \n",
    "  ##     <center>Control statements and program development</center>\n"
   ]
  },
  {
   "cell_type": "markdown",
   "id": "59b2e689",
   "metadata": {
    "slideshow": {
     "slide_type": "slide"
    }
   },
   "source": [
    "## Algorithms\n",
    "* Algorithms form the core of solving problems\n",
    "* What are the steps, and what order should we execute the steps?\n"
   ]
  },
  {
   "cell_type": "markdown",
   "id": "9fd2dc88",
   "metadata": {
    "slideshow": {
     "slide_type": "slide"
    }
   },
   "source": [
    "## Pseudocode\n",
    "* Programs often start with _pseudocode_: human-readable descriptions of an algorithm\n",
    "* Pseudocode states what the program should do"
   ]
  },
  {
   "cell_type": "markdown",
   "id": "d41e8f4e",
   "metadata": {
    "slideshow": {
     "slide_type": "slide"
    }
   },
   "source": [
    "### Pseudocode for computing the maximum value in a set <br>\n",
    "\n",
    "* Set the ```max``` to the ```first item```\n",
    "* Starting with the ```second item```, _iterate_ through the set of numbers\n",
    "    * if the ```next item``` is bigger than ```maximum```\n",
    "        * set ```max``` to the ```next item```\n",
    "* Display the ```max``` to the user"
   ]
  },
  {
   "cell_type": "markdown",
   "id": "526f2b05",
   "metadata": {
    "slideshow": {
     "slide_type": "fragment"
    }
   },
   "source": [
    "### Pseudocode that is closer to the actual code\n",
    "\n",
    "* ```max := first item```\n",
    "* ```for``` all numbers in the set\n",
    "    * if ```next item > maximum```\n",
    "        * ```max := next item```"
   ]
  },
  {
   "cell_type": "markdown",
   "id": "d19e9ae0",
   "metadata": {
    "slideshow": {
     "slide_type": "slide"
    }
   },
   "source": [
    "## Control statements\n",
    "* Computer programs execute sequentially\n",
    "* Control statements are able to alter the sequence of executions"
   ]
  },
  {
   "cell_type": "markdown",
   "id": "feb86a21",
   "metadata": {
    "slideshow": {
     "slide_type": "slide"
    }
   },
   "source": [
    "## Selection statements\n",
    "* ```if``` \n",
    "* ```if else```\n",
    "* ```if elif else```\n",
    "\n",
    "* Example:"
   ]
  },
  {
   "cell_type": "code",
   "execution_count": null,
   "id": "1ebe8962",
   "metadata": {
    "slideshow": {
     "slide_type": "fragment"
    }
   },
   "outputs": [],
   "source": [
    "x = int(input('Please enter an integer: '))\n",
    "\n",
    "if (x%2) == 0:\n",
    "    print('You entered an even number')\n",
    "else:\n",
    "    print('You entered an odd number')"
   ]
  },
  {
   "cell_type": "markdown",
   "id": "80e1ae0e",
   "metadata": {
    "slideshow": {
     "slide_type": "slide"
    }
   },
   "source": [
    "## An example of the ```if elif else``` block"
   ]
  },
  {
   "cell_type": "code",
   "execution_count": null,
   "id": "819e33e6",
   "metadata": {
    "slideshow": {
     "slide_type": "fragment"
    }
   },
   "outputs": [],
   "source": [
    "age = int(input('Please enter your age: '))\n",
    "\n",
    "if age < 19:\n",
    "    print('You are just a young buck.')\n",
    "elif age <39:\n",
    "    print('You are entering your prime.')\n",
    "else:\n",
    "    print('You are wise beyond your years.')"
   ]
  },
  {
   "cell_type": "markdown",
   "id": "c247f29b",
   "metadata": {
    "slideshow": {
     "slide_type": "slide"
    }
   },
   "source": [
    "## Expressions evaluate to either ```True``` or ```False```\n",
    "* Non-zero numbers evaluate to ```True```\n",
    "* Non-empty strings evaluate to ```True```"
   ]
  },
  {
   "cell_type": "code",
   "execution_count": null,
   "id": "48f080a0",
   "metadata": {
    "slideshow": {
     "slide_type": "fragment"
    }
   },
   "outputs": [],
   "source": [
    "x = 12\n",
    "# x = 0 # uncomment this to observe the only value that leads to the condition being False\n",
    "\n",
    "if x:\n",
    "    print('Condition is True')\n",
    "else:\n",
    "    print('Condition is False')"
   ]
  },
  {
   "cell_type": "code",
   "execution_count": null,
   "id": "34549927",
   "metadata": {
    "slideshow": {
     "slide_type": "fragment"
    }
   },
   "outputs": [],
   "source": [
    "x = 'Loquacious D'\n",
    "# x = '' # uncomment this to observe the only value that leads to the condition being False\n",
    "\n",
    "if x:\n",
    "    print('Condition is True')\n",
    "else:\n",
    "    print('Condition is False')"
   ]
  },
  {
   "cell_type": "markdown",
   "id": "136805b9",
   "metadata": {
    "slideshow": {
     "slide_type": "slide"
    }
   },
   "source": [
    "## Suite indentation\n",
    "* The block under each condition is termed a _suite_\n",
    "* Python relies on proper indentation for its syntax"
   ]
  },
  {
   "cell_type": "code",
   "execution_count": null,
   "id": "c4684d22",
   "metadata": {
    "slideshow": {
     "slide_type": "fragment"
    }
   },
   "outputs": [],
   "source": [
    "x = 36\n",
    "\n",
    "if (x%2)==0:\n",
    "    print('x is an even number \\n')\n",
    "    print('x is divisible by 2 \\n')\n",
    "print('x has no remainder when divided into two parts \\n')"
   ]
  },
  {
   "cell_type": "markdown",
   "id": "9fcc68ed",
   "metadata": {
    "slideshow": {
     "slide_type": "slide"
    }
   },
   "source": [
    "## Conditional expressions may be written in one line of code"
   ]
  },
  {
   "cell_type": "code",
   "execution_count": null,
   "id": "57176188",
   "metadata": {
    "slideshow": {
     "slide_type": "fragment"
    }
   },
   "outputs": [],
   "source": [
    "x = 36\n",
    "y = ('even' if (x%2)==0 else 'odd')\n",
    "print('y is', y)"
   ]
  },
  {
   "cell_type": "markdown",
   "id": "0a7db6cb",
   "metadata": {
    "slideshow": {
     "slide_type": "slide"
    }
   },
   "source": [
    "## Logic errors are more problematic than syntax errors\n",
    "* Consider the following _logic_ error"
   ]
  },
  {
   "cell_type": "code",
   "execution_count": null,
   "id": "70e64604",
   "metadata": {
    "slideshow": {
     "slide_type": "fragment"
    }
   },
   "outputs": [],
   "source": [
    "x == 23\n",
    "\n",
    "if (x%2)==0:\n",
    "    print('x is even')"
   ]
  },
  {
   "cell_type": "markdown",
   "id": "f148a4f5",
   "metadata": {
    "slideshow": {
     "slide_type": "fragment"
    }
   },
   "source": [
    "* Mistaking ```==``` for ```=``` is a common error \n",
    "* Q: why does the ```print``` statement execute in the above cell?"
   ]
  },
  {
   "cell_type": "markdown",
   "id": "42af5dc4",
   "metadata": {
    "slideshow": {
     "slide_type": "slide"
    }
   },
   "source": [
    "## Loops with the ```while``` statement\n",
    "* The ```while``` command allows a block of code to be executed a variable number of times"
   ]
  },
  {
   "cell_type": "markdown",
   "id": "b1c833c0",
   "metadata": {
    "slideshow": {
     "slide_type": "slide"
    }
   },
   "source": [
    "## Determine when a Netflix subscription will exceed \\$20\n",
    "* Let's assume that Netflix will raise the price by 5\\% after every year"
   ]
  },
  {
   "cell_type": "code",
   "execution_count": null,
   "id": "f52c0193",
   "metadata": {
    "slideshow": {
     "slide_type": "fragment"
    }
   },
   "outputs": [],
   "source": [
    "rate_of_increase = 0.05\n",
    "price_of_netflix = 14.99\n",
    "year = 2022\n",
    "\n",
    "while price_of_netflix < 20:\n",
    "    print('A Netflix subscription costs', price_of_netflix, 'in', year )\n",
    "    year = year + 1\n",
    "    price_of_netflix = price_of_netflix * (1+rate_of_inflation)"
   ]
  },
  {
   "cell_type": "markdown",
   "id": "4e3a2ad6",
   "metadata": {
    "slideshow": {
     "slide_type": "slide"
    }
   },
   "source": [
    "## Formatting strings to make numbers more readable"
   ]
  },
  {
   "cell_type": "code",
   "execution_count": null,
   "id": "8a3b58f5",
   "metadata": {
    "slideshow": {
     "slide_type": "fragment"
    }
   },
   "outputs": [],
   "source": [
    "rate_of_increase = 0.05\n",
    "price_of_netflix = 14.99\n",
    "year = 2022\n",
    "\n",
    "while price_of_netflix < 20:\n",
    "    print(f'A Netflix subscription costs {price_of_netflix:0.2f} in {year:0d}')\n",
    "    year = year + 1\n",
    "    price_of_netflix = price_of_netflix * (1+rate_of_inflation)"
   ]
  },
  {
   "cell_type": "markdown",
   "id": "d21dabec",
   "metadata": {
    "slideshow": {
     "slide_type": "fragment"
    }
   },
   "source": [
    "* Note the leading ```f```, the ```{}```, and the string formatting character ```0.2f``` and ```0d``` in the above"
   ]
  },
  {
   "cell_type": "markdown",
   "id": "a8578aeb",
   "metadata": {
    "slideshow": {
     "slide_type": "slide"
    }
   },
   "source": [
    "## The ```for``` loop\n",
    "* The most common type of iteration in Python\n",
    "* The ```for``` statement allows an action to be executed a _fixed_ number of times\n",
    "* NB: Python indexes from 0 (not 1)\n",
    "* The built-in ```range(x)``` function outputs all integers from ```0``` to ```x-1```"
   ]
  },
  {
   "cell_type": "markdown",
   "id": "115bde12",
   "metadata": {
    "slideshow": {
     "slide_type": "slide"
    }
   },
   "source": [
    "## Two examples of ```for``` loops:"
   ]
  },
  {
   "cell_type": "code",
   "execution_count": null,
   "id": "78079a4e",
   "metadata": {
    "slideshow": {
     "slide_type": "fragment"
    }
   },
   "outputs": [],
   "source": [
    "for i in range(6): # Note the argument of the function \n",
    "    print(i)\n",
    "print('End of the first for-loop \\n')\n",
    "\n",
    "    \n",
    "for i in [0,1,2,3,4,5]:\n",
    "    print(i)\n",
    "print('End of the second for-loop')"
   ]
  },
  {
   "cell_type": "markdown",
   "id": "6631f5e0",
   "metadata": {
    "slideshow": {
     "slide_type": "slide"
    }
   },
   "source": [
    "## Iterables and lists\n",
    "* The sequence to the right of the ```for``` keyword must be an _iterable_\n",
    "* The most common type of iterable in Python is a _list_:"
   ]
  },
  {
   "cell_type": "code",
   "execution_count": null,
   "id": "7632f17a",
   "metadata": {
    "slideshow": {
     "slide_type": "fragment"
    }
   },
   "outputs": [],
   "source": [
    "my_first_list = [-3, 2, -5, 4, 0]\n",
    "print(my_first_list, type(my_first_list))"
   ]
  },
  {
   "cell_type": "code",
   "execution_count": 172,
   "id": "75a5c678",
   "metadata": {
    "slideshow": {
     "slide_type": "fragment"
    }
   },
   "outputs": [
    {
     "name": "stdout",
     "output_type": "stream",
     "text": [
      "-3\n",
      "2\n",
      "-5\n",
      "4\n",
      "0\n"
     ]
    }
   ],
   "source": [
    "for item in my_first_list:\n",
    "    print(item)"
   ]
  },
  {
   "cell_type": "markdown",
   "id": "bca0659b",
   "metadata": {
    "slideshow": {
     "slide_type": "slide"
    }
   },
   "source": [
    "## Augmented expressions\n",
    "* Adding and multiplying a set of numbers is a very common operation\n",
    "* The operators ```+=``` and ```*=``` facilitate iterative sums and products"
   ]
  },
  {
   "cell_type": "code",
   "execution_count": 173,
   "id": "7e87313e",
   "metadata": {
    "slideshow": {
     "slide_type": "fragment"
    }
   },
   "outputs": [
    {
     "name": "stdout",
     "output_type": "stream",
     "text": [
      "15\n"
     ]
    }
   ],
   "source": [
    "running_sum = 0\n",
    "for i in [1,2,3,4,5]:\n",
    "    running_sum += i\n",
    "    \n",
    "print(running_sum)"
   ]
  },
  {
   "cell_type": "code",
   "execution_count": 174,
   "id": "30606a65",
   "metadata": {},
   "outputs": [
    {
     "name": "stdout",
     "output_type": "stream",
     "text": [
      "120\n"
     ]
    }
   ],
   "source": [
    "running_product = 1\n",
    "for i in [1,2,3,4,5]:\n",
    "    running_product *= i\n",
    "    \n",
    "print(running_product)"
   ]
  },
  {
   "cell_type": "markdown",
   "id": "b95bd28f",
   "metadata": {
    "slideshow": {
     "slide_type": "fragment"
    }
   },
   "source": [
    "* Q: why did we initialize ```running_product=1``` instead of ```running_product=0``` ?"
   ]
  },
  {
   "cell_type": "markdown",
   "id": "89fcad8c",
   "metadata": {
    "slideshow": {
     "slide_type": "slide"
    }
   },
   "source": [
    "## Algorithm development\n",
    "* A _Requirements_ statement specifies the objective of the program\n",
    "* Example: _The nth term in the Fibonacci sequence is defined by adding the previous two terms. Determine the nth term in the sequence for arbitrary n_\n",
    "* _Algorithm_\n",
    "    * Set ```F(0):=0```\n",
    "    * Set ```F(1):=1```\n",
    "    * Repeat from 2 to n:\n",
    "        * ```F(n) := F(n-1) + F(n-2)```\n",
    "    * Return ```F(n)```"
   ]
  },
  {
   "cell_type": "markdown",
   "id": "4e2096be",
   "metadata": {
    "slideshow": {
     "slide_type": "slide"
    }
   },
   "source": [
    "## Algorithms often have three stages:\n",
    "* _Initialization_ <br>\n",
    "* _Processing_ <br>\n",
    "* _Termination_ <br>"
   ]
  },
  {
   "cell_type": "code",
   "execution_count": 176,
   "id": "3c5cba3c",
   "metadata": {
    "slideshow": {
     "slide_type": "slide"
    }
   },
   "outputs": [
    {
     "name": "stdout",
     "output_type": "stream",
     "text": [
      "Please enter the index of the desired term in the Fibonacci sequence:7\n",
      "The 7 th term in the Fibonacci sequence is 13\n"
     ]
    }
   ],
   "source": [
    "# Initialization\n",
    "second_last=0 # F_0\n",
    "last=1 # F_1\n",
    "F_n = 0\n",
    "\n",
    "# Processing\n",
    "n = int(input(\"Please enter the index of the desired term in the Fibonacci sequence:\"))\n",
    "\n",
    "for i in range(2,n+1):\n",
    "    \n",
    "    # Compute the next term in the sequence\n",
    "    F_n = second_last + last\n",
    "    \n",
    "    # update variables 'last' and 'second_last' before moving on to the next iteration\n",
    "    second_last = last\n",
    "    last = F_n\n",
    "    \n",
    "    \n",
    "# Termination\n",
    "print('The', n, 'th term in the Fibonacci sequence is', F_n)\n"
   ]
  },
  {
   "cell_type": "markdown",
   "id": "a601ec8f",
   "metadata": {
    "slideshow": {
     "slide_type": "slide"
    }
   },
   "source": [
    "## Algorithm _refinement_\n",
    "* When designing algorithms, it is good practice to sketch out the steps in several stages\n",
    "* The level of detail increases as you move to the next stage"
   ]
  },
  {
   "cell_type": "markdown",
   "id": "1b4aced8",
   "metadata": {
    "slideshow": {
     "slide_type": "slide"
    }
   },
   "source": [
    "## Fibonacci sequence: first refinement\n",
    "* Initialize sequence\n",
    "* Input the index of desired term in the sequence\n",
    "* Compute the desired term in the sequence\n",
    "* Output the desired term in the sequence"
   ]
  },
  {
   "cell_type": "markdown",
   "id": "dcbf510c",
   "metadata": {
    "slideshow": {
     "slide_type": "slide"
    }
   },
   "source": [
    "## Fibonacci sequence: second refinement\n",
    "* Initialize ```second_last:=0```\n",
    "* Initialize ```last:=1```\n",
    "* Initialize ```Fn:=0```\n",
    "* Input ```index```\n",
    "* Repeat from ```2``` to ```index```\n",
    "    * Compute ```Fn:=second_last + last```\n",
    "    * Update ```second_last:=last```\n",
    "    * Update ```last:=Fn```  \n",
    "* Display ```Fn```"
   ]
  },
  {
   "cell_type": "markdown",
   "id": "b2236ad3",
   "metadata": {
    "slideshow": {
     "slide_type": "slide"
    }
   },
   "source": [
    "## The ```break``` and ```continue``` statements\n",
    "* Python exits a ```while``` or ```for``` loop if it encounters a ```break``` statement\n",
    "* Python moves to the next iteration of the loop if it encounters a ```continue``` statement"
   ]
  },
  {
   "cell_type": "markdown",
   "id": "05cb9934",
   "metadata": {
    "slideshow": {
     "slide_type": "fragment"
    }
   },
   "source": [
    "## Example of the ```break``` statement"
   ]
  },
  {
   "cell_type": "code",
   "execution_count": 177,
   "id": "74f19b75",
   "metadata": {
    "slideshow": {
     "slide_type": "fragment"
    }
   },
   "outputs": [
    {
     "name": "stdout",
     "output_type": "stream",
     "text": [
      "Enter a number to add. Enter -1 to stop12\n",
      "Enter a number to add. Enter -1 to stop12\n",
      "Enter a number to add. Enter -1 to stop12\n",
      "Enter a number to add. Enter -1 to stop12\n",
      "Enter a number to add. Enter -1 to stop-1\n",
      "The sum of the entered numbers is 48\n"
     ]
    }
   ],
   "source": [
    "running_sum = 0\n",
    "for i in range(1000000):\n",
    "    num = int(input('Enter a number to add. Enter -1 to stop'))\n",
    "    if num!=-1:\n",
    "        running_sum += num\n",
    "    else:\n",
    "        break\n",
    "\n",
    "print('The sum of the entered numbers is', running_sum)"
   ]
  },
  {
   "cell_type": "markdown",
   "id": "957acda3",
   "metadata": {
    "slideshow": {
     "slide_type": "slide"
    }
   },
   "source": [
    "## Example of the ```continue``` statement\n",
    "* The following program will only add _positive_ numbers"
   ]
  },
  {
   "cell_type": "code",
   "execution_count": 178,
   "id": "76b16c45",
   "metadata": {},
   "outputs": [
    {
     "name": "stdout",
     "output_type": "stream",
     "text": [
      "Enter a number to add. Enter 0 to stop12\n",
      "Enter a number to add. Enter 0 to stop12\n",
      "Enter a number to add. Enter 0 to stop12\n",
      "Enter a number to add. Enter 0 to stop-30\n",
      "Enter a number to add. Enter 0 to stop12\n",
      "Enter a number to add. Enter 0 to stop0\n",
      "The sum of the positive entered numbers is 48\n"
     ]
    }
   ],
   "source": [
    "running_sum = 0\n",
    "for i in range(1000000):\n",
    "    num = int(input('Enter a number to add. Enter 0 to stop'))\n",
    "    if num<0:\n",
    "        continue\n",
    "    elif num==0:\n",
    "        break\n",
    "    else:\n",
    "        running_sum += num\n",
    "\n",
    "print('The sum of the positive entered numbers is', running_sum)"
   ]
  },
  {
   "cell_type": "markdown",
   "id": "3140e1d0",
   "metadata": {
    "slideshow": {
     "slide_type": "slide"
    }
   },
   "source": [
    "## Boolean operators\n",
    "* It is often required to check for _multiple_ conditions\n",
    "* This is accomplished in Python with the ```and```, ```or```, and ```not``` operators\n",
    "* ```and``` is a binary operator that outputs ```True``` only if _both_ inputs are ```True```\n",
    "* ```or``` is a binary operator that outputs ```True``` if at least one of the inputs ```True```\n",
    "* ```not``` is a unary operators (one input) that negates the input\n",
    "    * ```True``` becomes ```False``` and ```False``` becomes ```True```"
   ]
  },
  {
   "cell_type": "markdown",
   "id": "c82b7b32",
   "metadata": {
    "slideshow": {
     "slide_type": "slide"
    }
   },
   "source": [
    "## Example of ```and``` operator"
   ]
  },
  {
   "cell_type": "code",
   "execution_count": 179,
   "id": "41bf1870",
   "metadata": {
    "slideshow": {
     "slide_type": "fragment"
    }
   },
   "outputs": [
    {
     "name": "stdout",
     "output_type": "stream",
     "text": [
      "x is divisible by 2 and 3\n"
     ]
    }
   ],
   "source": [
    "x = 36\n",
    "\n",
    "if ((x%2)==0) and ((x%3)==0):\n",
    "    print('x is divisible by 2 and 3')"
   ]
  },
  {
   "cell_type": "markdown",
   "id": "4a61eb46",
   "metadata": {
    "slideshow": {
     "slide_type": "slide"
    }
   },
   "source": [
    "## Example of ```or``` operator"
   ]
  },
  {
   "cell_type": "code",
   "execution_count": 180,
   "id": "9af6f62c",
   "metadata": {
    "slideshow": {
     "slide_type": "fragment"
    }
   },
   "outputs": [
    {
     "name": "stdout",
     "output_type": "stream",
     "text": [
      "x is divisible by 2 or 3\n"
     ]
    }
   ],
   "source": [
    "x = 34\n",
    "\n",
    "if ((x%2)==0) or ((x%3)==0):\n",
    "    print('x is divisible by 2 or 3')"
   ]
  },
  {
   "cell_type": "markdown",
   "id": "b283b143",
   "metadata": {
    "slideshow": {
     "slide_type": "slide"
    }
   },
   "source": [
    "## Computing measures of central tendency\n",
    "* ```mean```: average of a set of numbers\n",
    "* ```median```: the 'middle' number in a set\n",
    "* ```mode```: the most frequent number in a set"
   ]
  },
  {
   "cell_type": "code",
   "execution_count": 182,
   "id": "4aa960a3",
   "metadata": {
    "slideshow": {
     "slide_type": "fragment"
    }
   },
   "outputs": [
    {
     "name": "stdout",
     "output_type": "stream",
     "text": [
      "The mean of the data is: 76.7\n",
      "The median of the data is: 84.0\n",
      "The mode of the data is: 84\n"
     ]
    }
   ],
   "source": [
    "import statistics\n",
    "\n",
    "exam_scores = [84, 67, 84, 90, 41, 73, 89, 84, 59, 96]\n",
    "print(\"The mean of the data is:\", statistics.mean(exam_scores ))\n",
    "print(\"The median of the data is:\", statistics.median(exam_scores ))\n",
    "print(\"The mode of the data is:\", statistics.mode(exam_scores ))"
   ]
  },
  {
   "cell_type": "markdown",
   "id": "e3a311dc",
   "metadata": {
    "slideshow": {
     "slide_type": "fragment"
    }
   },
   "source": [
    "Q: What does it mean when the mean and median of a set of numbers differ greatly?"
   ]
  }
 ],
 "metadata": {
  "celltoolbar": "Slideshow",
  "kernelspec": {
   "display_name": "Python 3",
   "language": "python",
   "name": "python3"
  },
  "language_info": {
   "codemirror_mode": {
    "name": "ipython",
    "version": 3
   },
   "file_extension": ".py",
   "mimetype": "text/x-python",
   "name": "python",
   "nbconvert_exporter": "python",
   "pygments_lexer": "ipython3",
   "version": "3.8.8"
  },
  "varInspector": {
   "cols": {
    "lenName": 16,
    "lenType": 16,
    "lenVar": 40
   },
   "kernels_config": {
    "python": {
     "delete_cmd_postfix": "",
     "delete_cmd_prefix": "del ",
     "library": "var_list.py",
     "varRefreshCmd": "print(var_dic_list())"
    },
    "r": {
     "delete_cmd_postfix": ") ",
     "delete_cmd_prefix": "rm(",
     "library": "var_list.r",
     "varRefreshCmd": "cat(var_dic_list()) "
    }
   },
   "types_to_exclude": [
    "module",
    "function",
    "builtin_function_or_method",
    "instance",
    "_Feature"
   ],
   "window_display": false
  }
 },
 "nbformat": 4,
 "nbformat_minor": 5
}
