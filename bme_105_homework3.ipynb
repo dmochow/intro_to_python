{
 "cells": [
  {
   "cell_type": "markdown",
   "id": "d96e74fb",
   "metadata": {},
   "source": [
    "#### BME 105\n",
    "#### Spring 2023\n",
    "#### Homework Assignment 3"
   ]
  },
  {
   "cell_type": "markdown",
   "id": "77b93337",
   "metadata": {},
   "source": [
    "In this notebook, you will write a simple algorithm for determining whether a user-provided integer is _prime or composite_. \n",
    "\n",
    "The algorithm that you will implement is as follows:\n",
    "\n",
    "* Prompt the user for a positive integer\n",
    "\n",
    "* Store the supplied integer into variable ```n```\n",
    "\n",
    "* for all potential factors from 2 to sqrt(n)\n",
    "    * check if n is divisible by the factor\n",
    "    * if yes, report to the user that n is not prime\n",
    "    * if not, continue looping\n",
    "    * if all possible factors have been checked and none are divisible, report to the user that the number is prime\n",
    "    \n",
    "The ```math``` library will be needed for this assignment and is imported below. "
   ]
  },
  {
   "cell_type": "code",
   "execution_count": 1,
   "id": "cb51ee66",
   "metadata": {},
   "outputs": [],
   "source": [
    "import math"
   ]
  },
  {
   "cell_type": "markdown",
   "id": "542bd752",
   "metadata": {},
   "source": [
    "(1) In the next cell, prompt the user to enter a positive integer. "
   ]
  },
  {
   "cell_type": "code",
   "execution_count": null,
   "id": "bd6b18dd",
   "metadata": {},
   "outputs": [],
   "source": []
  },
  {
   "cell_type": "markdown",
   "id": "add2c43c",
   "metadata": {},
   "source": [
    "(2) In the next cell, determine the largest possible factor that you will test as the _ceiling_ of the square root of ```n```. The ceiling of a number ```x``` is the smallest integer that is greater than ```x```. _Hint:_ you will need to make use of the function ```math.ceil()```. Report the maximum factor that you need to check to the user. "
   ]
  },
  {
   "cell_type": "code",
   "execution_count": null,
   "id": "728b9c5b",
   "metadata": {},
   "outputs": [],
   "source": []
  },
  {
   "cell_type": "markdown",
   "id": "0b516b87",
   "metadata": {},
   "source": [
    "(3) In the next cell, write the main loop that implements the algorithm described in the instructions. After exiting the loop, report to the user whether ```n``` is prime. "
   ]
  },
  {
   "cell_type": "code",
   "execution_count": null,
   "id": "b83c4c71",
   "metadata": {},
   "outputs": [],
   "source": []
  },
  {
   "cell_type": "markdown",
   "id": "374e37f8",
   "metadata": {},
   "source": [
    "_Bonus:_ what is the largest prime number that you can come up with? You can use your program to verify your answer and then write your answer as a comment in the cell below. "
   ]
  },
  {
   "cell_type": "code",
   "execution_count": null,
   "id": "f7933ad2",
   "metadata": {},
   "outputs": [],
   "source": []
  }
 ],
 "metadata": {
  "kernelspec": {
   "display_name": "Python 3 (ipykernel)",
   "language": "python",
   "name": "python3"
  },
  "language_info": {
   "codemirror_mode": {
    "name": "ipython",
    "version": 3
   },
   "file_extension": ".py",
   "mimetype": "text/x-python",
   "name": "python",
   "nbconvert_exporter": "python",
   "pygments_lexer": "ipython3",
   "version": "3.10.7"
  }
 },
 "nbformat": 4,
 "nbformat_minor": 5
}
