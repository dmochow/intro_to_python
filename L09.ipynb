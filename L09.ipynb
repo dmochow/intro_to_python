{
 "cells": [
  {
   "cell_type": "markdown",
   "id": "098a0dd9",
   "metadata": {
    "slideshow": {
     "slide_type": "slide"
    }
   },
   "source": [
    "## <center> Lecture 9 </center> ##\n",
    "## <center> Files and exceptions </center> ##"
   ]
  },
  {
   "cell_type": "markdown",
   "id": "622a33ee",
   "metadata": {
    "slideshow": {
     "slide_type": "slide"
    }
   },
   "source": [
    "# Files are _persistent_ data\n",
    "* When you create a variable in your code, such as:"
   ]
  },
  {
   "cell_type": "code",
   "execution_count": 1,
   "id": "c6cc3cef",
   "metadata": {
    "slideshow": {
     "slide_type": "fragment"
    }
   },
   "outputs": [],
   "source": [
    "fibonacci = [0, 1, 1, 2, 3, 5, 8]"
   ]
  },
  {
   "cell_type": "markdown",
   "id": "24bcc599",
   "metadata": {
    "slideshow": {
     "slide_type": "fragment"
    }
   },
   "source": [
    "* The array ```fibonacci``` exists only during the life of your program\n",
    "* Once the program terminates, ```fibonacci``` disappears\n",
    "* If we want our programs to store data for future use, we need to save our data to a file\n",
    "    * This is known as _persistent_ data, for obvious reasons"
   ]
  },
  {
   "cell_type": "markdown",
   "id": "5c7a40ec",
   "metadata": {
    "slideshow": {
     "slide_type": "slide"
    }
   },
   "source": [
    "## Files are sequences of bytes \n",
    "* Each byte (or set of bytes) in the sequence represents a character, or a number, or some other object\n",
    "* Many files have a special identifier to mark the end-of-file ```EOF```"
   ]
  },
  {
   "cell_type": "markdown",
   "id": "6de4f6d7",
   "metadata": {
    "slideshow": {
     "slide_type": "slide"
    }
   },
   "source": [
    "## Writing data to a text file\n",
    "* Python makes it easy for your program to generate text files\n",
    "* For example, we can write one line of a text file per loop iteration\n",
    "* In the snippet below, we ask the user to provide their information, and then write the supplied into a file ```sample_data.txt```, which will be created in the _current directory_"
   ]
  },
  {
   "cell_type": "code",
   "execution_count": null,
   "id": "d0944a9b",
   "metadata": {
    "slideshow": {
     "slide_type": "slide"
    }
   },
   "outputs": [
    {
     "name": "stdout",
     "output_type": "stream",
     "text": [
      "Please enter your name: Jacek\n",
      "Please enter your age :43\n",
      "Please enter your Twitter handle: jdmochow\n"
     ]
    }
   ],
   "source": [
    "with open('sample_data.txt', mode='w') as data:\n",
    "    for i in range(3):\n",
    "        name = input(\"Please enter your name: \")\n",
    "        age = input(\"Please enter your age :\")\n",
    "        twitter = input(\"Please enter your Twitter handle: \")\n",
    "        data.write(name + '\\t' + age + '\\t' + twitter + '\\n')"
   ]
  },
  {
   "cell_type": "markdown",
   "id": "76ca0833",
   "metadata": {
    "slideshow": {
     "slide_type": "fragment"
    }
   },
   "source": [
    "* After execution, a file should appear in the current directory (make sure that it is there)"
   ]
  },
  {
   "cell_type": "markdown",
   "id": "d4f6d135",
   "metadata": {
    "slideshow": {
     "slide_type": "slide"
    }
   },
   "source": [
    "* ```with``` is a Python keyword that allows you to read and write from files without other programs simultaneously trying to access the same file\n",
    "* ```open('sample_data.txt', mode='w')``` creates a new file called ```sample_data.txt``` in ```write``` mode\n",
    "* ```as data``` creates an object called ```data``` that you can use to write data to our text file"
   ]
  },
  {
   "cell_type": "markdown",
   "id": "e6849a73",
   "metadata": {
    "slideshow": {
     "slide_type": "fragment"
    }
   },
   "source": [
    "* Inside the loop, the call to ```write``` sends a concatenated string: <br>\n",
    "```name + '\\t' + age + '\\t' + twitter + '\\n'```\n",
    "to the file pointed to by ```data```\n",
    "* In other words, we are appending the character sequence to our text file\n",
    "* Recall that ```\\t``` produces a tab and ```\\n``` creates a new line"
   ]
  },
  {
   "cell_type": "markdown",
   "id": "2c9249d3",
   "metadata": {
    "slideshow": {
     "slide_type": "slide"
    }
   },
   "source": [
    "## Reading a text file\n",
    "* A very similar procedure may be used to now read in the contents of the file that we just created\n",
    "* Let's create and display a three-column table (\"Name\", \"Age\", \"Twitter\") from ```sample_data.txt```:"
   ]
  },
  {
   "cell_type": "code",
   "execution_count": null,
   "id": "2b40a50f",
   "metadata": {
    "slideshow": {
     "slide_type": "fragment"
    }
   },
   "outputs": [],
   "source": [
    "with open('sample_data.txt', mode='r') as data:\n",
    "    print(f'{\"NAME\":<10}{\"AGE\":3s}{\"TWITTER\":>30}')\n",
    "    for line in data:\n",
    "        name, age, twitter = line.split()\n",
    "        print(f'{name:<10}{age:3s}{twitter:>30}')"
   ]
  },
  {
   "cell_type": "markdown",
   "id": "425faef3",
   "metadata": {
    "slideshow": {
     "slide_type": "fragment"
    }
   },
   "source": [
    "* ```mode='r'``` opens the file ```sample_data.txt``` in _read-only_ mode\n",
    "* The formatted string ```{\"NAME\":<10}``` displays ```NAME``` _left-justified_ with a field width of 10\n",
    "* The formatted string ```{\"TWITTER\":>30}``` displays ```TWITTER``` _right-justified_ with a field width of 30"
   ]
  },
  {
   "cell_type": "markdown",
   "id": "78442941",
   "metadata": {
    "slideshow": {
     "slide_type": "fragment"
    }
   },
   "source": [
    "* Inside the loop, ```for line in data:``` iterates through the object ```data```, one line per iteration\n",
    "* ```name, age, twitter = line.split()``` parses the current line of the text file into three _tokens_\n",
    "* ```print(f'{name:<10}{age:3s}{twitter:>30}')``` writes the tokens into our table with the correct formatting"
   ]
  },
  {
   "cell_type": "markdown",
   "id": "638191e0",
   "metadata": {
    "slideshow": {
     "slide_type": "slide"
    }
   },
   "source": [
    "## Renaming files with the ```os``` library\n",
    "* The built-in ```os``` library allows you to perform operating system type operations in your Python program\n",
    "* Let's rename the file that we just created:"
   ]
  },
  {
   "cell_type": "code",
   "execution_count": null,
   "id": "f675e869",
   "metadata": {
    "slideshow": {
     "slide_type": "fragment"
    }
   },
   "outputs": [],
   "source": [
    "import os\n",
    "os.rename(\"sample_data.txt\", \"our_sample_data.txt\")"
   ]
  },
  {
   "cell_type": "markdown",
   "id": "0bc54f46",
   "metadata": {
    "slideshow": {
     "slide_type": "fragment"
    }
   },
   "source": [
    "* ```sample_data.txt``` should now appear as ```our_sample_data.txt``` in your current folder\n",
    "* The ```os``` library also provides other functions, such as file deletion with ```os.remove```"
   ]
  },
  {
   "cell_type": "markdown",
   "id": "1d6f7153",
   "metadata": {
    "slideshow": {
     "slide_type": "slide"
    }
   },
   "source": [
    "## Working with JSON files\n",
    "* Nowadays, most data is created and transmitted over the Internet\n",
    "* The \"JSON\" file format has become a popular standard for transmitting data over the web\n",
    "* Much like dictionaries, ```.json``` files assume a key-value structure\n",
    "* You can think of a .json file as Python dictionary"
   ]
  },
  {
   "cell_type": "markdown",
   "id": "e8faa5bc",
   "metadata": {
    "slideshow": {
     "slide_type": "slide"
    }
   },
   "source": [
    "## JSON files store comma separated property _names_ and _values_\n",
    "* We will illustrate the JSON format with an example\n",
    "* Let's create a .json file containing the 5 most popular Twitter accounts, according to [Wikipedia](https://en.wikipedia.org/wiki/List_of_most-followed_Twitter_accounts)"
   ]
  },
  {
   "cell_type": "markdown",
   "id": "74333453",
   "metadata": {
    "slideshow": {
     "slide_type": "fragment"
    }
   },
   "source": [
    "* Let's first make a _dictionary_ containing the data:"
   ]
  },
  {
   "cell_type": "code",
   "execution_count": null,
   "id": "0cdcb292",
   "metadata": {
    "slideshow": {
     "slide_type": "fragment"
    }
   },
   "outputs": [],
   "source": [
    "twitter_dict = {'twitter': [ \n",
    "    {'name': 'Barack Obama', 'handle':'@BarackObama', 'num_followers':133} , \n",
    "    {'name': 'Elon Musk', 'handle':'@elonmusk', 'num_followers':124} , \n",
    "    {'name': 'Justin Bieber', 'handle':'@justinbieber', 'num_followers':113.6} ,      \n",
    "    {'name': 'Katy Perry', 'handle':'@katyperry', 'num_followers':108.7} ,\n",
    "    {'name': 'Rihanna', 'handle':'@rihanna', 'num_followers':107.7}  \n",
    "]}"
   ]
  },
  {
   "cell_type": "markdown",
   "id": "55e8ccdf",
   "metadata": {
    "slideshow": {
     "slide_type": "slide"
    }
   },
   "source": [
    "* ```twitter_dict``` is a dictionary with _one_ key (```twitter```)\n",
    "* The value of this one key is a _list_\n",
    "* Each element of this list is a _dictionary_\n",
    "    * Each of these dictionaries has the same three keys: ```name```, ```handle```, and ```num_followers```"
   ]
  },
  {
   "cell_type": "markdown",
   "id": "b4f6ef22",
   "metadata": {
    "slideshow": {
     "slide_type": "fragment"
    }
   },
   "source": [
    "* To see one of our records, we can use the following syntax:"
   ]
  },
  {
   "cell_type": "code",
   "execution_count": null,
   "id": "4556db74",
   "metadata": {
    "slideshow": {
     "slide_type": "fragment"
    }
   },
   "outputs": [],
   "source": [
    "twitter_dict['twitter'][2]['handle']"
   ]
  },
  {
   "cell_type": "markdown",
   "id": "30a65e96",
   "metadata": {
    "slideshow": {
     "slide_type": "fragment"
    }
   },
   "source": [
    "* ```twitter_dict['twitter']``` retrieves our list\n",
    "* ```[2]``` is the third element (dictionary) of the list\n",
    "* ```'handle'``` is the value of the key ```handle``` in the third dictionary"
   ]
  },
  {
   "cell_type": "markdown",
   "id": "84f8b82c",
   "metadata": {
    "slideshow": {
     "slide_type": "slide"
    }
   },
   "source": [
    "## Creating a JSON file in Python\n",
    "* The following standard code snippet creates a ```.json``` file from our nested dictionary:"
   ]
  },
  {
   "cell_type": "code",
   "execution_count": null,
   "id": "28b4c3b1",
   "metadata": {
    "slideshow": {
     "slide_type": "fragment"
    }
   },
   "outputs": [],
   "source": [
    "import json\n",
    "with open('twitter_top5.json', 'w') as twitter:\n",
    "    json.dump(twitter_dict, twitter)"
   ]
  },
  {
   "cell_type": "markdown",
   "id": "e981340d",
   "metadata": {
    "slideshow": {
     "slide_type": "fragment"
    }
   },
   "source": [
    "* The file ```twitter_top5.json``` should now appear in your current directory\n",
    "* You can open the file in Mozilla Firefox to see the contents in a pretty format"
   ]
  },
  {
   "cell_type": "markdown",
   "id": "d0f92bf1",
   "metadata": {
    "slideshow": {
     "slide_type": "slide"
    }
   },
   "source": [
    "## Reading in a JSON file in Python\n",
    "* We can also read in the contents of a JSON file into our Python workspace\n",
    "* The following standard code snippet creates a dictionary from ```twitter_top5.json```:"
   ]
  },
  {
   "cell_type": "code",
   "execution_count": null,
   "id": "6560ff6b",
   "metadata": {
    "slideshow": {
     "slide_type": "fragment"
    }
   },
   "outputs": [],
   "source": [
    "with open('twitter_top5.json', 'r') as twitter:\n",
    "    twitter_json = json.load(twitter)"
   ]
  },
  {
   "cell_type": "markdown",
   "id": "69826619",
   "metadata": {
    "slideshow": {
     "slide_type": "slide"
    }
   },
   "source": [
    "* Let's examine the contents of the dictionary variable just created:"
   ]
  },
  {
   "cell_type": "code",
   "execution_count": null,
   "id": "7ed82315",
   "metadata": {
    "slideshow": {
     "slide_type": "fragment"
    }
   },
   "outputs": [],
   "source": [
    "type(twitter_json), twitter_json.keys()"
   ]
  },
  {
   "cell_type": "markdown",
   "id": "30cea710",
   "metadata": {
    "slideshow": {
     "slide_type": "fragment"
    }
   },
   "source": [
    "* ```twitter_json``` is a dictionary with a single key ```twitter```"
   ]
  },
  {
   "cell_type": "markdown",
   "id": "44a1997f",
   "metadata": {
    "slideshow": {
     "slide_type": "slide"
    }
   },
   "source": [
    "* Let's examine the value of ```twitter_json['twitter']```:"
   ]
  },
  {
   "cell_type": "code",
   "execution_count": null,
   "id": "d9385735",
   "metadata": {
    "slideshow": {
     "slide_type": "fragment"
    }
   },
   "outputs": [],
   "source": [
    "twitter_json['twitter']"
   ]
  },
  {
   "cell_type": "markdown",
   "id": "f0ddd77e",
   "metadata": {
    "slideshow": {
     "slide_type": "slide"
    }
   },
   "source": [
    "* Let's obtain the number of followers that the Biebs has:"
   ]
  },
  {
   "cell_type": "code",
   "execution_count": null,
   "id": "c0111ec1",
   "metadata": {
    "slideshow": {
     "slide_type": "fragment"
    }
   },
   "outputs": [],
   "source": [
    "twitter_json['twitter'][2]['num_followers']"
   ]
  },
  {
   "cell_type": "markdown",
   "id": "bae98e52",
   "metadata": {
    "slideshow": {
     "slide_type": "slide"
    }
   },
   "source": [
    "## Exceptions\n",
    "* When a program encounters something that it was not expecting, it \"throws\" an \"exception\"\n",
    "* One can think of an _exception_ as a computer hissy fit\n",
    "* The programmer's job is to anticipate possible exceptions, and to _handle_ these with appropriate actions\n",
    "* To enable this, Python provides the ```try``` and ```except``` commands"
   ]
  },
  {
   "cell_type": "markdown",
   "id": "0f0119eb",
   "metadata": {
    "slideshow": {
     "slide_type": "slide"
    }
   },
   "source": [
    "## Demonstrating an exception\n",
    "* A common exception occurs when you try to read in a file that does not exist\n",
    "* To demonstrate this, consider the following snippet:"
   ]
  },
  {
   "cell_type": "code",
   "execution_count": null,
   "id": "7071f501",
   "metadata": {
    "slideshow": {
     "slide_type": "fragment"
    }
   },
   "outputs": [],
   "source": [
    "with open('twitter_top6.json', 'r') as twitter:\n",
    "    twitter_json = json.load(twitter)"
   ]
  },
  {
   "cell_type": "markdown",
   "id": "64fc8b6a",
   "metadata": {
    "slideshow": {
     "slide_type": "fragment"
    }
   },
   "source": [
    "* The exception above is the ```FileNotFoundError```"
   ]
  },
  {
   "cell_type": "markdown",
   "id": "661beec8",
   "metadata": {
    "slideshow": {
     "slide_type": "slide"
    }
   },
   "source": [
    "* How should we proceed when the source of our data is missing?\n",
    "* One possibility is to simply report the error to the user\n",
    "* We can encapsulate this logic in a ```try``` ```except``` block"
   ]
  },
  {
   "cell_type": "code",
   "execution_count": null,
   "id": "e7d5a868",
   "metadata": {
    "slideshow": {
     "slide_type": "fragment"
    }
   },
   "outputs": [],
   "source": [
    "try:\n",
    "    with open('twitter_top6.json', 'r') as twitter:\n",
    "        twitter_json = json.load(twitter)\n",
    "except FileNotFoundError:\n",
    "    print('Bruh, the provided file does not exist!')"
   ]
  },
  {
   "cell_type": "markdown",
   "id": "ad6090b6",
   "metadata": {
    "slideshow": {
     "slide_type": "fragment"
    }
   },
   "source": [
    "* ```try``` tells Python that we are about to execute code that _may_ cause problems\n",
    "* ```except FileNotFoundError``` provides Python with the code that it should run _if_ the program throws a fit\n",
    "* In this case, we just issue a ```print``` statement, allowing the user to correct the spelling of the filename"
   ]
  },
  {
   "cell_type": "markdown",
   "id": "f5ab0f90",
   "metadata": {
    "slideshow": {
     "slide_type": "slide"
    }
   },
   "source": [
    "## The optional ```else``` block executes regardless of whether an exception was thrown\n",
    "* In some cases, we may want to execute a piece of code regardless of whether the program encountered an error\n",
    "* For example, we may want issue another message to the user:"
   ]
  },
  {
   "cell_type": "code",
   "execution_count": null,
   "id": "c0fe02b0",
   "metadata": {
    "slideshow": {
     "slide_type": "fragment"
    }
   },
   "outputs": [],
   "source": [
    "try:\n",
    "    with open('twitter_top6.json', 'r') as twitter:\n",
    "        twitter_json = json.load(twitter)\n",
    "except FileNotFoundError:\n",
    "    print('Bruh, the file does not exist!')\n",
    "else:\n",
    "    print('Thank you for using our app!')"
   ]
  },
  {
   "cell_type": "markdown",
   "id": "3ba15fd4",
   "metadata": {
    "slideshow": {
     "slide_type": "slide"
    }
   },
   "source": [
    "* Now let's run the snippet but with the _correct_ spelling of the filename:"
   ]
  },
  {
   "cell_type": "code",
   "execution_count": null,
   "id": "dfe72781",
   "metadata": {
    "slideshow": {
     "slide_type": "fragment"
    }
   },
   "outputs": [],
   "source": [
    "try:\n",
    "    with open('twitter_top5.json', 'r') as twitter:\n",
    "        twitter_json = json.load(twitter)\n",
    "except FileNotFoundError:\n",
    "    print('Bruh, the file does not exist!')\n",
    "else:\n",
    "    print('Thank you for using our app!')"
   ]
  },
  {
   "cell_type": "markdown",
   "id": "59ddb5a0",
   "metadata": {
    "slideshow": {
     "slide_type": "fragment"
    }
   },
   "source": [
    "* Notice that the thank you message was issued in both cases"
   ]
  }
 ],
 "metadata": {
  "celltoolbar": "Slideshow",
  "kernelspec": {
   "display_name": "Python 3 (ipykernel)",
   "language": "python",
   "name": "python3"
  },
  "language_info": {
   "codemirror_mode": {
    "name": "ipython",
    "version": 3
   },
   "file_extension": ".py",
   "mimetype": "text/x-python",
   "name": "python",
   "nbconvert_exporter": "python",
   "pygments_lexer": "ipython3",
   "version": "3.10.7"
  }
 },
 "nbformat": 4,
 "nbformat_minor": 5
}
