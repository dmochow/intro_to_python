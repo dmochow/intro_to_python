{
 "cells": [
  {
   "cell_type": "markdown",
   "id": "6ab1889d",
   "metadata": {
    "slideshow": {
     "slide_type": "slide"
    }
   },
   "source": [
    "## <center> Lecture 5 </center>\n",
    "## <center> Dictionaries and Sets </center>"
   ]
  },
  {
   "cell_type": "markdown",
   "id": "2ef64ad9",
   "metadata": {
    "slideshow": {
     "slide_type": "slide"
    }
   },
   "source": [
    "## Dictionaries\n",
    "* Dictionaries are a popular data structure in Python\n",
    "* Dictionaries hold _unordered_, _key-value_ pairs\n",
    "* Why are they called \"dictionaries\"?"
   ]
  },
  {
   "cell_type": "markdown",
   "id": "69f79cd4",
   "metadata": {
    "slideshow": {
     "slide_type": "fragment"
    }
   },
   "source": [
    "* Consider a conventional dictionary, and let's look up a common word: <br> <br>\n",
    "_Loquacious_: tending to talk a great deal; talkative."
   ]
  },
  {
   "cell_type": "markdown",
   "id": "28d3d5b5",
   "metadata": {
    "slideshow": {
     "slide_type": "fragment"
    }
   },
   "source": [
    "* In the above, \"Loquacious\" is the queried word, and \"tending to talk a great deal; talkative\" is the returned meaning"
   ]
  },
  {
   "cell_type": "markdown",
   "id": "a113e457",
   "metadata": {
    "slideshow": {
     "slide_type": "fragment"
    }
   },
   "source": [
    "* Dictionaries in Python work the same way!"
   ]
  },
  {
   "cell_type": "markdown",
   "id": "dfb8d15f",
   "metadata": {
    "slideshow": {
     "slide_type": "slide"
    }
   },
   "source": [
    "# Demonstrating a simple dictionary\n",
    "* Let's create a dictionary to store our favorite irrational numbers:"
   ]
  },
  {
   "cell_type": "code",
   "execution_count": 10,
   "id": "5c39b977",
   "metadata": {
    "slideshow": {
     "slide_type": "fragment"
    }
   },
   "outputs": [],
   "source": [
    "my_first_dictionary = {'pi': 3.1416, 'exp': 2.7183}"
   ]
  },
  {
   "cell_type": "markdown",
   "id": "c5558c3f",
   "metadata": {
    "slideshow": {
     "slide_type": "fragment"
    }
   },
   "source": [
    "* Now let's retrieve these numbers:"
   ]
  },
  {
   "cell_type": "code",
   "execution_count": 12,
   "id": "5d23c0aa",
   "metadata": {
    "slideshow": {
     "slide_type": "fragment"
    }
   },
   "outputs": [
    {
     "data": {
      "text/plain": [
       "3.1416"
      ]
     },
     "execution_count": 12,
     "metadata": {},
     "output_type": "execute_result"
    }
   ],
   "source": [
    "my_first_dictionary['pi']"
   ]
  },
  {
   "cell_type": "code",
   "execution_count": 13,
   "id": "c0b490b3",
   "metadata": {
    "slideshow": {
     "slide_type": "slide"
    }
   },
   "outputs": [
    {
     "data": {
      "text/plain": [
       "2.7183"
      ]
     },
     "execution_count": 13,
     "metadata": {},
     "output_type": "execute_result"
    }
   ],
   "source": [
    "my_first_dictionary['exp']"
   ]
  },
  {
   "cell_type": "markdown",
   "id": "a50d699f",
   "metadata": {
    "slideshow": {
     "slide_type": "fragment"
    }
   },
   "source": [
    "* The brace brackets ```{}``` tell Python that we are creating a dictionary\n",
    "* The strings ```'pi'``` and ```'exp'``` are called _keys_\n",
    "* The floats ```3.1416``` and ```2.7183``` are the corresponding _values_\n",
    "* Note that we access dictionary values using ```[]```, just like a list!"
   ]
  },
  {
   "cell_type": "markdown",
   "id": "36b1175f",
   "metadata": {
    "slideshow": {
     "slide_type": "slide"
    }
   },
   "source": [
    "## Dictionary rules\n",
    "* Keys must be immutable: strings, integers, tuples\n",
    "* Keys must be unique\n",
    "* Here are two valid dictionaries:"
   ]
  },
  {
   "cell_type": "code",
   "execution_count": 14,
   "id": "5a3981fb",
   "metadata": {
    "slideshow": {
     "slide_type": "fragment"
    }
   },
   "outputs": [],
   "source": [
    "dd = {1:'one', 2:'two', 3:'three'}"
   ]
  },
  {
   "cell_type": "code",
   "execution_count": 20,
   "id": "e64b8e6d",
   "metadata": {
    "slideshow": {
     "slide_type": "fragment"
    }
   },
   "outputs": [
    {
     "data": {
      "text/plain": [
       "'two'"
      ]
     },
     "execution_count": 20,
     "metadata": {},
     "output_type": "execute_result"
    }
   ],
   "source": [
    "dd[2]"
   ]
  },
  {
   "cell_type": "code",
   "execution_count": 15,
   "id": "5fbc6522",
   "metadata": {
    "slideshow": {
     "slide_type": "fragment"
    }
   },
   "outputs": [],
   "source": [
    "ddd = {(2,3,5,7,9): 'prime', (1,4,6,8,10): 'non-prime'}"
   ]
  },
  {
   "cell_type": "code",
   "execution_count": 19,
   "id": "f90be2ca",
   "metadata": {
    "slideshow": {
     "slide_type": "fragment"
    }
   },
   "outputs": [
    {
     "data": {
      "text/plain": [
       "'prime'"
      ]
     },
     "execution_count": 19,
     "metadata": {},
     "output_type": "execute_result"
    }
   ],
   "source": [
    "ddd[(2,3,5,7,9)]"
   ]
  },
  {
   "cell_type": "markdown",
   "id": "f44d939f",
   "metadata": {
    "slideshow": {
     "slide_type": "slide"
    }
   },
   "source": [
    "## The order of the items is not preserved in Python\n",
    "* Dictionary elements are unordered\n",
    "* Two keys can map to the same value:"
   ]
  },
  {
   "cell_type": "code",
   "execution_count": 21,
   "id": "e2fe758e",
   "metadata": {
    "slideshow": {
     "slide_type": "fragment"
    }
   },
   "outputs": [],
   "source": [
    "dddd = {'Loquacious': 'Boss', 'Jacek': 'Boss'}"
   ]
  },
  {
   "cell_type": "code",
   "execution_count": 23,
   "id": "4f0bd28f",
   "metadata": {
    "slideshow": {
     "slide_type": "fragment"
    }
   },
   "outputs": [
    {
     "data": {
      "text/plain": [
       "True"
      ]
     },
     "execution_count": 23,
     "metadata": {},
     "output_type": "execute_result"
    }
   ],
   "source": [
    "dddd['Loquacious']==dddd['Jacek']"
   ]
  },
  {
   "cell_type": "markdown",
   "id": "4c18509f",
   "metadata": {
    "slideshow": {
     "slide_type": "slide"
    }
   },
   "source": [
    "## Dictionaries can be empty\n",
    "* ```dd={}``` creates an empty dictionary\n",
    "* We can then add items to the dictionary:"
   ]
  },
  {
   "cell_type": "code",
   "execution_count": 39,
   "id": "68d14b24",
   "metadata": {
    "slideshow": {
     "slide_type": "fragment"
    }
   },
   "outputs": [
    {
     "data": {
      "text/plain": [
       "{'one': 1, 'two': 2}"
      ]
     },
     "execution_count": 39,
     "metadata": {},
     "output_type": "execute_result"
    }
   ],
   "source": [
    "dd={}\n",
    "dd['one'] = 1\n",
    "dd['two'] = 2\n",
    "dd"
   ]
  },
  {
   "cell_type": "markdown",
   "id": "6427a1ff",
   "metadata": {
    "slideshow": {
     "slide_type": "fragment"
    }
   },
   "source": [
    "* ```dd.clear()``` removes all elements of a dictionary"
   ]
  },
  {
   "cell_type": "code",
   "execution_count": 40,
   "id": "03b0f9e8",
   "metadata": {
    "slideshow": {
     "slide_type": "fragment"
    }
   },
   "outputs": [
    {
     "data": {
      "text/plain": [
       "{}"
      ]
     },
     "execution_count": 40,
     "metadata": {},
     "output_type": "execute_result"
    }
   ],
   "source": [
    "dd.clear()\n",
    "dd"
   ]
  },
  {
   "cell_type": "markdown",
   "id": "37145832",
   "metadata": {
    "slideshow": {
     "slide_type": "slide"
    }
   },
   "source": [
    "## Iterating through a dictionary\n",
    "* The keyword ```items()``` allows you to iterate through all elements of a dictionary"
   ]
  },
  {
   "cell_type": "code",
   "execution_count": 112,
   "id": "8fd04c72",
   "metadata": {
    "slideshow": {
     "slide_type": "fragment"
    }
   },
   "outputs": [
    {
     "name": "stdout",
     "output_type": "stream",
     "text": [
      "one : 1\n",
      "two : 2\n",
      "three : 3\n"
     ]
    }
   ],
   "source": [
    "dd = {'one': 1, 'two': 2, 'three':3}\n",
    "for key, val in dd.items():\n",
    "    print(key, ':', val)"
   ]
  },
  {
   "cell_type": "markdown",
   "id": "c7b6277c",
   "metadata": {
    "slideshow": {
     "slide_type": "fragment"
    }
   },
   "source": [
    "* Notice above that ```items()``` returns a _tuple_\n",
    "* The first element of the tuple is the key, the second is the value"
   ]
  },
  {
   "cell_type": "markdown",
   "id": "f1f6aa22",
   "metadata": {
    "slideshow": {
     "slide_type": "slide"
    }
   },
   "source": [
    "## Adding dictionary values\n",
    "* Adding new elements to a dictionary is straightforward\n",
    "* Let's define a dictionary mapping American presidents to their presidential order"
   ]
  },
  {
   "cell_type": "code",
   "execution_count": 116,
   "id": "7312e54d",
   "metadata": {
    "slideshow": {
     "slide_type": "fragment"
    }
   },
   "outputs": [],
   "source": [
    "presidents = {'Washington': 1, 'Lincoln': 16, 'Obama': 44, 'Trump': 45}"
   ]
  },
  {
   "cell_type": "markdown",
   "id": "8e329bd2",
   "metadata": {
    "slideshow": {
     "slide_type": "fragment"
    }
   },
   "source": [
    "* Let's add the current president:"
   ]
  },
  {
   "cell_type": "code",
   "execution_count": 117,
   "id": "e75fbce0",
   "metadata": {
    "slideshow": {
     "slide_type": "fragment"
    }
   },
   "outputs": [
    {
     "data": {
      "text/plain": [
       "{'Washington': 1, 'Lincoln': 16, 'Obama': 44, 'Trump': 45, 'Biden': 46}"
      ]
     },
     "execution_count": 117,
     "metadata": {},
     "output_type": "execute_result"
    }
   ],
   "source": [
    "presidents['Biden']=46\n",
    "presidents"
   ]
  },
  {
   "cell_type": "markdown",
   "id": "681ad535",
   "metadata": {
    "slideshow": {
     "slide_type": "slide"
    }
   },
   "source": [
    "## Dictionary values can be overwritten\n",
    "* It is sometimes desirable to modify the value of a key-value pair\n",
    "* Let's randomly modify one of the values in our ```presidents``` dictionary:"
   ]
  },
  {
   "cell_type": "code",
   "execution_count": 118,
   "id": "b3bae9b8",
   "metadata": {
    "slideshow": {
     "slide_type": "fragment"
    }
   },
   "outputs": [
    {
     "data": {
      "text/plain": [
       "{'Washington': 1, 'Lincoln': 16, 'Obama': 44, 'Trump': [45, 47], 'Biden': 46}"
      ]
     },
     "execution_count": 118,
     "metadata": {},
     "output_type": "execute_result"
    }
   ],
   "source": [
    "presidents['Trump']=[45,47]\n",
    "presidents"
   ]
  },
  {
   "cell_type": "markdown",
   "id": "faa9661d",
   "metadata": {
    "slideshow": {
     "slide_type": "fragment"
    }
   },
   "source": [
    "* Notice that we've changed the type of ```presidents['Trump']``` from an integer to a list"
   ]
  },
  {
   "cell_type": "markdown",
   "id": "c3f0278e",
   "metadata": {
    "slideshow": {
     "slide_type": "slide"
    }
   },
   "source": [
    "## Dictionary elements can be removed\n",
    "* The ```pop()``` method allows you to remove a key-value pair from your dictionary"
   ]
  },
  {
   "cell_type": "code",
   "execution_count": 119,
   "id": "a6651ad9",
   "metadata": {
    "slideshow": {
     "slide_type": "fragment"
    }
   },
   "outputs": [
    {
     "data": {
      "text/plain": [
       "{'Washington': 1, 'Lincoln': 16, 'Obama': 44, 'Biden': 46}"
      ]
     },
     "execution_count": 119,
     "metadata": {},
     "output_type": "execute_result"
    }
   ],
   "source": [
    "presidents.pop('Trump') \n",
    "presidents"
   ]
  },
  {
   "cell_type": "markdown",
   "id": "bf91b1cb",
   "metadata": {
    "slideshow": {
     "slide_type": "slide"
    }
   },
   "source": [
    "## Checking whether a key exists with ```get()```\n",
    "* The ```get()``` method returns ```None``` if a key is non-existent"
   ]
  },
  {
   "cell_type": "code",
   "execution_count": 120,
   "id": "0f323d1b",
   "metadata": {
    "slideshow": {
     "slide_type": "fragment"
    }
   },
   "outputs": [
    {
     "name": "stdout",
     "output_type": "stream",
     "text": [
      "16\n"
     ]
    }
   ],
   "source": [
    "print(presidents.get('Lincoln'))"
   ]
  },
  {
   "cell_type": "code",
   "execution_count": 121,
   "id": "45cc1ccf",
   "metadata": {
    "slideshow": {
     "slide_type": "fragment"
    }
   },
   "outputs": [
    {
     "name": "stdout",
     "output_type": "stream",
     "text": [
      "None\n"
     ]
    }
   ],
   "source": [
    "print(presidents.get('Gore'))"
   ]
  },
  {
   "cell_type": "markdown",
   "id": "273620e4",
   "metadata": {
    "slideshow": {
     "slide_type": "slide"
    }
   },
   "source": [
    "## Checking whether a key exists with ```in```\n",
    "* A more common way of checking for the existence of a key is with the ```in``` keyword:"
   ]
  },
  {
   "cell_type": "code",
   "execution_count": 122,
   "id": "3b7e796d",
   "metadata": {
    "slideshow": {
     "slide_type": "fragment"
    }
   },
   "outputs": [
    {
     "name": "stdout",
     "output_type": "stream",
     "text": [
      "Gore was not a president\n",
      "Washington was president number 1\n",
      "Trump was not a president\n"
     ]
    }
   ],
   "source": [
    "candidates = ['Gore', 'Washington', 'Trump']\n",
    "\n",
    "for c in candidates:\n",
    "    if c in presidents:\n",
    "        print(c, \"was president number\", presidents[c])\n",
    "    else:\n",
    "        print(c, \"was not a president\")"
   ]
  },
  {
   "cell_type": "markdown",
   "id": "c9ace7e1",
   "metadata": {
    "slideshow": {
     "slide_type": "fragment"
    }
   },
   "source": [
    "* Make sure that you understand the logic and syntax inside the for loop body above"
   ]
  },
  {
   "cell_type": "markdown",
   "id": "291a6228",
   "metadata": {
    "slideshow": {
     "slide_type": "slide"
    }
   },
   "source": [
    "## Iterating through a dictionary's keys\n",
    "* Sometimes we only need to iterate through a dictionary's keys\n",
    "* This is accomplished with the ```keys()``` method:"
   ]
  },
  {
   "cell_type": "code",
   "execution_count": 123,
   "id": "06247d8c",
   "metadata": {
    "slideshow": {
     "slide_type": "fragment"
    }
   },
   "outputs": [
    {
     "name": "stdout",
     "output_type": "stream",
     "text": [
      "Washington was a president\n",
      "Lincoln was a president\n",
      "Obama was a president\n",
      "Biden was a president\n"
     ]
    }
   ],
   "source": [
    "for p in presidents.keys():\n",
    "    print(p, 'was a president')"
   ]
  },
  {
   "cell_type": "markdown",
   "id": "1a0a482e",
   "metadata": {
    "slideshow": {
     "slide_type": "fragment"
    }
   },
   "source": [
    "* We may also iterate through a dictionary's _values_ via the method ```values()```"
   ]
  },
  {
   "cell_type": "code",
   "execution_count": 124,
   "id": "380defbe",
   "metadata": {
    "slideshow": {
     "slide_type": "fragment"
    }
   },
   "outputs": [
    {
     "name": "stdout",
     "output_type": "stream",
     "text": [
      "1\n",
      "16\n",
      "44\n",
      "46\n"
     ]
    }
   ],
   "source": [
    "for v in presidents.values():\n",
    "    print(v)"
   ]
  },
  {
   "cell_type": "markdown",
   "id": "45049699",
   "metadata": {
    "slideshow": {
     "slide_type": "slide"
    }
   },
   "source": [
    "## Dictionary comprehensions\n",
    "* Dictionaries do not always have to generated manually!\n",
    "* _Dictionary comprehensions_ are a powerful feature for dynamically populating dictionaries\n",
    "* The syntax is analogous to what you saw for _list_ comprehensions"
   ]
  },
  {
   "cell_type": "markdown",
   "id": "2e50be1b",
   "metadata": {
    "slideshow": {
     "slide_type": "slide"
    }
   },
   "source": [
    "## Creating a dictionary of the perfect squares\n",
    "* To demonstrate dictionary comprehensions, let's create a dictionary mapping integers to their squared value:"
   ]
  },
  {
   "cell_type": "code",
   "execution_count": 126,
   "id": "69138732",
   "metadata": {
    "slideshow": {
     "slide_type": "fragment"
    }
   },
   "outputs": [],
   "source": [
    "dd = {number: number**2 for number in range(10)}"
   ]
  },
  {
   "cell_type": "markdown",
   "id": "dbb1a8eb",
   "metadata": {
    "slideshow": {
     "slide_type": "fragment"
    }
   },
   "source": [
    "* Let's inspect the dictionary:"
   ]
  },
  {
   "cell_type": "code",
   "execution_count": 127,
   "id": "c4b6afe9",
   "metadata": {
    "slideshow": {
     "slide_type": "fragment"
    }
   },
   "outputs": [
    {
     "data": {
      "text/plain": [
       "{0: 0, 1: 1, 2: 4, 3: 9, 4: 16, 5: 25, 6: 36, 7: 49, 8: 64, 9: 81}"
      ]
     },
     "execution_count": 127,
     "metadata": {},
     "output_type": "execute_result"
    }
   ],
   "source": [
    "dd"
   ]
  },
  {
   "cell_type": "markdown",
   "id": "30e67a66",
   "metadata": {
    "slideshow": {
     "slide_type": "fragment"
    }
   },
   "source": [
    "```number: number**2``` is the formula defining each dictionary element"
   ]
  },
  {
   "cell_type": "markdown",
   "id": "54b4af80",
   "metadata": {
    "slideshow": {
     "slide_type": "fragment"
    }
   },
   "source": [
    "```for number in range(10)``` tells Python which elements to include in our dictionary"
   ]
  },
  {
   "cell_type": "markdown",
   "id": "c1dd6cd1",
   "metadata": {
    "slideshow": {
     "slide_type": "slide"
    }
   },
   "source": [
    "* Let's recreate the dictionary but with _string_ keys:"
   ]
  },
  {
   "cell_type": "code",
   "execution_count": 128,
   "id": "7c796103",
   "metadata": {
    "slideshow": {
     "slide_type": "fragment"
    }
   },
   "outputs": [],
   "source": [
    "dd = {str(number): number**2 for number in range(10)}"
   ]
  },
  {
   "cell_type": "code",
   "execution_count": 129,
   "id": "469ccc78",
   "metadata": {
    "slideshow": {
     "slide_type": "fragment"
    }
   },
   "outputs": [
    {
     "data": {
      "text/plain": [
       "{'0': 0,\n",
       " '1': 1,\n",
       " '2': 4,\n",
       " '3': 9,\n",
       " '4': 16,\n",
       " '5': 25,\n",
       " '6': 36,\n",
       " '7': 49,\n",
       " '8': 64,\n",
       " '9': 81}"
      ]
     },
     "execution_count": 129,
     "metadata": {},
     "output_type": "execute_result"
    }
   ],
   "source": [
    "dd"
   ]
  },
  {
   "cell_type": "markdown",
   "id": "fe03258b",
   "metadata": {
    "slideshow": {
     "slide_type": "fragment"
    }
   },
   "source": [
    "* Notice that the keys now have string type"
   ]
  },
  {
   "cell_type": "markdown",
   "id": "82e32cda",
   "metadata": {
    "slideshow": {
     "slide_type": "slide"
    }
   },
   "source": [
    "## Sets\n",
    "* Sets are unordered values: like dictionaries, but without the keys\n",
    "* They are used less often than dictionaries, but are sometimes more appropriate\n",
    "* The syntax is consistent to that of dictionaries:"
   ]
  },
  {
   "cell_type": "code",
   "execution_count": 130,
   "id": "71abedb5",
   "metadata": {
    "slideshow": {
     "slide_type": "fragment"
    }
   },
   "outputs": [
    {
     "data": {
      "text/plain": [
       "{'Biden', 'Lincoln', 'Obama', 'Washington'}"
      ]
     },
     "execution_count": 130,
     "metadata": {},
     "output_type": "execute_result"
    }
   ],
   "source": [
    "presidents = {'Washington', 'Lincoln', 'Obama', 'Biden'}\n",
    "presidents"
   ]
  },
  {
   "cell_type": "markdown",
   "id": "38f0c7a7",
   "metadata": {
    "slideshow": {
     "slide_type": "slide"
    }
   },
   "source": [
    "## Determining the number of items in your set\n",
    "* ```len``` tells you the number of elements in your set:"
   ]
  },
  {
   "cell_type": "code",
   "execution_count": 78,
   "id": "358e84e9",
   "metadata": {
    "slideshow": {
     "slide_type": "fragment"
    }
   },
   "outputs": [
    {
     "data": {
      "text/plain": [
       "4"
      ]
     },
     "execution_count": 78,
     "metadata": {},
     "output_type": "execute_result"
    }
   ],
   "source": [
    "len(presidents)"
   ]
  },
  {
   "cell_type": "markdown",
   "id": "f037259b",
   "metadata": {
    "slideshow": {
     "slide_type": "fragment"
    }
   },
   "source": [
    "* ```in``` tells you whether an element is in a set:"
   ]
  },
  {
   "cell_type": "code",
   "execution_count": 79,
   "id": "64991023",
   "metadata": {
    "slideshow": {
     "slide_type": "fragment"
    }
   },
   "outputs": [
    {
     "data": {
      "text/plain": [
       "True"
      ]
     },
     "execution_count": 79,
     "metadata": {},
     "output_type": "execute_result"
    }
   ],
   "source": [
    "'Obama' in presidents"
   ]
  },
  {
   "cell_type": "markdown",
   "id": "708f31e3",
   "metadata": {
    "slideshow": {
     "slide_type": "slide"
    }
   },
   "source": [
    "## Iterating through a set\n",
    "* We iterate through sets in the same way as we did for dictionaries:"
   ]
  },
  {
   "cell_type": "code",
   "execution_count": 131,
   "id": "7e01c3df",
   "metadata": {
    "slideshow": {
     "slide_type": "fragment"
    }
   },
   "outputs": [
    {
     "name": "stdout",
     "output_type": "stream",
     "text": [
      "Obama was a president\n",
      "Biden was a president\n",
      "Lincoln was a president\n",
      "Washington was a president\n"
     ]
    }
   ],
   "source": [
    "for p in presidents:\n",
    "    print(p, \"was a president\")"
   ]
  },
  {
   "cell_type": "markdown",
   "id": "f9c79ad9",
   "metadata": {
    "slideshow": {
     "slide_type": "slide"
    }
   },
   "source": [
    "## Checking for subsets\n",
    "* A is said to be a _subset_ of B if every element of A is also in B\n",
    "* Python offers multiple ways for determining subset relations\n",
    "* Let's first create two sets:"
   ]
  },
  {
   "cell_type": "code",
   "execution_count": 132,
   "id": "b351ee3d",
   "metadata": {
    "slideshow": {
     "slide_type": "fragment"
    }
   },
   "outputs": [
    {
     "name": "stdout",
     "output_type": "stream",
     "text": [
      "The prime numbers are: {2, 3, 5, 7}\n",
      "The integers are: {0, 1, 2, 3, 4, 5, 6, 7, 8}\n"
     ]
    }
   ],
   "source": [
    "primes = {2,3,5,7} \n",
    "integers = set(range(9))\n",
    "print('The prime numbers are:', primes)\n",
    "print('The integers are:', integers)"
   ]
  },
  {
   "cell_type": "markdown",
   "id": "559f83c2",
   "metadata": {
    "slideshow": {
     "slide_type": "fragment"
    }
   },
   "source": [
    "* Notice that ```set(range(9))``` casts ```range(9)``` to a ```set``` type:"
   ]
  },
  {
   "cell_type": "code",
   "execution_count": 133,
   "id": "82c2a082",
   "metadata": {
    "slideshow": {
     "slide_type": "fragment"
    }
   },
   "outputs": [
    {
     "data": {
      "text/plain": [
       "set"
      ]
     },
     "execution_count": 133,
     "metadata": {},
     "output_type": "execute_result"
    }
   ],
   "source": [
    "type(integers) "
   ]
  },
  {
   "cell_type": "code",
   "execution_count": 134,
   "id": "12bbcc0c",
   "metadata": {
    "slideshow": {
     "slide_type": "slide"
    }
   },
   "outputs": [
    {
     "name": "stdout",
     "output_type": "stream",
     "text": [
      "The primes are a subset of the integers\n"
     ]
    }
   ],
   "source": [
    "if primes < integers:\n",
    "    print('The primes are a subset of the integers')\n",
    "else:\n",
    "    print('The primes are not a subset of the integers')"
   ]
  },
  {
   "cell_type": "code",
   "execution_count": 135,
   "id": "986104e1",
   "metadata": {
    "slideshow": {
     "slide_type": "fragment"
    }
   },
   "outputs": [
    {
     "name": "stdout",
     "output_type": "stream",
     "text": [
      "The primes are a subset of the integers\n"
     ]
    }
   ],
   "source": [
    "if primes.issubset(integers):\n",
    "    print('The primes are a subset of the integers')\n",
    "else:\n",
    "    print('The primes are not a subset of the integers')"
   ]
  },
  {
   "cell_type": "markdown",
   "id": "e1afde98",
   "metadata": {
    "slideshow": {
     "slide_type": "slide"
    }
   },
   "source": [
    "## Set operations\n",
    "* It is commonly required to combine two sets\n",
    "* The _union_ of set A and set B is a set containing all elements that are in A _or_ B\n",
    "* The ```union()``` method implements this operation to produce a new, combined set: "
   ]
  },
  {
   "cell_type": "code",
   "execution_count": 136,
   "id": "5e312ef2",
   "metadata": {
    "slideshow": {
     "slide_type": "fragment"
    }
   },
   "outputs": [
    {
     "name": "stdout",
     "output_type": "stream",
     "text": [
      "The integers are: {1, 2, 3, 4, 5, 6, 7, 8, 9, 10}\n"
     ]
    }
   ],
   "source": [
    "evens = {2,4,6,8,10}\n",
    "odds = {1,3,5,7,9}\n",
    "integers = evens.union(odds)\n",
    "print(\"The integers are:\", integers)"
   ]
  },
  {
   "cell_type": "markdown",
   "id": "f4463022",
   "metadata": {
    "slideshow": {
     "slide_type": "fragment"
    }
   },
   "source": [
    "* We can also call the method ```union()``` on the ```odds``` object:"
   ]
  },
  {
   "cell_type": "code",
   "execution_count": 99,
   "id": "dbe3e9fd",
   "metadata": {
    "slideshow": {
     "slide_type": "fragment"
    }
   },
   "outputs": [
    {
     "name": "stdout",
     "output_type": "stream",
     "text": [
      "The integers are: {1, 2, 3, 4, 5, 6, 7, 8, 9, 10}\n"
     ]
    }
   ],
   "source": [
    "integers = odds.union(evens)\n",
    "print(\"The integers are:\", integers)"
   ]
  },
  {
   "cell_type": "markdown",
   "id": "ff74a6c0",
   "metadata": {
    "slideshow": {
     "slide_type": "slide"
    }
   },
   "source": [
    "## The ```intersection()``` outputs all elements that are in _both_ input sets:"
   ]
  },
  {
   "cell_type": "code",
   "execution_count": 137,
   "id": "b475049d",
   "metadata": {
    "slideshow": {
     "slide_type": "fragment"
    }
   },
   "outputs": [
    {
     "name": "stdout",
     "output_type": "stream",
     "text": [
      "The even prime numbers are: {2}\n"
     ]
    }
   ],
   "source": [
    "evens = {2,4,6,8,10}\n",
    "primes = {2,3,5,7}\n",
    "print('The even prime numbers are:', evens.intersection(primes))"
   ]
  },
  {
   "cell_type": "markdown",
   "id": "cb9723a4",
   "metadata": {
    "slideshow": {
     "slide_type": "slide"
    }
   },
   "source": [
    "## The ```difference()``` outputs all elements that are in one set but not the second:"
   ]
  },
  {
   "cell_type": "code",
   "execution_count": 138,
   "id": "248265b4",
   "metadata": {
    "slideshow": {
     "slide_type": "fragment"
    }
   },
   "outputs": [
    {
     "name": "stdout",
     "output_type": "stream",
     "text": [
      "The difference between evens and primes is: {8, 10, 4, 6}\n"
     ]
    }
   ],
   "source": [
    "evens = {2,4,6,8,10}\n",
    "primes = {2,3,5,7}\n",
    "print('The difference between evens and primes is:', evens.difference(primes))"
   ]
  },
  {
   "cell_type": "markdown",
   "id": "c7e1d5d0",
   "metadata": {
    "slideshow": {
     "slide_type": "fragment"
    }
   },
   "source": [
    "* Notice that sets are unordered!\n",
    "* You can verify this with the ```==``` operator:"
   ]
  },
  {
   "cell_type": "code",
   "execution_count": 139,
   "id": "7ed04a9d",
   "metadata": {
    "slideshow": {
     "slide_type": "fragment"
    }
   },
   "outputs": [
    {
     "data": {
      "text/plain": [
       "True"
      ]
     },
     "execution_count": 139,
     "metadata": {},
     "output_type": "execute_result"
    }
   ],
   "source": [
    "{4,6,8,10} == {8,10,4,6}"
   ]
  },
  {
   "cell_type": "markdown",
   "id": "a832aaba",
   "metadata": {
    "slideshow": {
     "slide_type": "slide"
    }
   },
   "source": [
    "## Adding and removing set elements\n",
    "* The functions ```add()``` and ```remove``` allow you to add and remove elements to sets:"
   ]
  },
  {
   "cell_type": "code",
   "execution_count": 140,
   "id": "bcee5dd7",
   "metadata": {
    "slideshow": {
     "slide_type": "fragment"
    }
   },
   "outputs": [
    {
     "data": {
      "text/plain": [
       "{2, 3, 5, 7, 9, 11}"
      ]
     },
     "execution_count": 140,
     "metadata": {},
     "output_type": "execute_result"
    }
   ],
   "source": [
    "primes={2,3,5,7}\n",
    "primes.add(9)\n",
    "primes.add(11)\n",
    "primes"
   ]
  },
  {
   "cell_type": "code",
   "execution_count": 141,
   "id": "2762bb4e",
   "metadata": {
    "slideshow": {
     "slide_type": "fragment"
    }
   },
   "outputs": [
    {
     "data": {
      "text/plain": [
       "{2, 3, 5, 7, 9}"
      ]
     },
     "execution_count": 141,
     "metadata": {},
     "output_type": "execute_result"
    }
   ],
   "source": [
    "primes.remove(11)\n",
    "primes"
   ]
  },
  {
   "cell_type": "markdown",
   "id": "059b7d66",
   "metadata": {
    "slideshow": {
     "slide_type": "slide"
    }
   },
   "source": [
    "## Set comprehensions\n",
    "* Sets can be created dynamically with _set comprehension_:"
   ]
  },
  {
   "cell_type": "code",
   "execution_count": 142,
   "id": "3b706c8f",
   "metadata": {
    "slideshow": {
     "slide_type": "fragment"
    }
   },
   "outputs": [],
   "source": [
    "evens = {number for number in range(1,11) if (number%2)==0}"
   ]
  },
  {
   "cell_type": "code",
   "execution_count": 143,
   "id": "26d678b4",
   "metadata": {
    "slideshow": {
     "slide_type": "fragment"
    }
   },
   "outputs": [
    {
     "data": {
      "text/plain": [
       "{2, 4, 6, 8, 10}"
      ]
     },
     "execution_count": 143,
     "metadata": {},
     "output_type": "execute_result"
    }
   ],
   "source": [
    "evens"
   ]
  },
  {
   "cell_type": "markdown",
   "id": "4afc1e76",
   "metadata": {
    "slideshow": {
     "slide_type": "fragment"
    }
   },
   "source": [
    "* ```number``` specifies the identity of each set element\n",
    "* The iterable ```for number in range(1,11)``` tells Python which numbers to add to our dynamic set\n",
    "* The conditional ```if (number%2)==0``` tells Python to exclude any number that divides evenly into 2 "
   ]
  }
 ],
 "metadata": {
  "celltoolbar": "Slideshow",
  "kernelspec": {
   "display_name": "Python 3",
   "language": "python",
   "name": "python3"
  },
  "language_info": {
   "codemirror_mode": {
    "name": "ipython",
    "version": 3
   },
   "file_extension": ".py",
   "mimetype": "text/x-python",
   "name": "python",
   "nbconvert_exporter": "python",
   "pygments_lexer": "ipython3",
   "version": "3.8.8"
  },
  "varInspector": {
   "cols": {
    "lenName": 16,
    "lenType": 16,
    "lenVar": 40
   },
   "kernels_config": {
    "python": {
     "delete_cmd_postfix": "",
     "delete_cmd_prefix": "del ",
     "library": "var_list.py",
     "varRefreshCmd": "print(var_dic_list())"
    },
    "r": {
     "delete_cmd_postfix": ") ",
     "delete_cmd_prefix": "rm(",
     "library": "var_list.r",
     "varRefreshCmd": "cat(var_dic_list()) "
    }
   },
   "types_to_exclude": [
    "module",
    "function",
    "builtin_function_or_method",
    "instance",
    "_Feature"
   ],
   "window_display": false
  }
 },
 "nbformat": 4,
 "nbformat_minor": 5
}
