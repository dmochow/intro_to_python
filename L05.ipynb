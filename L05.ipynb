{
 "cells": [
  {
   "cell_type": "markdown",
   "id": "914b5180",
   "metadata": {
    "slideshow": {
     "slide_type": "slide"
    }
   },
   "source": [
    "##  <center>Lecture 5</center> \n",
    "  ##     <center>Lists and tuples</center>\n"
   ]
  },
  {
   "cell_type": "markdown",
   "id": "59b2e689",
   "metadata": {
    "slideshow": {
     "slide_type": "slide"
    }
   },
   "source": [
    "## Collections\n",
    "* Lists and tuples are _collections_: sets of related elements of data\n",
    "* Lists and tuples are two of the most common type of _data structures_ in Python\n",
    "* Lists are modifiable: they can be resized dynamically\n",
    "* Tuples are not modifiable: once created, the tuple remains its current size\n"
   ]
  },
  {
   "cell_type": "markdown",
   "id": "9fd2dc88",
   "metadata": {
    "slideshow": {
     "slide_type": "slide"
    }
   },
   "source": [
    "## Lists\n",
    "* Lists often store homogeneous data elements\n",
    "* However, they _can_ hold different types of data"
   ]
  },
  {
   "cell_type": "code",
   "execution_count": 3,
   "id": "ce024e2e",
   "metadata": {
    "slideshow": {
     "slide_type": "fragment"
    }
   },
   "outputs": [
    {
     "name": "stdout",
     "output_type": "stream",
     "text": [
      "[3, -1, 5, -2, 0] \n",
      " ['Loquacious', 1234, 'D', -1234, 'in da house']\n"
     ]
    }
   ],
   "source": [
    "my_list = [3, -1, 5, -2, 0] # a homogeneous list\n",
    "my_other_list = ['Loquacious', 1234, 'D', -1234, 'in da house'] # a non-homogeneous list\n",
    "print(my_list, '\\n', my_other_list)"
   ]
  },
  {
   "cell_type": "markdown",
   "id": "d41e8f4e",
   "metadata": {
    "slideshow": {
     "slide_type": "slide"
    }
   },
   "source": [
    "### List elements are accessed with ```[]``` \n",
    "\n",
    "* Individual list elements are obtained by _indexing_\n",
    "* The first element would be ```my_list[0]```"
   ]
  },
  {
   "cell_type": "code",
   "execution_count": 9,
   "id": "bd407a4a",
   "metadata": {
    "slideshow": {
     "slide_type": "fragment"
    }
   },
   "outputs": [
    {
     "name": "stdout",
     "output_type": "stream",
     "text": [
      "my_list[0]: 3\n",
      "my_other_list[1]: 1234\n"
     ]
    }
   ],
   "source": [
    "my_list = [3, -1, 5, -2, 0] # a homogeneous list\n",
    "my_other_list = ['Loquacious', 1234, 'D', -1234, 'in da house'] # a non-homogeneous list\n",
    "\n",
    "print('my_list[0]:', my_list[0])\n",
    "print('my_other_list[1]:', my_other_list[1])"
   ]
  },
  {
   "cell_type": "markdown",
   "id": "7786e879",
   "metadata": {
    "slideshow": {
     "slide_type": "fragment"
    }
   },
   "source": [
    "* Make sure that you understand why the elements ```3``` and ```1234``` were displayed above"
   ]
  },
  {
   "cell_type": "markdown",
   "id": "d19e9ae0",
   "metadata": {
    "slideshow": {
     "slide_type": "slide"
    }
   },
   "source": [
    "## Computing the length of a list with ```len```\n",
    "* The ```len``` function returns the length of a list"
   ]
  },
  {
   "cell_type": "code",
   "execution_count": 10,
   "id": "67349ad0",
   "metadata": {
    "slideshow": {
     "slide_type": "fragment"
    }
   },
   "outputs": [
    {
     "name": "stdout",
     "output_type": "stream",
     "text": [
      "The length of my_list is: 5\n"
     ]
    }
   ],
   "source": [
    "my_list = [3, -1, 5, -2, 0] \n",
    "print('The length of my_list is', len(my_list))"
   ]
  },
  {
   "cell_type": "markdown",
   "id": "c0d9d692",
   "metadata": {
    "slideshow": {
     "slide_type": "slide"
    }
   },
   "source": [
    "## Obtaining the _last_ element of list\n",
    "* Python gives you convenient access to the last element of a list with the index ```-1```"
   ]
  },
  {
   "cell_type": "code",
   "execution_count": 11,
   "id": "2142fc22",
   "metadata": {
    "slideshow": {
     "slide_type": "fragment"
    }
   },
   "outputs": [
    {
     "name": "stdout",
     "output_type": "stream",
     "text": [
      "The last element of my_other_list is in da house\n"
     ]
    }
   ],
   "source": [
    "my_other_list = ['Loquacious', 1234, 'D', -1234, 'in da house'] \n",
    "print('The last element of my_other_list is', my_other_list[-1])"
   ]
  },
  {
   "cell_type": "markdown",
   "id": "99e582cb",
   "metadata": {
    "slideshow": {
     "slide_type": "fragment"
    }
   },
   "source": [
    "* The second last element is given by the index ```-2```\n",
    "* The third last element is given by the index ```-3```\n",
    "* and so forth\n",
    "* NB: list indices must be integers!"
   ]
  },
  {
   "cell_type": "code",
   "execution_count": 12,
   "id": "4239420f",
   "metadata": {
    "slideshow": {
     "slide_type": "fragment"
    }
   },
   "outputs": [
    {
     "name": "stdout",
     "output_type": "stream",
     "text": [
      "The second last element of my_list is -2\n",
      "The third last element of my_list is 5\n"
     ]
    }
   ],
   "source": [
    "my_list = [3, -1, 5, -2, 0] \n",
    "print(\"The second last element of my_list is\", my_list[-2])\n",
    "print(\"The third last element of my_list is\", my_list[-3])"
   ]
  },
  {
   "cell_type": "markdown",
   "id": "c5ea2b69",
   "metadata": {
    "slideshow": {
     "slide_type": "slide"
    }
   },
   "source": [
    "## Lists are _mutable_\n",
    "* This means that you can easily modify the elements of a list"
   ]
  },
  {
   "cell_type": "code",
   "execution_count": 14,
   "id": "85572bca",
   "metadata": {
    "slideshow": {
     "slide_type": "fragment"
    }
   },
   "outputs": [
    {
     "name": "stdout",
     "output_type": "stream",
     "text": [
      "Before modifying the last element: [3, -1, 5, -2, 0]\n",
      "After modifying the last element: [3, -1, 5, -2, 7]\n"
     ]
    }
   ],
   "source": [
    "my_list = [3, -1, 5, -2, 0] \n",
    "print('Before modifying the last element:', my_list)\n",
    "my_list[-1] = 7 \n",
    "print('After modifying the last element:', my_list)"
   ]
  },
  {
   "cell_type": "markdown",
   "id": "7c17fc39",
   "metadata": {
    "slideshow": {
     "slide_type": "slide"
    }
   },
   "source": [
    "## Out of range errors are common\n",
    "* One of the most common type of errors in Python results when trying to access an element of a list that exceeds the list's length"
   ]
  },
  {
   "cell_type": "code",
   "execution_count": 16,
   "id": "f2095f8c",
   "metadata": {
    "slideshow": {
     "slide_type": "fragment"
    }
   },
   "outputs": [
    {
     "ename": "IndexError",
     "evalue": "list index out of range",
     "output_type": "error",
     "traceback": [
      "\u001b[0;31m---------------------------------------------------------------------------\u001b[0m",
      "\u001b[0;31mIndexError\u001b[0m                                Traceback (most recent call last)",
      "\u001b[0;32m<ipython-input-16-d839b37a2496>\u001b[0m in \u001b[0;36m<module>\u001b[0;34m\u001b[0m\n\u001b[1;32m      1\u001b[0m \u001b[0mmy_other_list\u001b[0m \u001b[0;34m=\u001b[0m \u001b[0;34m[\u001b[0m\u001b[0;34m'Loquacious'\u001b[0m\u001b[0;34m,\u001b[0m \u001b[0;36m1234\u001b[0m\u001b[0;34m,\u001b[0m \u001b[0;34m'D'\u001b[0m\u001b[0;34m,\u001b[0m \u001b[0;34m-\u001b[0m\u001b[0;36m1234\u001b[0m\u001b[0;34m,\u001b[0m \u001b[0;34m'in da house'\u001b[0m\u001b[0;34m]\u001b[0m\u001b[0;34m\u001b[0m\u001b[0;34m\u001b[0m\u001b[0m\n\u001b[0;32m----> 2\u001b[0;31m \u001b[0mprint\u001b[0m\u001b[0;34m(\u001b[0m\u001b[0;34m'The 6th element of my_other_list is'\u001b[0m\u001b[0;34m,\u001b[0m \u001b[0mmy_other_list\u001b[0m\u001b[0;34m[\u001b[0m\u001b[0;36m5\u001b[0m\u001b[0;34m]\u001b[0m\u001b[0;34m)\u001b[0m\u001b[0;34m\u001b[0m\u001b[0;34m\u001b[0m\u001b[0m\n\u001b[0m",
      "\u001b[0;31mIndexError\u001b[0m: list index out of range"
     ]
    }
   ],
   "source": [
    "my_other_list = ['Loquacious', 1234, 'D', -1234, 'in da house'] \n",
    "print('The 6th element of my_other_list is', my_other_list[5])"
   ]
  },
  {
   "cell_type": "markdown",
   "id": "b1ead00f",
   "metadata": {
    "slideshow": {
     "slide_type": "slide"
    }
   },
   "source": [
    "## Appending a list with ```+=```\n",
    "* The ```+=``` operator may be used to grow a list in a loop"
   ]
  },
  {
   "cell_type": "code",
   "execution_count": 1,
   "id": "efda38c6",
   "metadata": {
    "slideshow": {
     "slide_type": "fragment"
    }
   },
   "outputs": [
    {
     "name": "stdout",
     "output_type": "stream",
     "text": [
      "[1, 2, 3, 4, 5, 6, 7, 8, 9]\n"
     ]
    }
   ],
   "source": [
    "my_list = [] # creates an empty list\n",
    "for index in range(1,10):\n",
    "    my_list += [index]\n",
    "    \n",
    "print(my_list)"
   ]
  },
  {
   "cell_type": "markdown",
   "id": "75c530f0",
   "metadata": {
    "slideshow": {
     "slide_type": "fragment"
    }
   },
   "source": [
    "* Note the use of the square brackets in the loop body\n",
    "    * ```[index]``` is a one element list that is being appended to ```my_list```"
   ]
  },
  {
   "cell_type": "markdown",
   "id": "84841630",
   "metadata": {
    "slideshow": {
     "slide_type": "slide"
    }
   },
   "source": [
    "## Concatenating lists with ```+```\n",
    "* Lists can be merged with the ```+``` operator"
   ]
  },
  {
   "cell_type": "code",
   "execution_count": 21,
   "id": "b501741b",
   "metadata": {
    "slideshow": {
     "slide_type": "fragment"
    }
   },
   "outputs": [
    {
     "name": "stdout",
     "output_type": "stream",
     "text": [
      "['Loquacious D', 'is keeping it real']\n"
     ]
    }
   ],
   "source": [
    "list_1 = ['Loquacious D']\n",
    "list_2 = ['is keeping it real']\n",
    "list_3 = list_1 + list_2\n",
    "print(list_3)"
   ]
  },
  {
   "cell_type": "markdown",
   "id": "16ed039f",
   "metadata": {
    "slideshow": {
     "slide_type": "slide"
    }
   },
   "source": [
    "## Looping through the elements of a list with ```for``` and ```range```\n",
    "* One of the most common type of operations in programming is performing some operation on all elements of a container\n",
    "* Python makes this convenient with its loop syntax"
   ]
  },
  {
   "cell_type": "code",
   "execution_count": 26,
   "id": "74a3c8a7",
   "metadata": {
    "slideshow": {
     "slide_type": "fragment"
    }
   },
   "outputs": [
    {
     "name": "stdout",
     "output_type": "stream",
     "text": [
      "Fibonacci element 0 is: 0\n",
      "Fibonacci element 1 is: 1\n",
      "Fibonacci element 2 is: 1\n",
      "Fibonacci element 3 is: 2\n",
      "Fibonacci element 4 is: 3\n",
      "Fibonacci element 5 is: 5\n",
      "Fibonacci element 6 is: 8\n",
      "Fibonacci element 7 is: 13\n",
      "Fibonacci element 8 is: 21\n",
      "Fibonacci element 9 is: 34\n"
     ]
    }
   ],
   "source": [
    "my_list = [0,1,1,2,3,5,8,13,21,34]\n",
    "for i in range(len(my_list)):\n",
    "    print(my_list[i])"
   ]
  },
  {
   "cell_type": "markdown",
   "id": "3841181b",
   "metadata": {
    "slideshow": {
     "slide_type": "slide"
    }
   },
   "source": [
    "## Tuples are _immutable_ containers\n",
    "* This means that the length of a tuple cannot change during program execution\n",
    "* Tuples often store heterogenous data, but may hold items of the same type\n",
    "* Tuples are identified with parentheses ```()```"
   ]
  },
  {
   "cell_type": "code",
   "execution_count": 28,
   "id": "2eeaf364",
   "metadata": {
    "slideshow": {
     "slide_type": "fragment"
    }
   },
   "outputs": [
    {
     "name": "stdout",
     "output_type": "stream",
     "text": [
      "('Loquacious', 'D', 43)\n"
     ]
    }
   ],
   "source": [
    "my_tuple = ('Loquacious', 'D', 43)\n",
    "print(my_tuple)"
   ]
  },
  {
   "cell_type": "code",
   "execution_count": 29,
   "id": "ed3c15bd",
   "metadata": {
    "slideshow": {
     "slide_type": "fragment"
    }
   },
   "outputs": [
    {
     "name": "stdout",
     "output_type": "stream",
     "text": [
      "('The', 'Loquacious', 'One')\n",
      "The length of my_other_tuple is 3\n"
     ]
    }
   ],
   "source": [
    "my_other_tuple = 'The', 'Loquacious', 'One'\n",
    "print(my_other_tuple)\n",
    "print('The length of my_other_tuple is', len(my_other_tuple))"
   ]
  },
  {
   "cell_type": "markdown",
   "id": "b48e6bf7",
   "metadata": {
    "slideshow": {
     "slide_type": "slide"
    }
   },
   "source": [
    "## Accessing the elements of a tuple is achieved with indexing (just like a list)"
   ]
  },
  {
   "cell_type": "code",
   "execution_count": 31,
   "id": "1d83ed1b",
   "metadata": {
    "slideshow": {
     "slide_type": "fragment"
    }
   },
   "outputs": [
    {
     "name": "stdout",
     "output_type": "stream",
     "text": [
      "The third element of my_tuple is 43\n",
      "The fifth element of my tuple is 170\n"
     ]
    }
   ],
   "source": [
    "my_tuple = ('Loquacious', 'D', 43, '5.10', 170 )\n",
    "print('The third element of my_tuple is', my_tuple[2])\n",
    "print('The fifth element of my tuple is', my_tuple[4])"
   ]
  },
  {
   "cell_type": "markdown",
   "id": "49ca2ae9",
   "metadata": {
    "slideshow": {
     "slide_type": "slide"
    }
   },
   "source": [
    "## Appending elements to a tuple produces a _new_ tuple"
   ]
  },
  {
   "cell_type": "code",
   "execution_count": 32,
   "id": "fa2fc200",
   "metadata": {},
   "outputs": [
    {
     "name": "stdout",
     "output_type": "stream",
     "text": [
      "my_tuple (1, 2, 3, 4, 5)\n"
     ]
    }
   ],
   "source": [
    "my_tuple = (1, 2, 3)\n",
    "my_tuple += (4, 5)\n",
    "print('my_tuple', my_tuple)"
   ]
  },
  {
   "cell_type": "markdown",
   "id": "ad349397",
   "metadata": {
    "slideshow": {
     "slide_type": "slide"
    }
   },
   "source": [
    "## Tuples may contain lists in their elements\n",
    "* Consider the following heterogeneous tuple:"
   ]
  },
  {
   "cell_type": "code",
   "execution_count": 33,
   "id": "9a465dcb",
   "metadata": {
    "slideshow": {
     "slide_type": "fragment"
    }
   },
   "outputs": [],
   "source": [
    "my_tuple = ['abc', 'def', [7,8,9]]"
   ]
  },
  {
   "cell_type": "markdown",
   "id": "31891aea",
   "metadata": {
    "slideshow": {
     "slide_type": "fragment"
    }
   },
   "source": [
    "* The third element of the tuple is a list"
   ]
  },
  {
   "cell_type": "code",
   "execution_count": 35,
   "id": "792ccc5b",
   "metadata": {
    "slideshow": {
     "slide_type": "fragment"
    }
   },
   "outputs": [
    {
     "data": {
      "text/plain": [
       "list"
      ]
     },
     "execution_count": 35,
     "metadata": {},
     "output_type": "execute_result"
    }
   ],
   "source": [
    "type(my_tuple[2])"
   ]
  },
  {
   "cell_type": "markdown",
   "id": "0d3d5197",
   "metadata": {
    "slideshow": {
     "slide_type": "fragment"
    }
   },
   "source": [
    "* We can obtain the last element of this list via _chained indexing_"
   ]
  },
  {
   "cell_type": "code",
   "execution_count": 36,
   "id": "8f47e983",
   "metadata": {
    "slideshow": {
     "slide_type": "fragment"
    }
   },
   "outputs": [
    {
     "name": "stdout",
     "output_type": "stream",
     "text": [
      "The last element of my_tuple[2] 9\n"
     ]
    }
   ],
   "source": [
    "print('The last element of my_tuple[2] is:', my_tuple[2][-1])"
   ]
  },
  {
   "cell_type": "markdown",
   "id": "3a15cee8",
   "metadata": {
    "slideshow": {
     "slide_type": "slide"
    }
   },
   "source": [
    "## Unpacking the elements of lists or tuples\n",
    "* We can obtain all elements of a sequence with the following syntax:"
   ]
  },
  {
   "cell_type": "code",
   "execution_count": 38,
   "id": "757d242b",
   "metadata": {
    "slideshow": {
     "slide_type": "fragment"
    }
   },
   "outputs": [
    {
     "name": "stdout",
     "output_type": "stream",
     "text": [
      "The first element of my_tuple is abc\n",
      "The second element of my_tuple is def\n",
      "The third element of my_tuple is [7, 8, 9]\n"
     ]
    }
   ],
   "source": [
    "my_tuple = ['abc', 'def', [7,8,9]]\n",
    "element1, element2, element3 = my_tuple\n",
    "print('The first element of my_tuple is', element1)\n",
    "print('The second element of my_tuple is', element2)\n",
    "print('The third element of my_tuple is', element3)"
   ]
  },
  {
   "cell_type": "markdown",
   "id": "9340dbf0",
   "metadata": {
    "slideshow": {
     "slide_type": "slide"
    }
   },
   "source": [
    "## The ```enumerate``` function\n",
    "* Python's built-in ```enumerate``` function makes it easy to obtain the indices and values of a list or tuple\n",
    "* The function produces an iterator that can be converted into a list:"
   ]
  },
  {
   "cell_type": "code",
   "execution_count": 44,
   "id": "838f478b",
   "metadata": {
    "slideshow": {
     "slide_type": "fragment"
    }
   },
   "outputs": [
    {
     "name": "stdout",
     "output_type": "stream",
     "text": [
      "[(0, 0), (1, 1), (2, 1), (3, 2), (4, 3), (5, 5), (6, 8)]\n"
     ]
    }
   ],
   "source": [
    "fibonacci = [0, 1, 1, 2, 3, 5, 8]\n",
    "my_list = list(enumerate(fibonacci))  # the list keyword converts the iterator to a list type\n",
    "print(my_list)"
   ]
  },
  {
   "cell_type": "markdown",
   "id": "5151f8f4",
   "metadata": {
    "slideshow": {
     "slide_type": "fragment"
    }
   },
   "source": [
    "* Q: What are the meanings of the first and second elements of each tuple above? "
   ]
  },
  {
   "cell_type": "markdown",
   "id": "feb86a21",
   "metadata": {
    "slideshow": {
     "slide_type": "slide"
    }
   },
   "source": [
    "* The following ```for``` loop iterates through our sequence and outputs both indices and values"
   ]
  },
  {
   "cell_type": "code",
   "execution_count": 48,
   "id": "933c1d06",
   "metadata": {
    "slideshow": {
     "slide_type": "fragment"
    }
   },
   "outputs": [
    {
     "name": "stdout",
     "output_type": "stream",
     "text": [
      "index = 0 ; value = 0\n",
      "index = 1 ; value = 1\n",
      "index = 2 ; value = 1\n",
      "index = 3 ; value = 2\n",
      "index = 4 ; value = 3\n",
      "index = 5 ; value = 5\n",
      "index = 6 ; value = 8\n"
     ]
    }
   ],
   "source": [
    "for index, value in enumerate(fibonacci):\n",
    "    print('index =', index, '; value =', value)"
   ]
  },
  {
   "cell_type": "markdown",
   "id": "80e1ae0e",
   "metadata": {
    "slideshow": {
     "slide_type": "slide"
    }
   },
   "source": [
    "## Introduction to slicing\n",
    "* It is often required to access a _subset_ of a sequence\n",
    "* This operation is known in programming as _slicing_\n",
    "* Python makes it easy to access only some elements of a list or tuple"
   ]
  },
  {
   "cell_type": "code",
   "execution_count": 49,
   "id": "b2ca099d",
   "metadata": {
    "slideshow": {
     "slide_type": "fragment"
    }
   },
   "outputs": [
    {
     "name": "stdout",
     "output_type": "stream",
     "text": [
      "The first 3 fibonacci numbers are: [0, 1, 1]\n",
      "The next 3 fibonacci numbers are: [2, 3, 5]\n"
     ]
    }
   ],
   "source": [
    "fibonacci = [0, 1, 1, 2, 3, 5, 8]\n",
    "first_3 = fibonacci[0:3]\n",
    "next_3 = fibonacci[3:6]\n",
    "print('The first 3 fibonacci numbers are:', first_3)\n",
    "print('The next 3 fibonacci numbers are:', next_3)"
   ]
  },
  {
   "cell_type": "markdown",
   "id": "fdd78acc",
   "metadata": {
    "slideshow": {
     "slide_type": "slide"
    }
   },
   "source": [
    "* Some convenient slicing syntax:"
   ]
  },
  {
   "cell_type": "code",
   "execution_count": 50,
   "id": "3b4c3b16",
   "metadata": {
    "slideshow": {
     "slide_type": "fragment"
    }
   },
   "outputs": [
    {
     "name": "stdout",
     "output_type": "stream",
     "text": [
      "[0, 1, 1]\n"
     ]
    }
   ],
   "source": [
    "fibonacci = [0, 1, 1, 2, 3, 5, 8]\n",
    "first_3 = fibonacci[:3]\n",
    "print(first_3)"
   ]
  },
  {
   "cell_type": "code",
   "execution_count": 51,
   "id": "5b6bf8c3",
   "metadata": {
    "slideshow": {
     "slide_type": "fragment"
    }
   },
   "outputs": [
    {
     "name": "stdout",
     "output_type": "stream",
     "text": [
      "[2, 3, 5, 8]\n"
     ]
    }
   ],
   "source": [
    "after_first_3 = fibonacci[3:]\n",
    "print(after_first_3)"
   ]
  },
  {
   "cell_type": "code",
   "execution_count": 52,
   "id": "69a5ba98",
   "metadata": {
    "slideshow": {
     "slide_type": "fragment"
    }
   },
   "outputs": [
    {
     "name": "stdout",
     "output_type": "stream",
     "text": [
      "[0, 1, 1, 2, 3, 5, 8]\n"
     ]
    }
   ],
   "source": [
    "all_elements = fibonacci[:]\n",
    "print(all_elements)"
   ]
  },
  {
   "cell_type": "markdown",
   "id": "c247f29b",
   "metadata": {
    "slideshow": {
     "slide_type": "slide"
    }
   },
   "source": [
    "## Slicing with step sizes\n",
    "* Python allows you to access every other element of list:"
   ]
  },
  {
   "cell_type": "code",
   "execution_count": 57,
   "id": "132af257",
   "metadata": {
    "slideshow": {
     "slide_type": "fragment"
    }
   },
   "outputs": [
    {
     "name": "stdout",
     "output_type": "stream",
     "text": [
      "[0, 1, 3, 8]\n"
     ]
    }
   ],
   "source": [
    "fibonacci = [0, 1, 1, 2, 3, 5, 8]\n",
    "print(fibonacci[::2])"
   ]
  },
  {
   "cell_type": "markdown",
   "id": "a9ebedbc",
   "metadata": {
    "slideshow": {
     "slide_type": "fragment"
    }
   },
   "source": [
    "* The first ```:``` indicates that we do not specify the starting point\n",
    "* The second ```:``` indicates that we do not specify the ending point\n",
    "* The ```2``` indicates that we want to grab every second element\n",
    "* An equivalent way of grabbing every second element:"
   ]
  },
  {
   "cell_type": "code",
   "execution_count": 59,
   "id": "b19c9f6e",
   "metadata": {},
   "outputs": [
    {
     "data": {
      "text/plain": [
       "[0, 1, 3, 8]"
      ]
     },
     "execution_count": 59,
     "metadata": {},
     "output_type": "execute_result"
    }
   ],
   "source": [
    "fibonacci[0:len(fibonacci):2]"
   ]
  },
  {
   "cell_type": "markdown",
   "id": "136805b9",
   "metadata": {
    "slideshow": {
     "slide_type": "slide"
    }
   },
   "source": [
    "## Slicing in reverse order\n",
    "* It is sometimes useful to iterate in _reverse_ order\n",
    "* Python makes this easy with negative step sizes:"
   ]
  },
  {
   "cell_type": "code",
   "execution_count": 63,
   "id": "c4684d22",
   "metadata": {
    "slideshow": {
     "slide_type": "fragment"
    }
   },
   "outputs": [
    {
     "name": "stdout",
     "output_type": "stream",
     "text": [
      "[8, 5, 3, 2, 1, 1, 0]\n"
     ]
    }
   ],
   "source": [
    "fibonacci = [0, 1, 1, 2, 3, 5, 8]\n",
    "print(fibonacci[::-1])"
   ]
  },
  {
   "cell_type": "markdown",
   "id": "66de1f64",
   "metadata": {
    "slideshow": {
     "slide_type": "fragment"
    }
   },
   "source": [
    "* The above syntax is equivalent to the more explicit form:"
   ]
  },
  {
   "cell_type": "code",
   "execution_count": 64,
   "id": "6dffba49",
   "metadata": {
    "slideshow": {
     "slide_type": "fragment"
    }
   },
   "outputs": [
    {
     "data": {
      "text/plain": [
       "[8, 5, 3, 2, 1, 1]"
      ]
     },
     "execution_count": 64,
     "metadata": {},
     "output_type": "execute_result"
    }
   ],
   "source": [
    "fibonacci[-1:-7:-1]"
   ]
  },
  {
   "cell_type": "markdown",
   "id": "81436dd4",
   "metadata": {
    "slideshow": {
     "slide_type": "fragment"
    }
   },
   "source": [
    "* Make sure that you understand the meaning of the syntax above"
   ]
  },
  {
   "cell_type": "markdown",
   "id": "c2ef3723",
   "metadata": {
    "slideshow": {
     "slide_type": "slide"
    }
   },
   "source": [
    "## Modifying lists with slicing\n",
    "* Slicing operations allow you to modify the contents of lists\n",
    "* The following snippet removes the last two elements of our fibonacci list"
   ]
  },
  {
   "cell_type": "code",
   "execution_count": 68,
   "id": "3e76d98f",
   "metadata": {
    "slideshow": {
     "slide_type": "fragment"
    }
   },
   "outputs": [
    {
     "name": "stdout",
     "output_type": "stream",
     "text": [
      "Before modification: [0, 1, 1, 2, 3, 5, 8]\n"
     ]
    }
   ],
   "source": [
    "fibonacci = [0, 1, 1, 2, 3, 5, 8]\n",
    "print(\"Before modification:\", fibonacci)"
   ]
  },
  {
   "cell_type": "code",
   "execution_count": 69,
   "id": "e5d7ab91",
   "metadata": {
    "slideshow": {
     "slide_type": "fragment"
    }
   },
   "outputs": [
    {
     "name": "stdout",
     "output_type": "stream",
     "text": [
      "After modification: [0, 1, 1, 2, 3]\n"
     ]
    }
   ],
   "source": [
    "fibonacci[5:7] = []\n",
    "print(\"After modification:\", fibonacci)"
   ]
  },
  {
   "cell_type": "markdown",
   "id": "1feeec9d",
   "metadata": {
    "slideshow": {
     "slide_type": "slide"
    }
   },
   "source": [
    "## Overwriting list elements\n",
    "* Let's convert every second element of the fibonacci sequence to a _string_"
   ]
  },
  {
   "cell_type": "code",
   "execution_count": 74,
   "id": "ca57ab12",
   "metadata": {
    "slideshow": {
     "slide_type": "fragment"
    }
   },
   "outputs": [
    {
     "name": "stdout",
     "output_type": "stream",
     "text": [
      "Before ovewriting: [0, 1, 1, 2, 3, 5, 8]\n"
     ]
    }
   ],
   "source": [
    "fibonacci = [0, 1, 1, 2, 3, 5, 8]\n",
    "print('Before ovewriting:', fibonacci)"
   ]
  },
  {
   "cell_type": "code",
   "execution_count": 76,
   "id": "6b626749",
   "metadata": {
    "slideshow": {
     "slide_type": "fragment"
    }
   },
   "outputs": [
    {
     "name": "stdout",
     "output_type": "stream",
     "text": [
      "After ovewriting: ['Zero', 1, 'One', 2, 'Three', 5, 'Eight']\n"
     ]
    }
   ],
   "source": [
    "fibonacci[::2]=['Zero','One', 'Three', 'Eight']\n",
    "print('After ovewriting:', fibonacci)"
   ]
  },
  {
   "cell_type": "markdown",
   "id": "41910db7",
   "metadata": {
    "slideshow": {
     "slide_type": "slide"
    }
   },
   "source": [
    "## Deleting a list's contents entirely\n",
    "* One can assign a list to ```[]``` to clear all of its elements"
   ]
  },
  {
   "cell_type": "code",
   "execution_count": 77,
   "id": "59b2d9e1",
   "metadata": {
    "slideshow": {
     "slide_type": "fragment"
    }
   },
   "outputs": [
    {
     "data": {
      "text/plain": [
       "[]"
      ]
     },
     "execution_count": 77,
     "metadata": {},
     "output_type": "execute_result"
    }
   ],
   "source": [
    "fibonacci[:]=[]\n",
    "fibonacci"
   ]
  },
  {
   "cell_type": "markdown",
   "id": "946cbcfb",
   "metadata": {
    "slideshow": {
     "slide_type": "slide"
    }
   },
   "source": [
    "## The ```del``` operator\n",
    "* Python's built-in ```del``` operator can clear list elements or entire variables"
   ]
  },
  {
   "cell_type": "code",
   "execution_count": 83,
   "id": "99c26332",
   "metadata": {
    "slideshow": {
     "slide_type": "fragment"
    }
   },
   "outputs": [
    {
     "name": "stdout",
     "output_type": "stream",
     "text": [
      "[1, 2, 5]\n"
     ]
    }
   ],
   "source": [
    "fibonacci = [0, 1, 1, 2, 3, 5, 8]\n",
    "del fibonacci[::2]\n",
    "print(fibonacci)"
   ]
  },
  {
   "cell_type": "code",
   "execution_count": 84,
   "id": "02173c45",
   "metadata": {
    "slideshow": {
     "slide_type": "fragment"
    }
   },
   "outputs": [
    {
     "ename": "NameError",
     "evalue": "name 'fibonacci' is not defined",
     "output_type": "error",
     "traceback": [
      "\u001b[0;31m---------------------------------------------------------------------------\u001b[0m",
      "\u001b[0;31mNameError\u001b[0m                                 Traceback (most recent call last)",
      "\u001b[0;32m<ipython-input-84-e1642f6c0e94>\u001b[0m in \u001b[0;36m<module>\u001b[0;34m\u001b[0m\n\u001b[1;32m      1\u001b[0m \u001b[0;32mdel\u001b[0m \u001b[0mfibonacci\u001b[0m\u001b[0;34m\u001b[0m\u001b[0;34m\u001b[0m\u001b[0m\n\u001b[0;32m----> 2\u001b[0;31m \u001b[0mprint\u001b[0m\u001b[0;34m(\u001b[0m\u001b[0mfibonacci\u001b[0m\u001b[0;34m)\u001b[0m\u001b[0;34m\u001b[0m\u001b[0;34m\u001b[0m\u001b[0m\n\u001b[0m",
      "\u001b[0;31mNameError\u001b[0m: name 'fibonacci' is not defined"
     ]
    }
   ],
   "source": [
    "del fibonacci\n",
    "print(fibonacci)"
   ]
  },
  {
   "cell_type": "markdown",
   "id": "0a7db6cb",
   "metadata": {
    "slideshow": {
     "slide_type": "slide"
    }
   },
   "source": [
    "## Lists can be passed to functions\n",
    "* Consider the following function that squares every element of its input list"
   ]
  },
  {
   "cell_type": "code",
   "execution_count": 100,
   "id": "33fb25c2",
   "metadata": {
    "slideshow": {
     "slide_type": "fragment"
    }
   },
   "outputs": [],
   "source": [
    "def square_each_element(my_list):\n",
    "    for i in range(len(my_list)):\n",
    "        my_list[i] = my_list[i]**2\n",
    "    return my_list"
   ]
  },
  {
   "cell_type": "markdown",
   "id": "e7b4d2e3",
   "metadata": {
    "slideshow": {
     "slide_type": "fragment"
    }
   },
   "source": [
    "* Let's call this function on the fibonacci sequence"
   ]
  },
  {
   "cell_type": "code",
   "execution_count": 102,
   "id": "f72fb632",
   "metadata": {
    "slideshow": {
     "slide_type": "fragment"
    }
   },
   "outputs": [
    {
     "name": "stdout",
     "output_type": "stream",
     "text": [
      "[0, 1, 1, 4, 9, 25, 64]\n"
     ]
    }
   ],
   "source": [
    "fibonacci = [0, 1, 1, 2, 3, 5, 8]\n",
    "square_each_element(fibonacci)\n",
    "print(fibonacci)"
   ]
  },
  {
   "cell_type": "markdown",
   "id": "32df7087",
   "metadata": {
    "slideshow": {
     "slide_type": "fragment"
    }
   },
   "source": [
    "* Note that our function modified the original list\n",
    "* It did _not_ create a new list with squared values\n",
    "* This is because of Python's passing _by reference_"
   ]
  },
  {
   "cell_type": "markdown",
   "id": "d84e00ba",
   "metadata": {
    "slideshow": {
     "slide_type": "slide"
    }
   },
   "source": [
    "## Sorting a list\n",
    "* Arranging the elements of a list in either ascending or descending order is a common computational step\n",
    "* Python provides the built-in method ```sort``` to accomplish this task"
   ]
  },
  {
   "cell_type": "code",
   "execution_count": 111,
   "id": "7887868c",
   "metadata": {
    "slideshow": {
     "slide_type": "fragment"
    }
   },
   "outputs": [
    {
     "name": "stdout",
     "output_type": "stream",
     "text": [
      "[12, 23, 34, 45, 56]\n"
     ]
    }
   ],
   "source": [
    "my_list = [45, 34, 12, 23, 56]\n",
    "my_list.sort()\n",
    "print(my_list)"
   ]
  },
  {
   "cell_type": "markdown",
   "id": "0799a279",
   "metadata": {
    "slideshow": {
     "slide_type": "fragment"
    }
   },
   "source": [
    "* We can sort in descending order via the argument ```reverse```"
   ]
  },
  {
   "cell_type": "code",
   "execution_count": 112,
   "id": "2b0bd3ea",
   "metadata": {
    "slideshow": {
     "slide_type": "fragment"
    }
   },
   "outputs": [
    {
     "name": "stdout",
     "output_type": "stream",
     "text": [
      "[56, 45, 34, 23, 12]\n"
     ]
    }
   ],
   "source": [
    "my_list.sort(reverse=True)\n",
    "print(my_list)"
   ]
  },
  {
   "cell_type": "markdown",
   "id": "10dab2f4",
   "metadata": {
    "slideshow": {
     "slide_type": "fragment"
    }
   },
   "source": [
    "Q: From the above, what is the default value of the argument ```reverse```?"
   ]
  },
  {
   "cell_type": "markdown",
   "id": "84432c03",
   "metadata": {
    "slideshow": {
     "slide_type": "slide"
    }
   },
   "source": [
    "* If we want to obtain a copy of a list with its elements sorted, we can use the function ```sorted```"
   ]
  },
  {
   "cell_type": "code",
   "execution_count": 110,
   "id": "9975fe80",
   "metadata": {
    "slideshow": {
     "slide_type": "fragment"
    }
   },
   "outputs": [
    {
     "name": "stdout",
     "output_type": "stream",
     "text": [
      "[12, 23, 34, 45, 56]\n"
     ]
    }
   ],
   "source": [
    "my_list = [45, 34, 12, 23, 56]\n",
    "my_sorted_list = sorted(my_list)\n",
    "print(my_sorted_list)"
   ]
  },
  {
   "cell_type": "markdown",
   "id": "0f59ad72",
   "metadata": {
    "slideshow": {
     "slide_type": "fragment"
    }
   },
   "source": [
    "* Note that the manner in which ```sort()``` is called is different from that of ```sorted()```"
   ]
  },
  {
   "cell_type": "code",
   "execution_count": 113,
   "id": "c739c62d",
   "metadata": {
    "slideshow": {
     "slide_type": "fragment"
    }
   },
   "outputs": [],
   "source": [
    "my_list.sort() # modifies my_list\n",
    "my_sorted_list = sorted(my_list) # makes a new list and assigns it to my_sorted_list"
   ]
  },
  {
   "cell_type": "markdown",
   "id": "6114f3a9",
   "metadata": {
    "slideshow": {
     "slide_type": "slide"
    }
   },
   "source": [
    "## Searching a list\n",
    "* It is often required to _locate_ a certain value in a list\n",
    "* The ```index``` method allows you to find a specified value in your data"
   ]
  },
  {
   "cell_type": "code",
   "execution_count": 115,
   "id": "574be6d8",
   "metadata": {
    "slideshow": {
     "slide_type": "fragment"
    }
   },
   "outputs": [
    {
     "data": {
      "text/plain": [
       "4"
      ]
     },
     "execution_count": 115,
     "metadata": {},
     "output_type": "execute_result"
    }
   ],
   "source": [
    "fibonacci = [0, 1, 1, 2, 3, 5, 8]\n",
    "fibonacci.index(3) # locate the element whose value is 3"
   ]
  },
  {
   "cell_type": "markdown",
   "id": "d0de617b",
   "metadata": {
    "slideshow": {
     "slide_type": "fragment"
    }
   },
   "source": [
    "* If there are multiple matching elements, ```index``` returns only the first one"
   ]
  },
  {
   "cell_type": "code",
   "execution_count": 116,
   "id": "da0abcaf",
   "metadata": {
    "slideshow": {
     "slide_type": "fragment"
    }
   },
   "outputs": [
    {
     "data": {
      "text/plain": [
       "1"
      ]
     },
     "execution_count": 116,
     "metadata": {},
     "output_type": "execute_result"
    }
   ],
   "source": [
    "fibonacci.index(1)"
   ]
  },
  {
   "cell_type": "markdown",
   "id": "c2bb91cb",
   "metadata": {
    "slideshow": {
     "slide_type": "fragment"
    }
   },
   "source": [
    "* We can specify the starting point of the search with the second argument to ```index```"
   ]
  },
  {
   "cell_type": "code",
   "execution_count": 119,
   "id": "8e49bea0",
   "metadata": {
    "slideshow": {
     "slide_type": "fragment"
    }
   },
   "outputs": [
    {
     "data": {
      "text/plain": [
       "2"
      ]
     },
     "execution_count": 119,
     "metadata": {},
     "output_type": "execute_result"
    }
   ],
   "source": [
    "fibonacci.index(1,2) # the 2 refers to the _starting_ index of the search"
   ]
  },
  {
   "cell_type": "markdown",
   "id": "ba5dc189",
   "metadata": {
    "slideshow": {
     "slide_type": "slide"
    }
   },
   "source": [
    "* We can also specify the _ending_ index of the search"
   ]
  },
  {
   "cell_type": "code",
   "execution_count": 120,
   "id": "0d1d679b",
   "metadata": {
    "slideshow": {
     "slide_type": "fragment"
    }
   },
   "outputs": [
    {
     "data": {
      "text/plain": [
       "2"
      ]
     },
     "execution_count": 120,
     "metadata": {},
     "output_type": "execute_result"
    }
   ],
   "source": [
    "fibonacci.index(1,2,len(fibonacci)-1) # search from indices 2 to 5"
   ]
  },
  {
   "cell_type": "markdown",
   "id": "e253b1e8",
   "metadata": {
    "slideshow": {
     "slide_type": "slide"
    }
   },
   "source": [
    "## The operator ```in``` \n",
    "* The operator ```in``` tests whether a certain value is in a list"
   ]
  },
  {
   "cell_type": "code",
   "execution_count": 123,
   "id": "f06b75c2",
   "metadata": {
    "slideshow": {
     "slide_type": "fragment"
    }
   },
   "outputs": [
    {
     "name": "stdout",
     "output_type": "stream",
     "text": [
      "True\n"
     ]
    }
   ],
   "source": [
    "fibonacci = [0, 1, 1, 2, 3, 5, 8]\n",
    "is_5_in_list = 5 in fibonacci\n",
    "print(is_5_in_list)"
   ]
  },
  {
   "cell_type": "code",
   "execution_count": 124,
   "id": "7dbe1d0e",
   "metadata": {
    "slideshow": {
     "slide_type": "fragment"
    }
   },
   "outputs": [
    {
     "name": "stdout",
     "output_type": "stream",
     "text": [
      "False\n"
     ]
    }
   ],
   "source": [
    "is_6_in_list = 6 in fibonacci\n",
    "print(is_6_in_list)"
   ]
  },
  {
   "cell_type": "markdown",
   "id": "93dfbfff",
   "metadata": {
    "slideshow": {
     "slide_type": "slide"
    }
   },
   "source": [
    "## Adding or removing elements to a list\n",
    "* The methods ```insert``` or ```remove``` allow you to add or subtract items to a list\n",
    "* Let's add a leading ```-1``` to our Fibonacci sequence"
   ]
  },
  {
   "cell_type": "code",
   "execution_count": 126,
   "id": "1f7e86a5",
   "metadata": {
    "slideshow": {
     "slide_type": "fragment"
    }
   },
   "outputs": [
    {
     "data": {
      "text/plain": [
       "[-1, 0, 1, 1, 2, 3, 5, 8]"
      ]
     },
     "execution_count": 126,
     "metadata": {},
     "output_type": "execute_result"
    }
   ],
   "source": [
    "fibonacci = [0, 1, 1, 2, 3, 5, 8]\n",
    "fibonacci.insert(0,-1)\n",
    "fibonacci"
   ]
  },
  {
   "cell_type": "markdown",
   "id": "5fe075ab",
   "metadata": {
    "slideshow": {
     "slide_type": "fragment"
    }
   },
   "source": [
    "* Let's add a ```-1``` after the second last element"
   ]
  },
  {
   "cell_type": "code",
   "execution_count": 129,
   "id": "ab64704d",
   "metadata": {
    "slideshow": {
     "slide_type": "fragment"
    }
   },
   "outputs": [
    {
     "data": {
      "text/plain": [
       "[0, 1, 1, 2, 3, 5, -1, 8]"
      ]
     },
     "execution_count": 129,
     "metadata": {},
     "output_type": "execute_result"
    }
   ],
   "source": [
    "fibonacci = [0, 1, 1, 2, 3, 5, 8]\n",
    "fibonacci.insert(-1,-1)\n",
    "fibonacci"
   ]
  },
  {
   "cell_type": "markdown",
   "id": "1715d9f8",
   "metadata": {
    "slideshow": {
     "slide_type": "slide"
    }
   },
   "source": [
    "* ```append``` allows you to insert a value to the end of a list"
   ]
  },
  {
   "cell_type": "code",
   "execution_count": null,
   "id": "cc9c042b",
   "metadata": {
    "slideshow": {
     "slide_type": "fragment"
    }
   },
   "outputs": [],
   "source": [
    "fibonacci = [0, 1, 1, 2, 3, 5, 8]\n",
    "fibonacci.append(-1,-1)\n",
    "fibonacci"
   ]
  },
  {
   "cell_type": "markdown",
   "id": "8e194018",
   "metadata": {
    "slideshow": {
     "slide_type": "slide"
    }
   },
   "source": [
    "## List comprehensions replace for loops with single lines of code\n",
    "* Let's create a list with the first 10 integers using a ```for``` loop"
   ]
  },
  {
   "cell_type": "code",
   "execution_count": 139,
   "id": "6eb32afc",
   "metadata": {
    "slideshow": {
     "slide_type": "fragment"
    }
   },
   "outputs": [
    {
     "name": "stdout",
     "output_type": "stream",
     "text": [
      "[1, 2, 3, 4, 5, 6, 7, 8, 9, 10]\n"
     ]
    }
   ],
   "source": [
    "my_list = []\n",
    "for i in range(1,11):\n",
    "    my_list.append(i)\n",
    "print(my_list)"
   ]
  },
  {
   "cell_type": "markdown",
   "id": "e3581d85",
   "metadata": {
    "slideshow": {
     "slide_type": "fragment"
    }
   },
   "source": [
    "* This operation may be written with so-called _list comprehension_"
   ]
  },
  {
   "cell_type": "code",
   "execution_count": 140,
   "id": "ecc352d5",
   "metadata": {
    "slideshow": {
     "slide_type": "fragment"
    }
   },
   "outputs": [
    {
     "name": "stdout",
     "output_type": "stream",
     "text": [
      "[1, 2, 3, 4, 5, 6, 7, 8, 9, 10]\n"
     ]
    }
   ],
   "source": [
    "my_list = [i for i in range(1,11)]\n",
    "print(my_list)"
   ]
  },
  {
   "cell_type": "markdown",
   "id": "0431c84d",
   "metadata": {
    "slideshow": {
     "slide_type": "fragment"
    }
   },
   "source": [
    "* The first ```i``` specifies the action to take in each iteration\n",
    "    * here, this action is simply to assign ```i``` to the next element of ```my_list```"
   ]
  },
  {
   "cell_type": "markdown",
   "id": "f40024d1",
   "metadata": {
    "slideshow": {
     "slide_type": "slide"
    }
   },
   "source": [
    "* We can use list comprehension to perform arbitrary operations on each list element\n",
    "* The snippet below creates a list with the first 10 perfect squares"
   ]
  },
  {
   "cell_type": "code",
   "execution_count": 144,
   "id": "09aeb069",
   "metadata": {
    "slideshow": {
     "slide_type": "fragment"
    }
   },
   "outputs": [
    {
     "name": "stdout",
     "output_type": "stream",
     "text": [
      "[1, 4, 9, 16, 25, 36, 49, 64, 81, 100]\n"
     ]
    }
   ],
   "source": [
    "my_list = [i**2 for i in range(1,11)]\n",
    "print(my_list)"
   ]
  },
  {
   "cell_type": "markdown",
   "id": "9a37bd0f",
   "metadata": {
    "slideshow": {
     "slide_type": "fragment"
    }
   },
   "source": [
    "* We can also add conditions to the list comprehension\n",
    "* Let's skip the odd numbers when computing the square:"
   ]
  },
  {
   "cell_type": "code",
   "execution_count": 145,
   "id": "8c66768c",
   "metadata": {
    "slideshow": {
     "slide_type": "fragment"
    }
   },
   "outputs": [
    {
     "name": "stdout",
     "output_type": "stream",
     "text": [
      "[4, 16, 36, 64, 100]\n"
     ]
    }
   ],
   "source": [
    "my_list = [i**2 for i in range(1,11) if i%2==0]\n",
    "print(my_list)"
   ]
  },
  {
   "cell_type": "markdown",
   "id": "0805ee93",
   "metadata": {
    "slideshow": {
     "slide_type": "slide"
    }
   },
   "source": [
    "## The ```filter``` function\n",
    "* We can pass functions to operate on list elements via the ```filter``` function\n",
    "* Let's create a function that tells us whether the input is an even number:"
   ]
  },
  {
   "cell_type": "code",
   "execution_count": 4,
   "id": "ebd84f5b",
   "metadata": {
    "slideshow": {
     "slide_type": "fragment"
    }
   },
   "outputs": [],
   "source": [
    "def is_even(x):\n",
    "    return (x%2)==0"
   ]
  },
  {
   "cell_type": "markdown",
   "id": "09116498",
   "metadata": {
    "slideshow": {
     "slide_type": "fragment"
    }
   },
   "source": [
    "* It is good practice to always _test_ your functions before deploying them"
   ]
  },
  {
   "cell_type": "code",
   "execution_count": 7,
   "id": "19709947",
   "metadata": {
    "slideshow": {
     "slide_type": "fragment"
    }
   },
   "outputs": [
    {
     "name": "stdout",
     "output_type": "stream",
     "text": [
      "41 is even: False\n",
      "42 is even: True\n",
      "43 is even: False\n",
      "44 is even: True\n"
     ]
    }
   ],
   "source": [
    "for i in [41,42,43,44]:\n",
    "    print(i, 'is even:', is_even(i))"
   ]
  },
  {
   "cell_type": "markdown",
   "id": "56d8d598",
   "metadata": {
    "slideshow": {
     "slide_type": "slide"
    }
   },
   "source": [
    "* Let's use this newly created function with ```filter``` to compute the squares of the even integers"
   ]
  },
  {
   "cell_type": "code",
   "execution_count": 8,
   "id": "18a5130e",
   "metadata": {
    "slideshow": {
     "slide_type": "fragment"
    }
   },
   "outputs": [
    {
     "data": {
      "text/plain": [
       "[2, 4, 6, 8, 10]"
      ]
     },
     "execution_count": 8,
     "metadata": {},
     "output_type": "execute_result"
    }
   ],
   "source": [
    "list(filter(is_even,range(1,11)))"
   ]
  },
  {
   "cell_type": "markdown",
   "id": "d6de3290",
   "metadata": {
    "slideshow": {
     "slide_type": "slide"
    }
   },
   "source": [
    "## The lambda expression\n",
    "* The ```lambda``` keyword allows you to define functions _inline_\n",
    "* This allows you to avoid having many ```def``` blocks in your code:"
   ]
  },
  {
   "cell_type": "code",
   "execution_count": 2,
   "id": "8b099cf3",
   "metadata": {
    "slideshow": {
     "slide_type": "fragment"
    }
   },
   "outputs": [
    {
     "data": {
      "text/plain": [
       "[2, 4, 6, 8, 10]"
      ]
     },
     "execution_count": 2,
     "metadata": {},
     "output_type": "execute_result"
    }
   ],
   "source": [
    "list(filter(lambda x: (x%2)==0 , range(1,11)))"
   ]
  },
  {
   "cell_type": "markdown",
   "id": "f3b533f3",
   "metadata": {
    "slideshow": {
     "slide_type": "fragment"
    }
   },
   "source": [
    "```lambda x: (x%2)==0``` is an entire _function_"
   ]
  },
  {
   "cell_type": "markdown",
   "id": "9ac5fb3c",
   "metadata": {
    "slideshow": {
     "slide_type": "slide"
    }
   },
   "source": [
    "## Two-dimensional lists\n",
    "* List elements can themselves be lists\n",
    "* This allows you to store _tables_ as two-dimensional lists: lists of lists\n",
    "* Consider storing the integers 1 through 9 as a 2-D list"
   ]
  },
  {
   "cell_type": "code",
   "execution_count": 11,
   "id": "7816bb75",
   "metadata": {
    "slideshow": {
     "slide_type": "fragment"
    }
   },
   "outputs": [
    {
     "data": {
      "text/plain": [
       "[[1, 2, 3], [4, 5, 6], [7, 8, 9]]"
      ]
     },
     "execution_count": 11,
     "metadata": {},
     "output_type": "execute_result"
    }
   ],
   "source": [
    "my_2d_list = [[1,2,3], [4,5,6], [7,8,9]]\n",
    "my_2d_list"
   ]
  },
  {
   "cell_type": "markdown",
   "id": "c344a80e",
   "metadata": {
    "slideshow": {
     "slide_type": "fragment"
    }
   },
   "source": [
    "* We can construct our two-dimensional list in the following equivalent way:"
   ]
  },
  {
   "cell_type": "code",
   "execution_count": 19,
   "id": "d5dc87b0",
   "metadata": {
    "slideshow": {
     "slide_type": "fragment"
    }
   },
   "outputs": [
    {
     "data": {
      "text/plain": [
       "[[1, 2, 3], [4, 5, 6], [7, 8, 9]]"
      ]
     },
     "execution_count": 19,
     "metadata": {},
     "output_type": "execute_result"
    }
   ],
   "source": [
    "my_2d_list[0] = [1,2,3]\n",
    "my_2d_list[1] = [4,5,6]\n",
    "my_2d_list[2] = [7,8,9]\n",
    "my_2d_list"
   ]
  },
  {
   "cell_type": "markdown",
   "id": "af32ef16",
   "metadata": {
    "slideshow": {
     "slide_type": "slide"
    }
   },
   "source": [
    "## Two-dimensional list indexing\n",
    "* We can access individual _rows_ of the 2d list:"
   ]
  },
  {
   "cell_type": "code",
   "execution_count": 12,
   "id": "0610c974",
   "metadata": {
    "slideshow": {
     "slide_type": "fragment"
    }
   },
   "outputs": [
    {
     "data": {
      "text/plain": [
       "[1, 2, 3]"
      ]
     },
     "execution_count": 12,
     "metadata": {},
     "output_type": "execute_result"
    }
   ],
   "source": [
    "my_2d_list[0]"
   ]
  },
  {
   "cell_type": "markdown",
   "id": "e3147c34",
   "metadata": {
    "slideshow": {
     "slide_type": "fragment"
    }
   },
   "source": [
    "* We can also grab individual elements, for example the element at row index 1 and column index 2:"
   ]
  },
  {
   "cell_type": "code",
   "execution_count": 20,
   "id": "85bbcce6",
   "metadata": {
    "slideshow": {
     "slide_type": "fragment"
    }
   },
   "outputs": [
    {
     "data": {
      "text/plain": [
       "6"
      ]
     },
     "execution_count": 20,
     "metadata": {},
     "output_type": "execute_result"
    }
   ],
   "source": [
    "my_2d_list[1][2] # row index 1, column index 2"
   ]
  },
  {
   "cell_type": "markdown",
   "id": "aec10e0a",
   "metadata": {
    "slideshow": {
     "slide_type": "fragment"
    }
   },
   "source": [
    "* Let's grab the last two columns of the last row"
   ]
  },
  {
   "cell_type": "code",
   "execution_count": 22,
   "id": "c0fc1033",
   "metadata": {
    "slideshow": {
     "slide_type": "fragment"
    }
   },
   "outputs": [
    {
     "data": {
      "text/plain": [
       "[5, 6]"
      ]
     },
     "execution_count": 22,
     "metadata": {},
     "output_type": "execute_result"
    }
   ],
   "source": [
    "my_2d_list[1][1:3]"
   ]
  }
 ],
 "metadata": {
  "celltoolbar": "Slideshow",
  "kernelspec": {
   "display_name": "Python 3",
   "language": "python",
   "name": "python3"
  },
  "language_info": {
   "codemirror_mode": {
    "name": "ipython",
    "version": 3
   },
   "file_extension": ".py",
   "mimetype": "text/x-python",
   "name": "python",
   "nbconvert_exporter": "python",
   "pygments_lexer": "ipython3",
   "version": "3.8.8"
  },
  "varInspector": {
   "cols": {
    "lenName": 16,
    "lenType": 16,
    "lenVar": 40
   },
   "kernels_config": {
    "python": {
     "delete_cmd_postfix": "",
     "delete_cmd_prefix": "del ",
     "library": "var_list.py",
     "varRefreshCmd": "print(var_dic_list())"
    },
    "r": {
     "delete_cmd_postfix": ") ",
     "delete_cmd_prefix": "rm(",
     "library": "var_list.r",
     "varRefreshCmd": "cat(var_dic_list()) "
    }
   },
   "types_to_exclude": [
    "module",
    "function",
    "builtin_function_or_method",
    "instance",
    "_Feature"
   ],
   "window_display": false
  }
 },
 "nbformat": 4,
 "nbformat_minor": 5
}
